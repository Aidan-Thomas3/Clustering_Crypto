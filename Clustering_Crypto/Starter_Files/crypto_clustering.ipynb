{
 "cells": [
  {
   "cell_type": "markdown",
   "metadata": {},
   "source": [
    "# Clustering Crypto"
   ]
  },
  {
   "cell_type": "code",
   "execution_count": 325,
   "metadata": {},
   "outputs": [],
   "source": [
    "# Initial imports\n",
    "import requests\n",
    "import pandas as pd\n",
    "import matplotlib.pyplot as plt\n",
    "import hvplot.pandas\n",
    "import plotly.express as px\n",
    "from sklearn.preprocessing import StandardScaler, MinMaxScaler\n",
    "from sklearn.decomposition import PCA\n",
    "from sklearn.cluster import KMeans"
   ]
  },
  {
   "cell_type": "markdown",
   "metadata": {},
   "source": [
    "### Fetching Cryptocurrency Data"
   ]
  },
  {
   "cell_type": "code",
   "execution_count": 326,
   "metadata": {},
   "outputs": [
    {
     "name": "stdout",
     "output_type": "stream",
     "text": [
      "<class 'pandas.core.frame.DataFrame'>\n",
      "RangeIndex: 1252 entries, 0 to 1251\n",
      "Data columns (total 7 columns):\n",
      " #   Column           Non-Null Count  Dtype  \n",
      "---  ------           --------------  -----  \n",
      " 0   Unnamed: 0       1252 non-null   object \n",
      " 1   CoinName         1252 non-null   object \n",
      " 2   Algorithm        1252 non-null   object \n",
      " 3   IsTrading        1252 non-null   bool   \n",
      " 4   ProofType        1252 non-null   object \n",
      " 5   TotalCoinsMined  744 non-null    float64\n",
      " 6   TotalCoinSupply  1252 non-null   object \n",
      "dtypes: bool(1), float64(1), object(5)\n",
      "memory usage: 60.0+ KB\n"
     ]
    }
   ],
   "source": [
    "# Alternatively, use the provided csv file:\n",
    "path = \"Resources/crypto_data.csv\"\n",
    "crypto_df = pd.read_csv(path)\n",
    "crypto_df.info()"
   ]
  },
  {
   "cell_type": "markdown",
   "metadata": {},
   "source": [
    "### Data Preprocessing"
   ]
  },
  {
   "cell_type": "code",
   "execution_count": 327,
   "metadata": {},
   "outputs": [],
   "source": [
    "# Keep only necessary columns:\n",
    "# 'CoinName','Algorithm','IsTrading','ProofType','TotalCoinsMined','TotalCoinSupply'\n",
    "crypto_df = crypto_df.drop(columns=['Unnamed: 0'])"
   ]
  },
  {
   "cell_type": "code",
   "execution_count": 328,
   "metadata": {},
   "outputs": [],
   "source": [
    "# Keep only cryptocurrencies that are trading\n",
    "crypto_df.drop(crypto_df[crypto_df['IsTrading'] == False].index, inplace = True)"
   ]
  },
  {
   "cell_type": "code",
   "execution_count": 329,
   "metadata": {},
   "outputs": [
    {
     "data": {
      "text/plain": [
       "False"
      ]
     },
     "execution_count": 329,
     "metadata": {},
     "output_type": "execute_result"
    }
   ],
   "source": [
    "# Keep only cryptocurrencies with a working algorithm\n",
    "crypto_df['Algorithm'].isnull().values.any()"
   ]
  },
  {
   "cell_type": "code",
   "execution_count": 330,
   "metadata": {},
   "outputs": [
    {
     "data": {
      "text/html": [
       "<div>\n",
       "<style scoped>\n",
       "    .dataframe tbody tr th:only-of-type {\n",
       "        vertical-align: middle;\n",
       "    }\n",
       "\n",
       "    .dataframe tbody tr th {\n",
       "        vertical-align: top;\n",
       "    }\n",
       "\n",
       "    .dataframe thead th {\n",
       "        text-align: right;\n",
       "    }\n",
       "</style>\n",
       "<table border=\"1\" class=\"dataframe\">\n",
       "  <thead>\n",
       "    <tr style=\"text-align: right;\">\n",
       "      <th></th>\n",
       "      <th>CoinName</th>\n",
       "      <th>Algorithm</th>\n",
       "      <th>ProofType</th>\n",
       "      <th>TotalCoinsMined</th>\n",
       "      <th>TotalCoinSupply</th>\n",
       "    </tr>\n",
       "  </thead>\n",
       "  <tbody>\n",
       "    <tr>\n",
       "      <th>0</th>\n",
       "      <td>42 Coin</td>\n",
       "      <td>Scrypt</td>\n",
       "      <td>PoW/PoS</td>\n",
       "      <td>4.199995e+01</td>\n",
       "      <td>42</td>\n",
       "    </tr>\n",
       "    <tr>\n",
       "      <th>1</th>\n",
       "      <td>365Coin</td>\n",
       "      <td>X11</td>\n",
       "      <td>PoW/PoS</td>\n",
       "      <td>NaN</td>\n",
       "      <td>2300000000</td>\n",
       "    </tr>\n",
       "    <tr>\n",
       "      <th>2</th>\n",
       "      <td>404Coin</td>\n",
       "      <td>Scrypt</td>\n",
       "      <td>PoW/PoS</td>\n",
       "      <td>1.055185e+09</td>\n",
       "      <td>532000000</td>\n",
       "    </tr>\n",
       "    <tr>\n",
       "      <th>3</th>\n",
       "      <td>SixEleven</td>\n",
       "      <td>SHA-256</td>\n",
       "      <td>PoW</td>\n",
       "      <td>NaN</td>\n",
       "      <td>611000</td>\n",
       "    </tr>\n",
       "    <tr>\n",
       "      <th>4</th>\n",
       "      <td>808</td>\n",
       "      <td>SHA-256</td>\n",
       "      <td>PoW/PoS</td>\n",
       "      <td>0.000000e+00</td>\n",
       "      <td>0</td>\n",
       "    </tr>\n",
       "  </tbody>\n",
       "</table>\n",
       "</div>"
      ],
      "text/plain": [
       "    CoinName Algorithm ProofType  TotalCoinsMined TotalCoinSupply\n",
       "0    42 Coin    Scrypt   PoW/PoS     4.199995e+01              42\n",
       "1    365Coin       X11   PoW/PoS              NaN      2300000000\n",
       "2    404Coin    Scrypt   PoW/PoS     1.055185e+09       532000000\n",
       "3  SixEleven   SHA-256       PoW              NaN          611000\n",
       "4        808   SHA-256   PoW/PoS     0.000000e+00               0"
      ]
     },
     "execution_count": 330,
     "metadata": {},
     "output_type": "execute_result"
    }
   ],
   "source": [
    "# Remove the \"IsTrading\" column\n",
    "crypto_df.drop(['IsTrading'], axis = 1, inplace = True)\n",
    "crypto_df.head()"
   ]
  },
  {
   "cell_type": "code",
   "execution_count": 331,
   "metadata": {},
   "outputs": [],
   "source": [
    "# Remove rows with at least 1 null value\n",
    "crypto_df2.dropna(inplace = True)"
   ]
  },
  {
   "cell_type": "code",
   "execution_count": 332,
   "metadata": {},
   "outputs": [],
   "source": [
    "# Remove rows with cryptocurrencies having no coins mined\n",
    "crypto_df3 = crypto_df[crypto_df['TotalCoinsMined'] > 0]"
   ]
  },
  {
   "cell_type": "code",
   "execution_count": 333,
   "metadata": {},
   "outputs": [
    {
     "data": {
      "text/html": [
       "<div>\n",
       "<style scoped>\n",
       "    .dataframe tbody tr th:only-of-type {\n",
       "        vertical-align: middle;\n",
       "    }\n",
       "\n",
       "    .dataframe tbody tr th {\n",
       "        vertical-align: top;\n",
       "    }\n",
       "\n",
       "    .dataframe thead th {\n",
       "        text-align: right;\n",
       "    }\n",
       "</style>\n",
       "<table border=\"1\" class=\"dataframe\">\n",
       "  <thead>\n",
       "    <tr style=\"text-align: right;\">\n",
       "      <th></th>\n",
       "      <th>CoinName</th>\n",
       "      <th>Algorithm</th>\n",
       "      <th>ProofType</th>\n",
       "      <th>TotalCoinsMined</th>\n",
       "      <th>TotalCoinSupply</th>\n",
       "    </tr>\n",
       "  </thead>\n",
       "  <tbody>\n",
       "    <tr>\n",
       "      <th>0</th>\n",
       "      <td>42 Coin</td>\n",
       "      <td>Scrypt</td>\n",
       "      <td>PoW/PoS</td>\n",
       "      <td>4.199995e+01</td>\n",
       "      <td>42</td>\n",
       "    </tr>\n",
       "    <tr>\n",
       "      <th>2</th>\n",
       "      <td>404Coin</td>\n",
       "      <td>Scrypt</td>\n",
       "      <td>PoW/PoS</td>\n",
       "      <td>1.055185e+09</td>\n",
       "      <td>532000000</td>\n",
       "    </tr>\n",
       "    <tr>\n",
       "      <th>5</th>\n",
       "      <td>EliteCoin</td>\n",
       "      <td>X13</td>\n",
       "      <td>PoW/PoS</td>\n",
       "      <td>2.927942e+10</td>\n",
       "      <td>314159265359</td>\n",
       "    </tr>\n",
       "    <tr>\n",
       "      <th>7</th>\n",
       "      <td>Bitcoin</td>\n",
       "      <td>SHA-256</td>\n",
       "      <td>PoW</td>\n",
       "      <td>1.792718e+07</td>\n",
       "      <td>21000000</td>\n",
       "    </tr>\n",
       "    <tr>\n",
       "      <th>8</th>\n",
       "      <td>Ethereum</td>\n",
       "      <td>Ethash</td>\n",
       "      <td>PoW</td>\n",
       "      <td>1.076842e+08</td>\n",
       "      <td>0</td>\n",
       "    </tr>\n",
       "    <tr>\n",
       "      <th>...</th>\n",
       "      <td>...</td>\n",
       "      <td>...</td>\n",
       "      <td>...</td>\n",
       "      <td>...</td>\n",
       "      <td>...</td>\n",
       "    </tr>\n",
       "    <tr>\n",
       "      <th>1238</th>\n",
       "      <td>ZEPHYR</td>\n",
       "      <td>SHA-256</td>\n",
       "      <td>DPoS</td>\n",
       "      <td>2.000000e+09</td>\n",
       "      <td>2000000000</td>\n",
       "    </tr>\n",
       "    <tr>\n",
       "      <th>1242</th>\n",
       "      <td>Gapcoin</td>\n",
       "      <td>Scrypt</td>\n",
       "      <td>PoW/PoS</td>\n",
       "      <td>1.493105e+07</td>\n",
       "      <td>250000000</td>\n",
       "    </tr>\n",
       "    <tr>\n",
       "      <th>1245</th>\n",
       "      <td>Beldex</td>\n",
       "      <td>CryptoNight</td>\n",
       "      <td>PoW</td>\n",
       "      <td>9.802226e+08</td>\n",
       "      <td>1400222610</td>\n",
       "    </tr>\n",
       "    <tr>\n",
       "      <th>1246</th>\n",
       "      <td>Horizen</td>\n",
       "      <td>Equihash</td>\n",
       "      <td>PoW</td>\n",
       "      <td>7.296538e+06</td>\n",
       "      <td>21000000</td>\n",
       "    </tr>\n",
       "    <tr>\n",
       "      <th>1247</th>\n",
       "      <td>BitcoinPlus</td>\n",
       "      <td>Scrypt</td>\n",
       "      <td>PoS</td>\n",
       "      <td>1.283270e+05</td>\n",
       "      <td>1000000</td>\n",
       "    </tr>\n",
       "  </tbody>\n",
       "</table>\n",
       "<p>532 rows × 5 columns</p>\n",
       "</div>"
      ],
      "text/plain": [
       "         CoinName    Algorithm ProofType  TotalCoinsMined TotalCoinSupply\n",
       "0         42 Coin       Scrypt   PoW/PoS     4.199995e+01              42\n",
       "2         404Coin       Scrypt   PoW/PoS     1.055185e+09       532000000\n",
       "5       EliteCoin          X13   PoW/PoS     2.927942e+10    314159265359\n",
       "7         Bitcoin      SHA-256       PoW     1.792718e+07        21000000\n",
       "8        Ethereum       Ethash       PoW     1.076842e+08               0\n",
       "...           ...          ...       ...              ...             ...\n",
       "1238       ZEPHYR      SHA-256      DPoS     2.000000e+09      2000000000\n",
       "1242      Gapcoin       Scrypt   PoW/PoS     1.493105e+07       250000000\n",
       "1245       Beldex  CryptoNight       PoW     9.802226e+08      1400222610\n",
       "1246      Horizen     Equihash       PoW     7.296538e+06        21000000\n",
       "1247  BitcoinPlus       Scrypt       PoS     1.283270e+05         1000000\n",
       "\n",
       "[532 rows x 5 columns]"
      ]
     },
     "execution_count": 333,
     "metadata": {},
     "output_type": "execute_result"
    }
   ],
   "source": [
    "# Drop rows where there are 'N/A' text values\n",
    "crypto_df3.dropna(how = 'all')"
   ]
  },
  {
   "cell_type": "code",
   "execution_count": 334,
   "metadata": {},
   "outputs": [
    {
     "data": {
      "text/plain": [
       "0      42 Coin\n",
       "2      404Coin\n",
       "5    EliteCoin\n",
       "7      Bitcoin\n",
       "8     Ethereum\n",
       "Name: CoinName, dtype: object"
      ]
     },
     "execution_count": 334,
     "metadata": {},
     "output_type": "execute_result"
    }
   ],
   "source": [
    "# Store the 'CoinName'column in its own DataFrame prior to dropping it from crypto_df\n",
    "coin_name_df = crypto_df3['CoinName']\n",
    "coin_name_df.head()"
   ]
  },
  {
   "cell_type": "code",
   "execution_count": 335,
   "metadata": {},
   "outputs": [
    {
     "data": {
      "text/html": [
       "<div>\n",
       "<style scoped>\n",
       "    .dataframe tbody tr th:only-of-type {\n",
       "        vertical-align: middle;\n",
       "    }\n",
       "\n",
       "    .dataframe tbody tr th {\n",
       "        vertical-align: top;\n",
       "    }\n",
       "\n",
       "    .dataframe thead th {\n",
       "        text-align: right;\n",
       "    }\n",
       "</style>\n",
       "<table border=\"1\" class=\"dataframe\">\n",
       "  <thead>\n",
       "    <tr style=\"text-align: right;\">\n",
       "      <th></th>\n",
       "      <th>Algorithm</th>\n",
       "      <th>ProofType</th>\n",
       "      <th>TotalCoinsMined</th>\n",
       "      <th>TotalCoinSupply</th>\n",
       "    </tr>\n",
       "  </thead>\n",
       "  <tbody>\n",
       "    <tr>\n",
       "      <th>0</th>\n",
       "      <td>Scrypt</td>\n",
       "      <td>PoW/PoS</td>\n",
       "      <td>4.199995e+01</td>\n",
       "      <td>42</td>\n",
       "    </tr>\n",
       "    <tr>\n",
       "      <th>2</th>\n",
       "      <td>Scrypt</td>\n",
       "      <td>PoW/PoS</td>\n",
       "      <td>1.055185e+09</td>\n",
       "      <td>532000000</td>\n",
       "    </tr>\n",
       "    <tr>\n",
       "      <th>5</th>\n",
       "      <td>X13</td>\n",
       "      <td>PoW/PoS</td>\n",
       "      <td>2.927942e+10</td>\n",
       "      <td>314159265359</td>\n",
       "    </tr>\n",
       "    <tr>\n",
       "      <th>7</th>\n",
       "      <td>SHA-256</td>\n",
       "      <td>PoW</td>\n",
       "      <td>1.792718e+07</td>\n",
       "      <td>21000000</td>\n",
       "    </tr>\n",
       "    <tr>\n",
       "      <th>8</th>\n",
       "      <td>Ethash</td>\n",
       "      <td>PoW</td>\n",
       "      <td>1.076842e+08</td>\n",
       "      <td>0</td>\n",
       "    </tr>\n",
       "  </tbody>\n",
       "</table>\n",
       "</div>"
      ],
      "text/plain": [
       "  Algorithm ProofType  TotalCoinsMined TotalCoinSupply\n",
       "0    Scrypt   PoW/PoS     4.199995e+01              42\n",
       "2    Scrypt   PoW/PoS     1.055185e+09       532000000\n",
       "5       X13   PoW/PoS     2.927942e+10    314159265359\n",
       "7   SHA-256       PoW     1.792718e+07        21000000\n",
       "8    Ethash       PoW     1.076842e+08               0"
      ]
     },
     "execution_count": 335,
     "metadata": {},
     "output_type": "execute_result"
    }
   ],
   "source": [
    "# Drop the 'CoinName' column since it's not going to be used on the clustering algorithm\n",
    "crypto_df4 = crypto_df3.drop(['CoinName'], axis = 1)\n",
    "crypto_df4.head()"
   ]
  },
  {
   "cell_type": "code",
   "execution_count": 336,
   "metadata": {},
   "outputs": [
    {
     "data": {
      "text/html": [
       "<div>\n",
       "<style scoped>\n",
       "    .dataframe tbody tr th:only-of-type {\n",
       "        vertical-align: middle;\n",
       "    }\n",
       "\n",
       "    .dataframe tbody tr th {\n",
       "        vertical-align: top;\n",
       "    }\n",
       "\n",
       "    .dataframe thead th {\n",
       "        text-align: right;\n",
       "    }\n",
       "</style>\n",
       "<table border=\"1\" class=\"dataframe\">\n",
       "  <thead>\n",
       "    <tr style=\"text-align: right;\">\n",
       "      <th></th>\n",
       "      <th>TotalCoinsMined</th>\n",
       "      <th>TotalCoinSupply</th>\n",
       "      <th>Algorithm_536</th>\n",
       "      <th>Algorithm_Argon2d</th>\n",
       "      <th>Algorithm_BLAKE256</th>\n",
       "      <th>Algorithm_Blake</th>\n",
       "      <th>Algorithm_Blake2S</th>\n",
       "      <th>Algorithm_Blake2b</th>\n",
       "      <th>Algorithm_C11</th>\n",
       "      <th>Algorithm_Cloverhash</th>\n",
       "      <th>...</th>\n",
       "      <th>ProofType_PoW/PoS</th>\n",
       "      <th>ProofType_PoW/PoS</th>\n",
       "      <th>ProofType_PoW/PoW</th>\n",
       "      <th>ProofType_PoW/nPoS</th>\n",
       "      <th>ProofType_Pos</th>\n",
       "      <th>ProofType_Proof of Authority</th>\n",
       "      <th>ProofType_Proof of Trust</th>\n",
       "      <th>ProofType_TPoS</th>\n",
       "      <th>ProofType_Zero-Knowledge Proof</th>\n",
       "      <th>ProofType_dPoW/PoW</th>\n",
       "    </tr>\n",
       "  </thead>\n",
       "  <tbody>\n",
       "    <tr>\n",
       "      <th>0</th>\n",
       "      <td>4.199995e+01</td>\n",
       "      <td>42</td>\n",
       "      <td>0</td>\n",
       "      <td>0</td>\n",
       "      <td>0</td>\n",
       "      <td>0</td>\n",
       "      <td>0</td>\n",
       "      <td>0</td>\n",
       "      <td>0</td>\n",
       "      <td>0</td>\n",
       "      <td>...</td>\n",
       "      <td>1</td>\n",
       "      <td>0</td>\n",
       "      <td>0</td>\n",
       "      <td>0</td>\n",
       "      <td>0</td>\n",
       "      <td>0</td>\n",
       "      <td>0</td>\n",
       "      <td>0</td>\n",
       "      <td>0</td>\n",
       "      <td>0</td>\n",
       "    </tr>\n",
       "    <tr>\n",
       "      <th>2</th>\n",
       "      <td>1.055185e+09</td>\n",
       "      <td>532000000</td>\n",
       "      <td>0</td>\n",
       "      <td>0</td>\n",
       "      <td>0</td>\n",
       "      <td>0</td>\n",
       "      <td>0</td>\n",
       "      <td>0</td>\n",
       "      <td>0</td>\n",
       "      <td>0</td>\n",
       "      <td>...</td>\n",
       "      <td>1</td>\n",
       "      <td>0</td>\n",
       "      <td>0</td>\n",
       "      <td>0</td>\n",
       "      <td>0</td>\n",
       "      <td>0</td>\n",
       "      <td>0</td>\n",
       "      <td>0</td>\n",
       "      <td>0</td>\n",
       "      <td>0</td>\n",
       "    </tr>\n",
       "    <tr>\n",
       "      <th>5</th>\n",
       "      <td>2.927942e+10</td>\n",
       "      <td>314159265359</td>\n",
       "      <td>0</td>\n",
       "      <td>0</td>\n",
       "      <td>0</td>\n",
       "      <td>0</td>\n",
       "      <td>0</td>\n",
       "      <td>0</td>\n",
       "      <td>0</td>\n",
       "      <td>0</td>\n",
       "      <td>...</td>\n",
       "      <td>1</td>\n",
       "      <td>0</td>\n",
       "      <td>0</td>\n",
       "      <td>0</td>\n",
       "      <td>0</td>\n",
       "      <td>0</td>\n",
       "      <td>0</td>\n",
       "      <td>0</td>\n",
       "      <td>0</td>\n",
       "      <td>0</td>\n",
       "    </tr>\n",
       "    <tr>\n",
       "      <th>7</th>\n",
       "      <td>1.792718e+07</td>\n",
       "      <td>21000000</td>\n",
       "      <td>0</td>\n",
       "      <td>0</td>\n",
       "      <td>0</td>\n",
       "      <td>0</td>\n",
       "      <td>0</td>\n",
       "      <td>0</td>\n",
       "      <td>0</td>\n",
       "      <td>0</td>\n",
       "      <td>...</td>\n",
       "      <td>0</td>\n",
       "      <td>0</td>\n",
       "      <td>0</td>\n",
       "      <td>0</td>\n",
       "      <td>0</td>\n",
       "      <td>0</td>\n",
       "      <td>0</td>\n",
       "      <td>0</td>\n",
       "      <td>0</td>\n",
       "      <td>0</td>\n",
       "    </tr>\n",
       "    <tr>\n",
       "      <th>8</th>\n",
       "      <td>1.076842e+08</td>\n",
       "      <td>0</td>\n",
       "      <td>0</td>\n",
       "      <td>0</td>\n",
       "      <td>0</td>\n",
       "      <td>0</td>\n",
       "      <td>0</td>\n",
       "      <td>0</td>\n",
       "      <td>0</td>\n",
       "      <td>0</td>\n",
       "      <td>...</td>\n",
       "      <td>0</td>\n",
       "      <td>0</td>\n",
       "      <td>0</td>\n",
       "      <td>0</td>\n",
       "      <td>0</td>\n",
       "      <td>0</td>\n",
       "      <td>0</td>\n",
       "      <td>0</td>\n",
       "      <td>0</td>\n",
       "      <td>0</td>\n",
       "    </tr>\n",
       "  </tbody>\n",
       "</table>\n",
       "<p>5 rows × 96 columns</p>\n",
       "</div>"
      ],
      "text/plain": [
       "   TotalCoinsMined TotalCoinSupply  Algorithm_536  Algorithm_Argon2d  \\\n",
       "0     4.199995e+01              42              0                  0   \n",
       "2     1.055185e+09       532000000              0                  0   \n",
       "5     2.927942e+10    314159265359              0                  0   \n",
       "7     1.792718e+07        21000000              0                  0   \n",
       "8     1.076842e+08               0              0                  0   \n",
       "\n",
       "   Algorithm_BLAKE256  Algorithm_Blake  Algorithm_Blake2S  Algorithm_Blake2b  \\\n",
       "0                   0                0                  0                  0   \n",
       "2                   0                0                  0                  0   \n",
       "5                   0                0                  0                  0   \n",
       "7                   0                0                  0                  0   \n",
       "8                   0                0                  0                  0   \n",
       "\n",
       "   Algorithm_C11  Algorithm_Cloverhash  ...  ProofType_PoW/PoS  \\\n",
       "0              0                     0  ...                  1   \n",
       "2              0                     0  ...                  1   \n",
       "5              0                     0  ...                  1   \n",
       "7              0                     0  ...                  0   \n",
       "8              0                     0  ...                  0   \n",
       "\n",
       "   ProofType_PoW/PoS   ProofType_PoW/PoW  ProofType_PoW/nPoS  ProofType_Pos  \\\n",
       "0                   0                  0                   0              0   \n",
       "2                   0                  0                   0              0   \n",
       "5                   0                  0                   0              0   \n",
       "7                   0                  0                   0              0   \n",
       "8                   0                  0                   0              0   \n",
       "\n",
       "   ProofType_Proof of Authority  ProofType_Proof of Trust  ProofType_TPoS  \\\n",
       "0                             0                         0               0   \n",
       "2                             0                         0               0   \n",
       "5                             0                         0               0   \n",
       "7                             0                         0               0   \n",
       "8                             0                         0               0   \n",
       "\n",
       "   ProofType_Zero-Knowledge Proof  ProofType_dPoW/PoW  \n",
       "0                               0                   0  \n",
       "2                               0                   0  \n",
       "5                               0                   0  \n",
       "7                               0                   0  \n",
       "8                               0                   0  \n",
       "\n",
       "[5 rows x 96 columns]"
      ]
     },
     "execution_count": 336,
     "metadata": {},
     "output_type": "execute_result"
    }
   ],
   "source": [
    "# Create dummy variables for text features & storing them on a separate DataFrame X \n",
    "dummies = pd.get_dummies(crypto_df4[['Algorithm', 'ProofType']], drop_first = True)\n",
    "X = pd.concat([crypto_df4.drop(['Algorithm', 'ProofType'], axis = 1), dummies], axis = 1)\n",
    "X.head()"
   ]
  },
  {
   "cell_type": "code",
   "execution_count": 337,
   "metadata": {},
   "outputs": [
    {
     "name": "stdout",
     "output_type": "stream",
     "text": [
      "[[-0.11710817 -0.1528703  -0.0433963  ... -0.0433963  -0.0433963\n",
      "  -0.0433963 ]\n",
      " [-0.09396955 -0.145009   -0.0433963  ... -0.0433963  -0.0433963\n",
      "  -0.0433963 ]\n",
      " [ 0.52494561  4.48942416 -0.0433963  ... -0.0433963  -0.0433963\n",
      "  -0.0433963 ]\n",
      " ...\n",
      " [-0.09561336 -0.13217937 -0.0433963  ... -0.0433963  -0.0433963\n",
      "  -0.0433963 ]\n",
      " [-0.11694817 -0.15255998 -0.0433963  ... -0.0433963  -0.0433963\n",
      "  -0.0433963 ]\n",
      " [-0.11710536 -0.15285552 -0.0433963  ... -0.0433963  -0.0433963\n",
      "  -0.0433963 ]]\n"
     ]
    }
   ],
   "source": [
    "# Standardize data from the X DataFrame using StandardScaler from sklearn\n",
    "X_scaler = StandardScaler().fit_transform(X)\n",
    "print(X_scaler)"
   ]
  },
  {
   "cell_type": "markdown",
   "metadata": {},
   "source": [
    "### Reducing Dimensions Using PCA"
   ]
  },
  {
   "cell_type": "code",
   "execution_count": 338,
   "metadata": {},
   "outputs": [],
   "source": [
    "# Use PCA to reduce dimensions to 3 principal components\n",
    "pca = PCA(n_components = 3)\n",
    "X_pca = pca.fit_transform(X_scaler)"
   ]
  },
  {
   "cell_type": "code",
   "execution_count": 339,
   "metadata": {},
   "outputs": [
    {
     "data": {
      "text/html": [
       "<div>\n",
       "<style scoped>\n",
       "    .dataframe tbody tr th:only-of-type {\n",
       "        vertical-align: middle;\n",
       "    }\n",
       "\n",
       "    .dataframe tbody tr th {\n",
       "        vertical-align: top;\n",
       "    }\n",
       "\n",
       "    .dataframe thead th {\n",
       "        text-align: right;\n",
       "    }\n",
       "</style>\n",
       "<table border=\"1\" class=\"dataframe\">\n",
       "  <thead>\n",
       "    <tr style=\"text-align: right;\">\n",
       "      <th></th>\n",
       "      <th>PC 1</th>\n",
       "      <th>PC 2</th>\n",
       "      <th>PC 3</th>\n",
       "    </tr>\n",
       "  </thead>\n",
       "  <tbody>\n",
       "    <tr>\n",
       "      <th>0</th>\n",
       "      <td>-0.328087</td>\n",
       "      <td>1.007528</td>\n",
       "      <td>-0.518295</td>\n",
       "    </tr>\n",
       "    <tr>\n",
       "      <th>1</th>\n",
       "      <td>-0.311402</td>\n",
       "      <td>1.007429</td>\n",
       "      <td>-0.518606</td>\n",
       "    </tr>\n",
       "    <tr>\n",
       "      <th>2</th>\n",
       "      <td>2.298863</td>\n",
       "      <td>1.685485</td>\n",
       "      <td>-0.653783</td>\n",
       "    </tr>\n",
       "    <tr>\n",
       "      <th>3</th>\n",
       "      <td>-0.144423</td>\n",
       "      <td>-1.309422</td>\n",
       "      <td>0.194364</td>\n",
       "    </tr>\n",
       "    <tr>\n",
       "      <th>4</th>\n",
       "      <td>-0.154539</td>\n",
       "      <td>-2.025417</td>\n",
       "      <td>0.381601</td>\n",
       "    </tr>\n",
       "  </tbody>\n",
       "</table>\n",
       "</div>"
      ],
      "text/plain": [
       "       PC 1      PC 2      PC 3\n",
       "0 -0.328087  1.007528 -0.518295\n",
       "1 -0.311402  1.007429 -0.518606\n",
       "2  2.298863  1.685485 -0.653783\n",
       "3 -0.144423 -1.309422  0.194364\n",
       "4 -0.154539 -2.025417  0.381601"
      ]
     },
     "execution_count": 339,
     "metadata": {},
     "output_type": "execute_result"
    }
   ],
   "source": [
    "# Create a DataFrame with the principal components data\n",
    "pc_df = pd.DataFrame(\n",
    "    data = X_pca, columns = ['PC 1', 'PC 2', 'PC 3']\n",
    ")\n",
    "pc_df.head()"
   ]
  },
  {
   "cell_type": "markdown",
   "metadata": {},
   "source": [
    "### Clustering Crytocurrencies Using K-Means\n",
    "\n",
    "#### Find the Best Value for `k` Using the Elbow Curve"
   ]
  },
  {
   "cell_type": "code",
   "execution_count": 340,
   "metadata": {},
   "outputs": [
    {
     "name": "stderr",
     "output_type": "stream",
     "text": [
      "C:\\Users\\aidan\\anaconda3\\lib\\site-packages\\sklearn\\cluster\\_kmeans.py:881: UserWarning:\n",
      "\n",
      "KMeans is known to have a memory leak on Windows with MKL, when there are less chunks than available threads. You can avoid it by setting the environment variable OMP_NUM_THREADS=3.\n",
      "\n"
     ]
    },
    {
     "data": {},
     "metadata": {},
     "output_type": "display_data"
    },
    {
     "data": {
      "application/vnd.holoviews_exec.v0+json": "",
      "text/html": [
       "<div id='2815'>\n",
       "\n",
       "\n",
       "\n",
       "\n",
       "\n",
       "  <div class=\"bk-root\" id=\"87c153d4-2bfc-414c-8c45-a3f58b7b2797\" data-root-id=\"2815\"></div>\n",
       "</div>\n",
       "<script type=\"application/javascript\">(function(root) {\n",
       "  function embed_document(root) {\n",
       "    var docs_json = {\"6a41f1ae-b629-4440-baa5-1dfce78e8d5f\":{\"defs\":[{\"extends\":null,\"module\":null,\"name\":\"DataModel\",\"overrides\":[],\"properties\":[]}],\"roots\":{\"references\":[{\"attributes\":{\"line_alpha\":0.2,\"line_color\":\"#30a2da\",\"line_width\":2,\"x\":{\"field\":\"k\"},\"y\":{\"field\":\"inertia\"}},\"id\":\"2855\",\"type\":\"Line\"},{\"attributes\":{\"below\":[{\"id\":\"2829\"}],\"center\":[{\"id\":\"2832\"},{\"id\":\"2836\"}],\"height\":300,\"left\":[{\"id\":\"2833\"}],\"margin\":[5,5,5,5],\"min_border_bottom\":10,\"min_border_left\":10,\"min_border_right\":10,\"min_border_top\":10,\"renderers\":[{\"id\":\"2856\"}],\"sizing_mode\":\"fixed\",\"title\":{\"id\":\"2821\"},\"toolbar\":{\"id\":\"2843\"},\"width\":700,\"x_range\":{\"id\":\"2817\"},\"x_scale\":{\"id\":\"2825\"},\"y_range\":{\"id\":\"2818\"},\"y_scale\":{\"id\":\"2827\"}},\"id\":\"2820\",\"subtype\":\"Figure\",\"type\":\"Plot\"},{\"attributes\":{\"data_source\":{\"id\":\"2850\"},\"glyph\":{\"id\":\"2853\"},\"hover_glyph\":null,\"muted_glyph\":{\"id\":\"2855\"},\"nonselection_glyph\":{\"id\":\"2854\"},\"selection_glyph\":{\"id\":\"2858\"},\"view\":{\"id\":\"2857\"}},\"id\":\"2856\",\"type\":\"GlyphRenderer\"},{\"attributes\":{},\"id\":\"2827\",\"type\":\"LinearScale\"},{\"attributes\":{\"bottom_units\":\"screen\",\"fill_alpha\":0.5,\"fill_color\":\"lightgrey\",\"left_units\":\"screen\",\"level\":\"overlay\",\"line_alpha\":1.0,\"line_color\":\"black\",\"line_dash\":[4,4],\"line_width\":2,\"right_units\":\"screen\",\"syncable\":false,\"top_units\":\"screen\"},\"id\":\"2842\",\"type\":\"BoxAnnotation\"},{\"attributes\":{},\"id\":\"2865\",\"type\":\"AllLabels\"},{\"attributes\":{},\"id\":\"2825\",\"type\":\"LinearScale\"},{\"attributes\":{\"callback\":null,\"renderers\":[{\"id\":\"2856\"}],\"tags\":[\"hv_created\"],\"tooltips\":[[\"k\",\"@{k}\"],[\"inertia\",\"@{inertia}\"]]},\"id\":\"2819\",\"type\":\"HoverTool\"},{\"attributes\":{},\"id\":\"2838\",\"type\":\"PanTool\"},{\"attributes\":{\"end\":10.0,\"reset_end\":10.0,\"reset_start\":1.0,\"start\":1.0,\"tags\":[[[\"k\",\"k\",null]]]},\"id\":\"2817\",\"type\":\"Range1d\"},{\"attributes\":{},\"id\":\"2866\",\"type\":\"BasicTickFormatter\"},{\"attributes\":{\"margin\":[5,5,5,5],\"name\":\"HSpacer05429\",\"sizing_mode\":\"stretch_width\"},\"id\":\"2816\",\"type\":\"Spacer\"},{\"attributes\":{\"margin\":[5,5,5,5],\"name\":\"HSpacer05430\",\"sizing_mode\":\"stretch_width\"},\"id\":\"2886\",\"type\":\"Spacer\"},{\"attributes\":{\"line_color\":\"#30a2da\",\"line_width\":2,\"x\":{\"field\":\"k\"},\"y\":{\"field\":\"inertia\"}},\"id\":\"2853\",\"type\":\"Line\"},{\"attributes\":{\"data\":{\"inertia\":{\"__ndarray__\":\"adtVvNBsrEBgtivoDE+jQAWndkYBK5dA0iztufwegEB+pev6vgB1QE7nodst7XBAQHGMJVUGbECLZr9Wj6ZlQG961p6kOGFADta+oHgiW0A=\",\"dtype\":\"float64\",\"order\":\"little\",\"shape\":[10]},\"k\":[1,2,3,4,5,6,7,8,9,10]},\"selected\":{\"id\":\"2851\"},\"selection_policy\":{\"id\":\"2876\"}},\"id\":\"2850\",\"type\":\"ColumnDataSource\"},{\"attributes\":{\"source\":{\"id\":\"2850\"}},\"id\":\"2857\",\"type\":\"CDSView\"},{\"attributes\":{\"end\":3991.394594319058,\"reset_end\":3991.394594319058,\"reset_start\":-244.4482948906933,\"start\":-244.4482948906933,\"tags\":[[[\"inertia\",\"inertia\",null]]]},\"id\":\"2818\",\"type\":\"Range1d\"},{\"attributes\":{\"text\":\"Elbow Curve\",\"text_color\":\"black\",\"text_font_size\":\"12pt\"},\"id\":\"2821\",\"type\":\"Title\"},{\"attributes\":{\"line_color\":\"#30a2da\",\"line_width\":2,\"x\":{\"field\":\"k\"},\"y\":{\"field\":\"inertia\"}},\"id\":\"2858\",\"type\":\"Line\"},{\"attributes\":{},\"id\":\"2861\",\"type\":\"BasicTickFormatter\"},{\"attributes\":{},\"id\":\"2860\",\"type\":\"AllLabels\"},{\"attributes\":{},\"id\":\"2851\",\"type\":\"Selection\"},{\"attributes\":{\"ticks\":[1,2,3,4,5,6,7,8,9,10]},\"id\":\"2859\",\"type\":\"FixedTicker\"},{\"attributes\":{},\"id\":\"2839\",\"type\":\"WheelZoomTool\"},{\"attributes\":{\"active_multi\":null,\"tools\":[{\"id\":\"2819\"},{\"id\":\"2837\"},{\"id\":\"2838\"},{\"id\":\"2839\"},{\"id\":\"2840\"},{\"id\":\"2841\"}]},\"id\":\"2843\",\"type\":\"Toolbar\"},{\"attributes\":{},\"id\":\"2834\",\"type\":\"BasicTicker\"},{\"attributes\":{},\"id\":\"2876\",\"type\":\"UnionRenderers\"},{\"attributes\":{},\"id\":\"2841\",\"type\":\"ResetTool\"},{\"attributes\":{\"overlay\":{\"id\":\"2842\"}},\"id\":\"2840\",\"type\":\"BoxZoomTool\"},{\"attributes\":{},\"id\":\"2837\",\"type\":\"SaveTool\"},{\"attributes\":{\"axis_label\":\"inertia\",\"formatter\":{\"id\":\"2866\"},\"major_label_policy\":{\"id\":\"2865\"},\"ticker\":{\"id\":\"2834\"}},\"id\":\"2833\",\"type\":\"LinearAxis\"},{\"attributes\":{\"children\":[{\"id\":\"2816\"},{\"id\":\"2820\"},{\"id\":\"2886\"}],\"margin\":[0,0,0,0],\"name\":\"Row05425\",\"tags\":[\"embedded\"]},\"id\":\"2815\",\"type\":\"Row\"},{\"attributes\":{\"axis_label\":\"k\",\"formatter\":{\"id\":\"2861\"},\"major_label_policy\":{\"id\":\"2860\"},\"ticker\":{\"id\":\"2859\"}},\"id\":\"2829\",\"type\":\"LinearAxis\"},{\"attributes\":{\"line_alpha\":0.1,\"line_color\":\"#30a2da\",\"line_width\":2,\"x\":{\"field\":\"k\"},\"y\":{\"field\":\"inertia\"}},\"id\":\"2854\",\"type\":\"Line\"},{\"attributes\":{\"axis\":{\"id\":\"2833\"},\"dimension\":1,\"grid_line_color\":null,\"ticker\":null},\"id\":\"2836\",\"type\":\"Grid\"},{\"attributes\":{\"axis\":{\"id\":\"2829\"},\"grid_line_color\":null,\"ticker\":null},\"id\":\"2832\",\"type\":\"Grid\"}],\"root_ids\":[\"2815\"]},\"title\":\"Bokeh Application\",\"version\":\"2.3.0\"}};\n",
       "    var render_items = [{\"docid\":\"6a41f1ae-b629-4440-baa5-1dfce78e8d5f\",\"root_ids\":[\"2815\"],\"roots\":{\"2815\":\"87c153d4-2bfc-414c-8c45-a3f58b7b2797\"}}];\n",
       "    root.Bokeh.embed.embed_items_notebook(docs_json, render_items);\n",
       "  }\n",
       "  if (root.Bokeh !== undefined && root.Bokeh.Panel !== undefined) {\n",
       "    embed_document(root);\n",
       "  } else {\n",
       "    var attempts = 0;\n",
       "    var timer = setInterval(function(root) {\n",
       "      if (root.Bokeh !== undefined && root.Bokeh.Panel !== undefined) {\n",
       "        clearInterval(timer);\n",
       "        embed_document(root);\n",
       "      } else if (document.readyState == \"complete\") {\n",
       "        attempts++;\n",
       "        if (attempts > 100) {\n",
       "          clearInterval(timer);\n",
       "          console.log(\"Bokeh: ERROR: Unable to run BokehJS code because BokehJS library is missing\");\n",
       "        }\n",
       "      }\n",
       "    }, 10, root)\n",
       "  }\n",
       "})(window);</script>"
      ],
      "text/plain": [
       ":Curve   [k]   (inertia)"
      ]
     },
     "execution_count": 340,
     "metadata": {
      "application/vnd.holoviews_exec.v0+json": {
       "id": "2815"
      }
     },
     "output_type": "execute_result"
    }
   ],
   "source": [
    "inertia = []\n",
    "k = list(range(1, 11))\n",
    "\n",
    "# Calculate the inertia for the range of k values\n",
    "for i in k:\n",
    "    km = KMeans(n_clusters = i, random_state = 0)\n",
    "    km.fit(pc_df)\n",
    "    inertia.append(km.inertia_)\n",
    "\n",
    "# Create the Elbow Curve using hvPlot\n",
    "elbow = {'k' : k, 'inertia' : inertia}\n",
    "elbow_df = pd.DataFrame(elbow)\n",
    "elbow_df.hvplot.line(x = 'k', y = 'inertia', xticks = k, title = 'Elbow Curve')"
   ]
  },
  {
   "cell_type": "markdown",
   "metadata": {},
   "source": [
    "Running K-Means with `k = 5`"
   ]
  },
  {
   "cell_type": "code",
   "execution_count": 341,
   "metadata": {},
   "outputs": [
    {
     "data": {
      "text/html": [
       "<div>\n",
       "<style scoped>\n",
       "    .dataframe tbody tr th:only-of-type {\n",
       "        vertical-align: middle;\n",
       "    }\n",
       "\n",
       "    .dataframe tbody tr th {\n",
       "        vertical-align: top;\n",
       "    }\n",
       "\n",
       "    .dataframe thead th {\n",
       "        text-align: right;\n",
       "    }\n",
       "</style>\n",
       "<table border=\"1\" class=\"dataframe\">\n",
       "  <thead>\n",
       "    <tr style=\"text-align: right;\">\n",
       "      <th></th>\n",
       "      <th>PC 1</th>\n",
       "      <th>PC 2</th>\n",
       "      <th>PC 3</th>\n",
       "      <th>Class</th>\n",
       "    </tr>\n",
       "  </thead>\n",
       "  <tbody>\n",
       "    <tr>\n",
       "      <th>0</th>\n",
       "      <td>-0.328087</td>\n",
       "      <td>1.007528</td>\n",
       "      <td>-0.518295</td>\n",
       "      <td>0</td>\n",
       "    </tr>\n",
       "    <tr>\n",
       "      <th>1</th>\n",
       "      <td>-0.311402</td>\n",
       "      <td>1.007429</td>\n",
       "      <td>-0.518606</td>\n",
       "      <td>0</td>\n",
       "    </tr>\n",
       "    <tr>\n",
       "      <th>2</th>\n",
       "      <td>2.298863</td>\n",
       "      <td>1.685485</td>\n",
       "      <td>-0.653783</td>\n",
       "      <td>4</td>\n",
       "    </tr>\n",
       "    <tr>\n",
       "      <th>3</th>\n",
       "      <td>-0.144423</td>\n",
       "      <td>-1.309422</td>\n",
       "      <td>0.194364</td>\n",
       "      <td>1</td>\n",
       "    </tr>\n",
       "    <tr>\n",
       "      <th>4</th>\n",
       "      <td>-0.154539</td>\n",
       "      <td>-2.025417</td>\n",
       "      <td>0.381601</td>\n",
       "      <td>1</td>\n",
       "    </tr>\n",
       "  </tbody>\n",
       "</table>\n",
       "</div>"
      ],
      "text/plain": [
       "       PC 1      PC 2      PC 3  Class\n",
       "0 -0.328087  1.007528 -0.518295      0\n",
       "1 -0.311402  1.007429 -0.518606      0\n",
       "2  2.298863  1.685485 -0.653783      4\n",
       "3 -0.144423 -1.309422  0.194364      1\n",
       "4 -0.154539 -2.025417  0.381601      1"
      ]
     },
     "execution_count": 341,
     "metadata": {},
     "output_type": "execute_result"
    }
   ],
   "source": [
    "# Initialize the K-Means model\n",
    "K_model = KMeans(n_clusters = 5, random_state = 0)\n",
    "# Fit the model\n",
    "K_model.fit(pc_df)\n",
    "# Predict clusters\n",
    "predict = K_model.predict(pc_df)\n",
    "# Create a new DataFrame including predicted clusters and cryptocurrencies features\n",
    "pc_df['Class'] = K_model.labels_\n",
    "pc_df.head()"
   ]
  },
  {
   "cell_type": "markdown",
   "metadata": {},
   "source": [
    "### Visualizing Results\n",
    "\n",
    "#### 3D-Scatter with Clusters"
   ]
  },
  {
   "cell_type": "code",
   "execution_count": 342,
   "metadata": {},
   "outputs": [
    {
     "data": {
      "application/vnd.plotly.v1+json": {
       "config": {
        "plotlyServerURL": "https://plot.ly"
       },
       "data": [
        {
         "customdata": [
          [
           "Scrypt"
          ],
          [
           null
          ],
          [
           "Scrypt"
          ],
          [
           null
          ],
          [
           null
          ],
          [
           "X13"
          ],
          [
           null
          ],
          [
           "SHA-256"
          ],
          [
           "Ethash"
          ],
          [
           "Scrypt"
          ],
          [
           "X11"
          ],
          [
           "CryptoNight-V7"
          ],
          [
           "Ethash"
          ],
          [
           "Equihash"
          ],
          [
           "SHA-512"
          ],
          [
           "Multiple"
          ],
          [
           "SHA-256"
          ],
          [
           null
          ],
          [
           null
          ],
          [
           "SHA-256"
          ],
          [
           "Scrypt"
          ],
          [
           null
          ],
          [
           null
          ],
          [
           null
          ],
          [
           "X15"
          ],
          [
           null
          ],
          [
           null
          ],
          [
           "X11"
          ],
          [
           null
          ],
          [
           null
          ],
          [
           null
          ],
          [
           null
          ],
          [
           null
          ],
          [
           null
          ],
          [
           null
          ],
          [
           null
          ],
          [
           null
          ],
          [
           "Scrypt"
          ],
          [
           null
          ],
          [
           "Scrypt"
          ],
          [
           null
          ],
          [
           null
          ],
          [
           "Scrypt"
          ],
          [
           null
          ],
          [
           "Multiple"
          ],
          [
           "Scrypt"
          ],
          [
           "SHA-256"
          ],
          [
           "Scrypt"
          ],
          [
           "Scrypt"
          ],
          [
           "Scrypt"
          ],
          [
           "Quark"
          ],
          [
           "Groestl"
          ],
          [
           "Scrypt"
          ],
          [
           null
          ],
          [
           "Scrypt"
          ],
          [
           null
          ],
          [
           null
          ],
          [
           null
          ],
          [
           null
          ],
          [
           null
          ],
          [
           null
          ],
          [
           "Scrypt"
          ],
          [
           "Scrypt"
          ],
          [
           "Scrypt"
          ],
          [
           null
          ],
          [
           null
          ],
          [
           null
          ],
          [
           null
          ],
          [
           null
          ],
          [
           null
          ],
          [
           null
          ],
          [
           null
          ],
          [
           null
          ],
          [
           "X11"
          ],
          [
           "Scrypt"
          ],
          [
           null
          ],
          [
           "Groestl"
          ],
          [
           "Multiple"
          ],
          [
           null
          ],
          [
           null
          ],
          [
           "SHA-256"
          ],
          [
           "Scrypt"
          ],
          [
           "Scrypt"
          ],
          [
           null
          ],
          [
           "Scrypt"
          ],
          [
           "Scrypt"
          ],
          [
           "PoS"
          ],
          [
           null
          ],
          [
           null
          ],
          [
           null
          ],
          [
           null
          ],
          [
           null
          ],
          [
           null
          ],
          [
           null
          ],
          [
           "Scrypt"
          ],
          [
           "Scrypt"
          ],
          [
           null
          ],
          [
           null
          ],
          [
           "NeoScrypt"
          ],
          [
           "Scrypt"
          ],
          [
           "Scrypt"
          ],
          [
           "Scrypt"
          ],
          [
           null
          ],
          [
           null
          ],
          [
           null
          ],
          [
           null
          ],
          [
           null
          ],
          [
           "Scrypt"
          ],
          [
           null
          ],
          [
           null
          ],
          [
           "X11"
          ],
          [
           null
          ],
          [
           "Scrypt"
          ],
          [
           "X11"
          ],
          [
           "SHA-256"
          ],
          [
           null
          ],
          [
           null
          ],
          [
           null
          ],
          [
           null
          ],
          [
           null
          ],
          [
           "Scrypt"
          ],
          [
           null
          ],
          [
           "Scrypt"
          ],
          [
           null
          ],
          [
           "Scrypt"
          ],
          [
           null
          ],
          [
           null
          ],
          [
           null
          ],
          [
           null
          ],
          [
           "SHA3"
          ],
          [
           "Scrypt"
          ],
          [
           "HybridScryptHash256"
          ],
          [
           null
          ],
          [
           "Scrypt"
          ],
          [
           null
          ],
          [
           "Scrypt"
          ],
          [
           null
          ],
          [
           "SHA-256"
          ],
          [
           null
          ],
          [
           "Scrypt"
          ],
          [
           "X13"
          ],
          [
           null
          ],
          [
           null
          ],
          [
           null
          ],
          [
           "Scrypt"
          ],
          [
           null
          ],
          [
           "SHA-256"
          ],
          [
           "Scrypt"
          ],
          [
           "X13"
          ],
          [
           "NeoScrypt"
          ],
          [
           null
          ],
          [
           "Scrypt"
          ],
          [
           null
          ],
          [
           "Scrypt"
          ],
          [
           null
          ],
          [
           "Scrypt"
          ],
          [
           null
          ],
          [
           "Scrypt"
          ],
          [
           null
          ],
          [
           null
          ],
          [
           null
          ],
          [
           null
          ],
          [
           "Scrypt"
          ],
          [
           null
          ],
          [
           null
          ],
          [
           null
          ],
          [
           null
          ],
          [
           null
          ],
          [
           "Scrypt"
          ],
          [
           null
          ],
          [
           null
          ],
          [
           null
          ],
          [
           null
          ],
          [
           null
          ],
          [
           "X11"
          ],
          [
           "X11"
          ],
          [
           "SHA-256"
          ],
          [
           null
          ],
          [
           null
          ],
          [
           "Multiple"
          ],
          [
           "SHA-256"
          ],
          [
           "PHI1612"
          ],
          [
           "X11"
          ],
          [
           "SHA-256"
          ],
          [
           null
          ],
          [
           null
          ],
          [
           "SHA-256"
          ],
          [
           "SHA-256"
          ],
          [
           "X11"
          ],
          [
           "Scrypt"
          ],
          [
           "Scrypt"
          ],
          [
           null
          ],
          [
           null
          ],
          [
           "Scrypt"
          ],
          [
           null
          ],
          [
           "Scrypt"
          ],
          [
           "Lyra2REv2"
          ],
          [
           "Scrypt"
          ],
          [
           null
          ],
          [
           null
          ],
          [
           "X11"
          ],
          [
           null
          ],
          [
           "Multiple"
          ],
          [
           "SHA-256"
          ],
          [
           null
          ],
          [
           "X13"
          ],
          [
           null
          ],
          [
           null
          ],
          [
           "Scrypt"
          ],
          [
           null
          ],
          [
           "CryptoNight"
          ],
          [
           null
          ],
          [
           "CryptoNight"
          ],
          [
           null
          ],
          [
           "Shabal256"
          ],
          [
           "Counterparty"
          ],
          [
           null
          ],
          [
           null
          ],
          [
           "Scrypt"
          ],
          [
           null
          ],
          [
           "SHA-256"
          ],
          [
           null
          ],
          [
           null
          ],
          [
           null
          ],
          [
           "Groestl"
          ],
          [
           "Scrypt"
          ],
          [
           "Scrypt"
          ],
          [
           "Scrypt"
          ],
          [
           "X13"
          ],
          [
           "Scrypt"
          ],
          [
           null
          ],
          [
           "Scrypt"
          ],
          [
           "Scrypt"
          ],
          [
           null
          ],
          [
           "Scrypt"
          ],
          [
           "X13"
          ],
          [
           null
          ],
          [
           null
          ],
          [
           null
          ],
          [
           "Scrypt"
          ],
          [
           null
          ],
          [
           null
          ],
          [
           null
          ],
          [
           null
          ],
          [
           "Stanford Folding"
          ],
          [
           null
          ],
          [
           "X11"
          ],
          [
           "Multiple"
          ],
          [
           "QuBit"
          ],
          [
           null
          ],
          [
           null
          ],
          [
           "Scrypt"
          ],
          [
           null
          ],
          [
           null
          ],
          [
           "Scrypt"
          ],
          [
           null
          ],
          [
           "Scrypt"
          ],
          [
           null
          ],
          [
           null
          ],
          [
           null
          ],
          [
           null
          ],
          [
           null
          ],
          [
           null
          ],
          [
           "M7 POW"
          ],
          [
           null
          ],
          [
           null
          ],
          [
           null
          ],
          [
           "Scrypt"
          ],
          [
           null
          ],
          [
           null
          ],
          [
           null
          ],
          [
           null
          ],
          [
           null
          ],
          [
           "SHA-256"
          ],
          [
           null
          ],
          [
           null
          ],
          [
           "Scrypt"
          ],
          [
           null
          ],
          [
           null
          ],
          [
           null
          ],
          [
           null
          ],
          [
           "X11"
          ],
          [
           null
          ],
          [
           null
          ],
          [
           null
          ],
          [
           null
          ],
          [
           "SHA3"
          ],
          [
           null
          ],
          [
           null
          ],
          [
           "X11"
          ],
          [
           null
          ],
          [
           null
          ],
          [
           null
          ],
          [
           null
          ],
          [
           "Lyra2RE"
          ],
          [
           null
          ],
          [
           null
          ],
          [
           null
          ],
          [
           null
          ],
          [
           null
          ],
          [
           null
          ],
          [
           "SHA-256"
          ],
          [
           "QUAIT"
          ],
          [
           "X11"
          ],
          [
           null
          ],
          [
           null
          ],
          [
           null
          ],
          [
           "X11"
          ],
          [
           null
          ],
          [
           null
          ],
          [
           null
          ],
          [
           null
          ],
          [
           null
          ],
          [
           null
          ],
          [
           null
          ],
          [
           "Scrypt"
          ],
          [
           null
          ],
          [
           null
          ],
          [
           null
          ],
          [
           null
          ],
          [
           "Scrypt"
          ],
          [
           "Scrypt"
          ],
          [
           "Ethash"
          ],
          [
           null
          ],
          [
           "X13"
          ],
          [
           "Blake2b"
          ],
          [
           null
          ],
          [
           "SHA-256"
          ],
          [
           null
          ],
          [
           null
          ],
          [
           "X15"
          ],
          [
           "X11"
          ],
          [
           "SHA-256"
          ],
          [
           "BLAKE256"
          ],
          [
           null
          ],
          [
           "Scrypt"
          ],
          [
           "1GB AES Pattern Search"
          ],
          [
           "SHA-256"
          ],
          [
           "X11"
          ],
          [
           "Scrypt"
          ],
          [
           null
          ],
          [
           "SHA-256"
          ],
          [
           null
          ],
          [
           "SHA-256"
          ],
          [
           null
          ],
          [
           "NIST5"
          ],
          [
           null
          ],
          [
           "Scrypt"
          ],
          [
           null
          ],
          [
           null
          ],
          [
           null
          ],
          [
           null
          ],
          [
           "Scrypt"
          ],
          [
           null
          ],
          [
           null
          ],
          [
           "X11"
          ],
          [
           null
          ],
          [
           null
          ],
          [
           "Dagger"
          ],
          [
           "Scrypt"
          ],
          [
           null
          ],
          [
           null
          ],
          [
           "X11GOST"
          ],
          [
           "X11"
          ],
          [
           null
          ],
          [
           null
          ],
          [
           null
          ],
          [
           null
          ],
          [
           null
          ],
          [
           "Scrypt"
          ],
          [
           null
          ],
          [
           "SHA-256"
          ],
          [
           "Scrypt"
          ],
          [
           "PoS"
          ],
          [
           null
          ],
          [
           "Scrypt"
          ],
          [
           null
          ],
          [
           null
          ],
          [
           null
          ],
          [
           null
          ],
          [
           null
          ],
          [
           null
          ],
          [
           null
          ],
          [
           null
          ],
          [
           null
          ],
          [
           "X11"
          ],
          [
           null
          ],
          [
           null
          ],
          [
           null
          ],
          [
           null
          ],
          [
           null
          ],
          [
           "X11"
          ],
          [
           null
          ],
          [
           null
          ],
          [
           null
          ],
          [
           null
          ],
          [
           null
          ],
          [
           "SHA-256"
          ],
          [
           null
          ],
          [
           null
          ],
          [
           null
          ],
          [
           null
          ],
          [
           null
          ],
          [
           "SHA-256"
          ],
          [
           "NIST5"
          ],
          [
           null
          ],
          [
           null
          ],
          [
           null
          ],
          [
           null
          ],
          [
           null
          ],
          [
           null
          ],
          [
           null
          ],
          [
           null
          ],
          [
           "X11"
          ],
          [
           null
          ],
          [
           null
          ],
          [
           null
          ],
          [
           null
          ],
          [
           null
          ],
          [
           null
          ],
          [
           "Scrypt"
          ],
          [
           null
          ],
          [
           "POS 3.0"
          ],
          [
           null
          ],
          [
           null
          ],
          [
           null
          ],
          [
           "Scrypt"
          ],
          [
           null
          ],
          [
           "Scrypt"
          ],
          [
           null
          ],
          [
           null
          ],
          [
           "Scrypt"
          ],
          [
           null
          ],
          [
           null
          ],
          [
           null
          ],
          [
           null
          ],
          [
           "X13"
          ],
          [
           "X11"
          ],
          [
           "X11"
          ],
          [
           null
          ],
          [
           "Equihash"
          ],
          [
           "X11"
          ],
          [
           null
          ],
          [
           null
          ],
          [
           null
          ],
          [
           null
          ],
          [
           "Scrypt"
          ],
          [
           null
          ],
          [
           null
          ],
          [
           null
          ],
          [
           null
          ],
          [
           null
          ],
          [
           "CryptoNight"
          ],
          [
           null
          ],
          [
           "SHA-256"
          ],
          [
           "SHA-256"
          ],
          [
           "X11"
          ],
          [
           null
          ],
          [
           "Scrypt"
          ],
          [
           "Multiple"
          ],
          [
           null
          ],
          [
           null
          ],
          [
           "Scrypt"
          ],
          [
           "Scrypt"
          ],
          [
           null
          ],
          [
           null
          ],
          [
           null
          ],
          [
           null
          ],
          [
           null
          ],
          [
           null
          ],
          [
           null
          ],
          [
           null
          ],
          [
           "Scrypt"
          ],
          [
           null
          ],
          [
           null
          ],
          [
           "SHA-256"
          ],
          [
           "Scrypt"
          ],
          [
           null
          ],
          [
           "Scrypt"
          ],
          [
           "SHA-256D"
          ],
          [
           null
          ],
          [
           null
          ],
          [
           "PoS"
          ],
          [
           "Scrypt"
          ],
          [
           null
          ],
          [
           null
          ],
          [
           null
          ],
          [
           null
          ],
          [
           null
          ],
          [
           null
          ],
          [
           null
          ],
          [
           "X11"
          ],
          [
           null
          ],
          [
           null
          ],
          [
           null
          ],
          [
           null
          ],
          [
           null
          ],
          [
           null
          ],
          [
           null
          ],
          [
           null
          ],
          [
           null
          ],
          [
           null
          ],
          [
           null
          ],
          [
           null
          ],
          [
           "Lyra2Z"
          ],
          [
           null
          ],
          [
           null
          ],
          [
           null
          ],
          [
           null
          ],
          [
           "PoS"
          ],
          [
           null
          ],
          [
           null
          ],
          [
           null
          ],
          [
           null
          ],
          [
           null
          ],
          [
           null
          ],
          [
           "X13"
          ],
          [
           null
          ],
          [
           null
          ],
          [
           null
          ],
          [
           null
          ],
          [
           null
          ],
          [
           "X14"
          ],
          [
           "PoS"
          ],
          [
           null
          ],
          [
           "SHA-256D"
          ],
          [
           "Ethash"
          ],
          [
           null
          ],
          [
           null
          ],
          [
           null
          ],
          [
           null
          ],
          [
           null
          ],
          [
           "Equihash"
          ],
          [
           "DPoS"
          ],
          [
           "X11"
          ],
          [
           "Scrypt"
          ],
          [
           "X11"
          ],
          [
           "X13"
          ],
          [
           "X11"
          ],
          [
           "PoS"
          ],
          [
           "Scrypt"
          ],
          [
           "Scrypt"
          ],
          [
           "X11"
          ],
          [
           "PoS"
          ],
          [
           "X11"
          ],
          [
           "SHA-256"
          ],
          [
           "Scrypt"
          ],
          [
           "X11"
          ],
          [
           "Scrypt"
          ],
          [
           "Scrypt"
          ],
          [
           "X11"
          ],
          [
           "CryptoNight"
          ],
          [
           "Scrypt"
          ],
          [
           "Scrypt"
          ],
          [
           "Scrypt"
          ],
          [
           "Scrypt"
          ],
          [
           "Quark"
          ],
          [
           "QuBit"
          ],
          [
           "Scrypt"
          ],
          [
           "CryptoNight"
          ],
          [
           "Lyra2RE"
          ],
          [
           "Scrypt"
          ],
          [
           "SHA-256"
          ],
          [
           "X11"
          ],
          [
           "Scrypt"
          ],
          [
           "X11"
          ],
          [
           "Scrypt"
          ],
          [
           "CryptoNight-V7"
          ],
          [
           "Scrypt"
          ],
          [
           "Scrypt"
          ],
          [
           "Scrypt"
          ],
          [
           "X13"
          ],
          [
           "X11"
          ],
          [
           "Equihash"
          ],
          [
           "Scrypt"
          ],
          [
           "Scrypt"
          ],
          [
           "Lyra2RE"
          ],
          [
           "Scrypt"
          ],
          [
           "Dagger-Hashimoto"
          ],
          [
           "X11"
          ],
          [
           "Blake2S"
          ],
          [
           "X11"
          ],
          [
           "Scrypt"
          ],
          [
           "PoS"
          ],
          [
           "X11"
          ],
          [
           "NIST5"
          ],
          [
           "PoS"
          ],
          [
           "X11"
          ],
          [
           "Scrypt"
          ],
          [
           "Scrypt"
          ],
          [
           "Scrypt"
          ],
          [
           "SHA-256"
          ],
          [
           "X11"
          ],
          [
           "Scrypt"
          ],
          [
           "Scrypt"
          ],
          [
           "SHA-256"
          ],
          [
           "PoS"
          ],
          [
           "Scrypt"
          ],
          [
           "X15"
          ],
          [
           "SHA-256"
          ],
          [
           "Scrypt"
          ],
          [
           "POS 3.0"
          ],
          [
           "CryptoNight-V7"
          ],
          [
           "536"
          ],
          [
           "Argon2d"
          ],
          [
           "Blake2b"
          ],
          [
           "Cloverhash"
          ],
          [
           "CryptoNight"
          ],
          [
           "NIST5"
          ],
          [
           "X11"
          ],
          [
           "NIST5"
          ],
          [
           "Skein"
          ],
          [
           "Scrypt"
          ],
          [
           "X13"
          ],
          [
           "Scrypt"
          ],
          [
           "X11"
          ],
          [
           "X11"
          ],
          [
           "Scrypt"
          ],
          [
           "CryptoNight"
          ],
          [
           "X13"
          ],
          [
           "Time Travel"
          ],
          [
           "Scrypt"
          ],
          [
           "Keccak"
          ],
          [
           "SkunkHash v2 Raptor"
          ],
          [
           "X11"
          ],
          [
           "Skein"
          ],
          [
           "SHA-256"
          ],
          [
           "X11"
          ],
          [
           "Scrypt"
          ],
          [
           "VeChainThor Authority"
          ],
          [
           "Scrypt"
          ],
          [
           "PoS"
          ],
          [
           "Scrypt"
          ],
          [
           "Scrypt"
          ],
          [
           "Scrypt"
          ],
          [
           "Scrypt"
          ],
          [
           "Scrypt"
          ],
          [
           "Scrypt"
          ],
          [
           "Scrypt"
          ],
          [
           "CryptoNight"
          ],
          [
           "SHA-512"
          ],
          [
           "Ouroboros"
          ],
          [
           "X11"
          ],
          [
           "Equihash"
          ],
          [
           "NeoScrypt"
          ],
          [
           "X11"
          ],
          [
           "Scrypt"
          ],
          [
           "NeoScrypt"
          ],
          [
           "Lyra2REv2"
          ],
          [
           "Equihash"
          ],
          [
           "Scrypt"
          ],
          [
           "SHA-256"
          ],
          [
           "NIST5"
          ],
          [
           "PHI1612"
          ],
          [
           "Dagger"
          ],
          [
           "Scrypt"
          ],
          [
           "Quark"
          ],
          [
           "Scrypt"
          ],
          [
           "POS 2.0"
          ],
          [
           "Scrypt"
          ],
          [
           "SHA-256"
          ],
          [
           "X11"
          ],
          [
           "NeoScrypt"
          ],
          [
           "Ethash"
          ],
          [
           "NeoScrypt"
          ],
          [
           "X11"
          ],
          [
           "DPoS"
          ],
          [
           "NIST5"
          ],
          [
           "X13"
          ],
          [
           "Multiple"
          ],
          [
           "Scrypt"
          ],
          [
           "CryptoNight"
          ],
          [
           "CryptoNight"
          ],
          [
           "Ethash"
          ],
          [
           "NIST5"
          ],
          [
           "Quark"
          ],
          [
           "X11"
          ],
          [
           "CryptoNight-V7"
          ],
          [
           "Scrypt"
          ],
          [
           "Scrypt"
          ],
          [
           "Scrypt"
          ],
          [
           "X11"
          ],
          [
           "BLAKE256"
          ],
          [
           "X11"
          ],
          [
           "NeoScrypt"
          ],
          [
           "Quark"
          ],
          [
           "NeoScrypt"
          ],
          [
           "Scrypt"
          ],
          [
           "Scrypt"
          ],
          [
           "Scrypt"
          ],
          [
           "X11"
          ],
          [
           "X11"
          ],
          [
           "SHA-256"
          ],
          [
           "C11"
          ],
          [
           "POS 3.0"
          ],
          [
           "Ethash"
          ],
          [
           "Scrypt"
          ],
          [
           "CryptoNight"
          ],
          [
           "SkunkHash"
          ],
          [
           "Scrypt"
          ],
          [
           "CryptoNight"
          ],
          [
           "Scrypt"
          ],
          [
           "Dagger"
          ],
          [
           "Lyra2REv2"
          ],
          [
           "X13"
          ],
          [
           "Proof-of-BibleHash"
          ],
          [
           "SHA-256 + Hive"
          ],
          [
           "Scrypt"
          ],
          [
           "Scrypt"
          ],
          [
           "X11"
          ],
          [
           "C11"
          ],
          [
           "Proof-of-Authority"
          ],
          [
           "X11"
          ],
          [
           "XEVAN"
          ],
          [
           "Scrypt"
          ],
          [
           "VBFT"
          ],
          [
           "Ethash"
          ],
          [
           "CryptoNight"
          ],
          [
           "Scrypt"
          ],
          [
           "IMesh"
          ],
          [
           "NIST5"
          ],
          [
           "Scrypt"
          ],
          [
           "Scrypt"
          ],
          [
           "Equihash"
          ],
          [
           "Scrypt"
          ],
          [
           "Lyra2Z"
          ],
          [
           "Green Protocol"
          ],
          [
           "PoS"
          ],
          [
           "Scrypt"
          ],
          [
           "Semux BFT consensus"
          ],
          [
           "X11"
          ],
          [
           "Quark"
          ],
          [
           "PoS"
          ],
          [
           "CryptoNight"
          ],
          [
           "X16R"
          ],
          [
           "Scrypt"
          ],
          [
           "NIST5"
          ],
          [
           "Lyra2RE"
          ],
          [
           "XEVAN"
          ],
          [
           "Tribus"
          ],
          [
           "Scrypt"
          ],
          [
           "Lyra2Z"
          ],
          [
           "CryptoNight"
          ],
          [
           "CryptoNight Heavy"
          ],
          [
           "CryptoNight"
          ],
          [
           "Scrypt"
          ],
          [
           "Scrypt"
          ],
          [
           "Jump Consistent Hash"
          ],
          [
           "SHA-256D"
          ],
          [
           "CryptoNight"
          ],
          [
           "Scrypt"
          ],
          [
           "X15"
          ],
          [
           "Scrypt"
          ],
          [
           "Quark"
          ],
          [
           "SHA-256"
          ],
          [
           "DPoS"
          ],
          [
           "X16R"
          ],
          [
           "HMQ1725"
          ],
          [
           "X11"
          ],
          [
           "X16R"
          ],
          [
           "Quark"
          ],
          [
           "Quark"
          ],
          [
           "Scrypt"
          ],
          [
           "Lyra2REv2"
          ],
          [
           "Quark"
          ],
          [
           "Scrypt"
          ],
          [
           "Scrypt"
          ],
          [
           "CryptoNight-V7"
          ],
          [
           "Cryptonight-GPU"
          ],
          [
           "XEVAN"
          ],
          [
           "CryptoNight Heavy"
          ],
          [
           "X11"
          ],
          [
           "X11"
          ],
          [
           "Scrypt"
          ],
          [
           "PoS"
          ],
          [
           "SHA-256"
          ],
          [
           "Keccak"
          ],
          [
           "X11"
          ],
          [
           "X11"
          ],
          [
           "Scrypt"
          ],
          [
           "SHA-512"
          ],
          [
           "X16R"
          ],
          [
           "ECC 256K1"
          ],
          [
           "Equihash"
          ],
          [
           "XEVAN"
          ],
          [
           "Lyra2Z"
          ],
          [
           "SHA-256"
          ],
          [
           "XEVAN"
          ],
          [
           "X11"
          ],
          [
           "CryptoNight"
          ],
          [
           "Quark"
          ],
          [
           "Blake"
          ],
          [
           "Blake"
          ],
          [
           "Equihash"
          ],
          [
           "Exosis"
          ],
          [
           "Scrypt"
          ],
          [
           "Scrypt"
          ],
          [
           "Equihash"
          ],
          [
           "Quark"
          ],
          [
           "Equihash"
          ],
          [
           "Quark"
          ],
          [
           "Scrypt"
          ],
          [
           "QuBit"
          ],
          [
           "X11"
          ],
          [
           "Scrypt"
          ],
          [
           "XEVAN"
          ],
          [
           "SHA-256D"
          ],
          [
           "X11"
          ],
          [
           "SHA-256"
          ],
          [
           "X13"
          ],
          [
           "SHA-256"
          ],
          [
           "X11"
          ],
          [
           "DPoS"
          ],
          [
           "Scrypt"
          ],
          [
           "Scrypt"
          ],
          [
           "X11"
          ],
          [
           "NeoScrypt"
          ],
          [
           "Scrypt"
          ],
          [
           "Blake"
          ],
          [
           "Scrypt"
          ],
          [
           "SHA-256"
          ],
          [
           "Scrypt"
          ],
          [
           "X11"
          ],
          [
           "Scrypt"
          ],
          [
           "Scrypt"
          ],
          [
           "SHA-256"
          ],
          [
           "X11"
          ],
          [
           "SHA-256"
          ],
          [
           "Scrypt"
          ],
          [
           "Scrypt"
          ],
          [
           "Scrypt"
          ],
          [
           "Groestl"
          ],
          [
           "X11"
          ],
          [
           "Scrypt"
          ],
          [
           "PoS"
          ],
          [
           "Scrypt"
          ],
          [
           "Scrypt"
          ],
          [
           "X11"
          ],
          [
           "SHA-256"
          ],
          [
           "DPoS"
          ],
          [
           "Scrypt"
          ],
          [
           "Scrypt"
          ],
          [
           "NeoScrypt"
          ],
          [
           "Multiple"
          ],
          [
           "X13"
          ],
          [
           "Equihash+Scrypt"
          ],
          [
           "DPoS"
          ],
          [
           "Ethash"
          ],
          [
           "DPoS"
          ],
          [
           "SHA-256"
          ],
          [
           "Leased POS"
          ],
          [
           "PoS"
          ],
          [
           "TRC10"
          ],
          [
           "PoS"
          ],
          [
           "SHA-256"
          ],
          [
           "Scrypt"
          ],
          [
           "CryptoNight"
          ],
          [
           "Equihash"
          ],
          [
           "Scrypt"
          ]
         ],
         "hovertemplate": "<b>%{hovertext}</b><br><br>PC 3=%{x}<br>PC 2=%{y}<br>PC 1=%{z}<br>Algorithm=%{customdata[0]}<extra></extra>",
         "hovertext": [
          "42 Coin",
          null,
          "404Coin",
          null,
          null,
          "EliteCoin",
          null,
          "Bitcoin",
          "Ethereum",
          "Litecoin",
          "Dash",
          "Monero",
          "Ethereum Classic",
          "ZCash",
          "Bitshares",
          "DigiByte",
          "BitcoinDark",
          null,
          null,
          "PayCoin",
          "ProsperCoin",
          null,
          null,
          null,
          "KoboCoin",
          null,
          null,
          "Spreadcoin",
          null,
          null,
          null,
          null,
          null,
          null,
          null,
          null,
          null,
          "Argentum",
          null,
          "Aurora Coin",
          null,
          null,
          "BlueCoin",
          null,
          "MyriadCoin",
          "MoonCoin",
          "ZetaCoin",
          "SexCoin",
          "Quatloo",
          "EnergyCoin",
          "QuarkCoin",
          "Riecoin",
          "Digitalcoin ",
          null,
          "BitBar",
          null,
          null,
          null,
          null,
          null,
          null,
          "Catcoin",
          "CryptoBullion",
          "CannaCoin",
          null,
          null,
          null,
          null,
          null,
          null,
          null,
          null,
          null,
          "CryptCoin",
          "CasinoCoin",
          null,
          "Diamond",
          "Verge",
          null,
          null,
          "DevCoin",
          "EarthCoin",
          "E-Gulden",
          null,
          "Einsteinium",
          "Emerald",
          "Exclusive Coin",
          null,
          null,
          null,
          null,
          null,
          null,
          null,
          "FlutterCoin",
          "Franko",
          null,
          null,
          "FeatherCoin",
          "GrandCoin",
          "GlobalCoin",
          "GoldCoin",
          null,
          null,
          null,
          null,
          null,
          "HoboNickels",
          null,
          null,
          "HyperStake",
          null,
          "Infinite Coin",
          "IOCoin",
          "IXcoin",
          null,
          null,
          null,
          null,
          null,
          "KrugerCoin",
          null,
          "LuckyCoin",
          null,
          "Litebar ",
          null,
          null,
          null,
          null,
          "MaxCoin",
          "MegaCoin",
          "MediterraneanCoin",
          null,
          "MintCoin",
          null,
          "MinCoin",
          null,
          "MazaCoin",
          null,
          "Nautilus Coin",
          "NavCoin",
          null,
          null,
          null,
          "NobleCoin",
          null,
          "Namecoin",
          "NyanCoin",
          "OpalCoin",
          "Orbitcoin",
          null,
          "PotCoin",
          null,
          "PhoenixCoin",
          null,
          "Reddcoin",
          null,
          "RonPaulCoin",
          null,
          null,
          null,
          null,
          "StableCoin",
          null,
          null,
          null,
          null,
          null,
          "SmartCoin",
          null,
          null,
          null,
          null,
          null,
          "SuperCoin",
          "SyncCoin",
          "SysCoin",
          null,
          null,
          "TeslaCoin",
          "TigerCoin",
          "TittieCoin",
          "TorCoin",
          "TerraCoin",
          null,
          null,
          "UnbreakableCoin",
          "Unobtanium",
          "UroCoin",
          "UnitaryStatus Dollar",
          "UltraCoin",
          null,
          null,
          "ViaCoin",
          null,
          "VeriCoin",
          "Vertcoin",
          "WorldCoin",
          null,
          null,
          "X11 Coin",
          null,
          "Crypti",
          "JouleCoin",
          null,
          "StealthCoin",
          null,
          null,
          "ZCC Coin",
          null,
          "ByteCoin",
          null,
          "DigitalNote ",
          null,
          "BurstCoin",
          "StorjCoin",
          null,
          null,
          "MonaCoin",
          null,
          "Neutron",
          null,
          null,
          null,
          "FairCoin",
          "Gulden",
          "RubyCoin",
          "PesetaCoin",
          "Kore",
          "Wild Beast Coin",
          null,
          "Dnotes",
          "Flo",
          null,
          "8BIT Coin",
          "Sativa Coin",
          null,
          null,
          null,
          "ArtByte",
          null,
          null,
          null,
          null,
          "Folding Coin",
          null,
          "Ucoin",
          "Unitus",
          "CypherPunkCoin",
          null,
          null,
          "OmniCron",
          null,
          null,
          "Vtorrent",
          null,
          "GreenCoin",
          null,
          null,
          null,
          null,
          null,
          null,
          "Cryptonite",
          null,
          null,
          null,
          "MasterCoin",
          null,
          null,
          null,
          null,
          null,
          "SoonCoin",
          null,
          null,
          "1Credit",
          null,
          null,
          null,
          null,
          "IslaCoin",
          null,
          null,
          null,
          null,
          "Nexus",
          null,
          null,
          "MarsCoin ",
          null,
          null,
          null,
          null,
          "Crypto",
          null,
          null,
          null,
          null,
          null,
          null,
          "Anarchists Prime",
          "Droidz",
          "BowsCoin",
          null,
          null,
          null,
          "Squall Coin",
          null,
          null,
          null,
          null,
          null,
          null,
          null,
          "Song Coin",
          null,
          null,
          null,
          null,
          "BitZeny",
          "Diggits",
          "Expanse",
          null,
          "Paycon",
          "Siacoin",
          null,
          "Emercoin",
          null,
          null,
          "EverGreenCoin",
          "MindCoin",
          "I0coin",
          "Decred",
          null,
          "Revolution VR",
          "HOdlcoin",
          "EDRCoin",
          "Hitcoin",
          "Gamecredits",
          null,
          "DubaiCoin",
          null,
          "CarpeDiemCoin",
          null,
          "PWR Coin",
          null,
          "BillaryCoin",
          null,
          null,
          null,
          null,
          "GPU Coin",
          null,
          null,
          "Adzcoin",
          null,
          null,
          "SoilCoin",
          "YoCoin",
          null,
          null,
          "SibCoin",
          "EuropeCoin",
          null,
          null,
          null,
          null,
          null,
          "ZeitCoin",
          null,
          "SwingCoin",
          "SafeExchangeCoin",
          "Nebuchadnezzar",
          null,
          "Francs",
          null,
          null,
          null,
          null,
          null,
          null,
          null,
          null,
          null,
          "BolivarCoin",
          null,
          null,
          null,
          null,
          null,
          "Ratecoin",
          null,
          null,
          null,
          null,
          null,
          "Revenu",
          null,
          null,
          null,
          null,
          null,
          "Clockcoin",
          "VIP Tokens",
          null,
          null,
          null,
          null,
          null,
          null,
          null,
          null,
          "BitSend",
          null,
          null,
          null,
          null,
          null,
          null,
          "Omni",
          null,
          "Let it Ride",
          null,
          null,
          null,
          "PutinCoin",
          null,
          "iBankCoin",
          null,
          null,
          "Frankywillcoin",
          null,
          null,
          null,
          null,
          "MudraCoin",
          "PizzaCoin",
          "Lutetium Coin",
          null,
          "Komodo",
          "GoldBlocks",
          null,
          null,
          null,
          null,
          "CarterCoin",
          null,
          null,
          null,
          null,
          null,
          "Karbo",
          null,
          "BitTokens",
          "ZayedCoin",
          "MustangCoin",
          null,
          "ZoneCoin",
          "Circuits of Value",
          null,
          null,
          "RootCoin",
          "DopeCoin",
          null,
          null,
          null,
          null,
          null,
          null,
          null,
          null,
          "BitCurrency",
          null,
          null,
          "DollarCoin",
          "Swiscoin",
          null,
          "Shilling",
          "BuzzCoin",
          null,
          null,
          "Opair",
          "PesoBit",
          null,
          null,
          null,
          null,
          null,
          null,
          null,
          "Halloween Coin",
          null,
          null,
          null,
          null,
          null,
          null,
          null,
          null,
          null,
          null,
          null,
          null,
          "ZCoin",
          null,
          null,
          null,
          null,
          "CoffeeCoin",
          null,
          null,
          null,
          null,
          null,
          null,
          "RoyalCoin",
          null,
          null,
          null,
          null,
          null,
          "GanjaCoin V2",
          "TeamUP",
          null,
          "LanaCoin",
          "Elementrem",
          null,
          null,
          null,
          null,
          null,
          "ZClassic",
          "ARK",
          "InsaneCoin",
          "KiloCoin",
          "ArtexCoin",
          "EmberCoin",
          "XenixCoin",
          "FreeCoin",
          "PLNCoin",
          "AquariusCoin",
          "Kurrent",
          "Creatio",
          "Eternity",
          "Eurocoin",
          "BitcoinFast",
          "Stakenet",
          "BitConnect Coin",
          "MoneyCoin",
          "Enigma",
          "Cannabis Industry Coin",
          "Russiacoin",
          "PandaCoin",
          "GameUnits",
          "GAKHcoin",
          "Allsafe",
          "LiteCreed",
          "OsmiumCoin",
          "Bikercoins",
          "HexxCoin",
          "Klingon Empire Darsek",
          "Internet of People",
          "KushCoin",
          "Printerium",
          "PacCoin",
          "Impeach",
          "Citadel",
          "Zilbercoin",
          "FirstCoin",
          "BeaverCoin",
          "FindCoin",
          "VaultCoin",
          "Zero",
          "OpenChat",
          "Canada eCoin",
          "Zoin",
          "RenosCoin",
          "DubaiCoin",
          "VirtacoinPlus",
          "TajCoin",
          "Impact",
          "EB3coin",
          "Atmos",
          "HappyCoin",
          "Coinonat",
          "MacronCoin",
          "Condensate",
          "Independent Money System",
          "ArgusCoin",
          "LomoCoin",
          "ProCurrency",
          "GoldReserve",
          "BenjiRolls",
          "GrowthCoin",
          "ILCoin",
          "Phreak",
          "Degas Coin",
          "HTML5 Coin",
          "Ultimate Secure Cash",
          "EquiTrader",
          "QTUM",
          "Quantum Resistant Ledger",
          "Espers",
          "Dynamic",
          "Nano",
          "ChanCoin",
          "Dinastycoin",
          "Denarius",
          "DigitalPrice",
          "Virta Unique Coin",
          "Bitcoin Planet",
          "Unify",
          "BritCoin",
          "SocialCoin",
          "ArcticCoin",
          "DAS",
          "Linda",
          "LeviarCoin",
          "DeepOnion",
          "Bitcore",
          "gCn Coin",
          "SmartCash",
          "Signatum",
          "Onix",
          "Cream",
          "Bitcoin Cash",
          "Monoeci",
          "Draftcoin",
          "Vechain",
          "Sojourn Coin",
          "Stakecoin",
          "NewYorkCoin",
          "FrazCoin",
          "Kronecoin",
          "AdCoin",
          "Linx",
          "CoinonatX",
          "Ethereum Dark",
          "Sumokoin",
          "Obsidian",
          "Cardano",
          "Regalcoin",
          "BitcoinZ",
          "TrezarCoin",
          "Elements",
          "TerraNovaCoin",
          "VIVO Coin",
          "Rupee",
          "Bitcoin Gold",
          "WomenCoin",
          "Theresa May Coin",
          "NamoCoin",
          "LUXCoin",
          "Pirl",
          "Xios",
          "Bitcloud 2.0",
          "eBoost",
          "KekCoin",
          "BlackholeCoin",
          "Infinity Economics",
          "Pura",
          "Innova",
          "Ellaism",
          "GoByte",
          "Magnet",
          "Lamden Tau",
          "Electra",
          "Bitcoin Diamond",
          "SHIELD",
          "Cash & Back Coin",
          "UltraNote",
          "BitCoal",
          "DaxxCoin",
          "Bulwark",
          "Kalkulus",
          "AC3",
          "Lethean",
          "GermanCoin",
          "LiteCoin Ultra",
          "PopularCoin",
          "PhantomX",
          "Photon",
          "Sucre",
          "SparksPay",
          "Digiwage",
          "GunCoin",
          "IrishCoin",
          "Trollcoin",
          "Litecoin Plus",
          "Monkey Project",
          "Pioneer Coin",
          "UnitedBitcoin",
          "Interzone",
          "TokenPay",
          "1717 Masonic Commemorative Token",
          "My Big Coin",
          "TurtleCoin",
          "MUNcoin",
          "Unified Society USDEX",
          "Niobio Cash",
          "ShareChain",
          "Travelflex",
          "KREDS",
          "Tokyo Coin",
          "BiblePay",
          "LitecoinCash",
          "BitFlip",
          "LottoCoin",
          "Crypto Improvement Fund",
          "Stipend",
          "Poa Network",
          "Pushi",
          "Ellerium",
          "Velox",
          "Ontology",
          "Callisto Network",
          "BitTube",
          "Poseidon",
          "Aidos Kuneen",
          "Bitspace",
          "Briacoin",
          "Ignition",
          "Bitrolium",
          "MedicCoin",
          "Alpenschillling",
          "Bitcoin Green",
          "Deviant Coin",
          "Abjcoin",
          "Semux",
          "FuturoCoin",
          "Carebit",
          "Zealium",
          "Monero Classic",
          "Proton",
          "iDealCash",
          "Jumpcoin",
          "Infinex",
          "Bitcoin Incognito",
          "KEYCO",
          "HollyWoodCoin",
          "GINcoin",
          "PlatinCoin",
          "Loki",
          "Newton Coin",
          "Swisscoin",
          "Xt3ch",
          "MassGrid",
          "TheVig",
          "PluraCoin",
          "EmaratCoin",
          "Dekado",
          "Lynx",
          "Poseidon Quark",
          "BitcoinWSpectrum",
          "Muse",
          "Motion",
          "PlusOneCoin",
          "Axe",
          "Trivechain",
          "Dystem",
          "Giant",
          "Peony Coin",
          "Absolute Coin",
          "Vitae",
          "HexCoin",
          "TPCash",
          "Webchain",
          "Ryo",
          "Urals Coin",
          "Qwertycoin",
          "ARENON",
          "EUNO",
          "MMOCoin",
          "Ketan",
          "Project Pai",
          "XDNA",
          "PAXEX",
          "Azart",
          "ThunderStake",
          "Kcash",
          "Xchange",
          "Acute Angle Cloud",
          "CrypticCoin",
          "Bettex coin",
          "Actinium",
          "Bitcoin SV",
          "BitMoney",
          "Junson Ming Chan Coin",
          "FREDEnergy",
          "HerbCoin",
          "Universal Molecule",
          "Lithium",
          "PirateCash",
          "Exosis",
          "Block-Logic",
          "Oduwa",
          "Beam",
          "Galilel",
          "Bithereum",
          "Crypto Sports",
          "Credit",
          "SLICE",
          "Dash Platinum",
          "Nasdacoin",
          "Beetle Coin",
          "Titan Coin",
          "Award",
          "BLAST",
          "Bitcoin Rhodium",
          "GlobalToken",
          "Insane Coin",
          "ALAX",
          "LiteDoge",
          "SolarCoin",
          "TruckCoin",
          "UFO Coin",
          "OrangeCoin",
          "BlakeCoin",
          "BitstarCoin",
          "NeosCoin",
          "HyperCoin",
          "PinkCoin",
          "Crypto Escudo",
          "AudioCoin",
          "IncaKoin",
          "Piggy Coin",
          "Crown Coin",
          "Genstake",
          "SmileyCoin",
          "XiaoMiCoin",
          "Groestlcoin",
          "CapriCoin",
          " ClubCoin",
          "Radium",
          "Bata",
          "Pakcoin",
          "Creditbit ",
          "OKCash",
          "Lisk",
          "HiCoin",
          "WhiteCoin",
          "FriendshipCoin",
          "JoinCoin",
          "Triangles Coin",
          "Vollar",
          "EOS",
          "Reality Clash",
          "Oxycoin",
          "TigerCash",
          "Waves",
          "Particl",
          "BitTorrent",
          "Nxt",
          "ZEPHYR",
          "Gapcoin",
          "Beldex",
          "Horizen",
          "BitcoinPlus"
         ],
         "legendgroup": "",
         "marker": {
          "color": "#636efa",
          "symbol": "circle"
         },
         "mode": "markers",
         "name": "",
         "scene": "scene",
         "showlegend": false,
         "type": "scatter3d",
         "x": [
          -0.5182946968120579,
          -0.51860613345786,
          -0.6537826149101984,
          0.19436432226602562,
          0.38160052591377563,
          0.015265369471471541,
          -0.453195327181292,
          0.3547942158711346,
          0.3815898699547297,
          0.341835692259846,
          -0.07336624345316878,
          0.3222395919268132,
          -0.3392121102090805,
          -0.07023147494146628,
          0.015283752485599308,
          -0.6100170533863588,
          0.0803851167785335,
          0.015280128850070565,
          -0.518300379960725,
          -0.5184683514378551,
          0.32571918666188454,
          -0.0013627393564163536,
          0.19431625522396093,
          0.015240162016154482,
          0.015279892915677759,
          -0.5183283285622389,
          0.0063293593365992525,
          0.041127110649228873,
          0.015275011459838303,
          -0.5182947301136345,
          0.015283355765906356,
          -0.5182950241350744,
          0.015284384166988428,
          0.0803868849729366,
          -0.3916521794374642,
          -0.49243773545936825,
          0.32119613927163504,
          0.18832894411723006,
          0.011274143351034717,
          0.015279614290830053,
          0.015213426001419136,
          0.01527952371418481,
          -0.08759265702986405,
          -0.2920782883826547,
          0.015285439950237394,
          0.229878656800542,
          0.014983024186460045,
          0.015265256764005822,
          0.015271722190145802,
          -0.5183242953145466,
          -0.1846674776399768,
          -0.013400741248376742,
          -0.45319768283226936,
          0.19436345807727956,
          0.015233342577951286,
          0.015280090581645847,
          0.015285879057631383,
          -0.4778220700009262,
          0.01527399187420909,
          0.35318187100337584,
          -0.2551309523241268,
          0.015284219599775427,
          -0.339756737052132,
          -0.24931667078873077,
          -0.6321780045114119,
          0.013989267737604179,
          0.19436519427112678,
          0.015180155686877276,
          -0.6321640856804344,
          -0.30363172809317,
          -0.5183737619526926,
          -0.5183191580452999,
          -0.5263063316093894,
          0.015285027149225649,
          0.015268782462599242,
          0.015277025032997549,
          -0.1842226136997257,
          -0.4531919055412277,
          0.19417767737577055,
          0.06164322528695381,
          0.1943561956325666,
          -0.29128084070654436,
          -0.4531927300531152,
          0.19436204308111205,
          0.19436604093302925,
          0.19437006631834308,
          0.08038870107228656,
          -0.5186643996774114,
          -0.5183127612228074,
          0.015278915296095676,
          -0.251017296445876,
          0.14273020179392792,
          0.015242044307293525,
          -0.4531940432268528,
          0.06164216635176889,
          0.19435746923090313,
          -0.6321689877717235,
          -0.5183784976828262,
          0.3305032066907894,
          0.38648356422916835,
          -0.48595945680423003,
          -0.14820820086395287,
          0.01526304485266462,
          -0.3392244439313011,
          -0.49245117978742264,
          0.015099976136993137,
          -0.24931897668804512,
          0.015241443322172279,
          -0.632161016605051,
          0.015286075736752969,
          -0.24938095474965702,
          0.015237688356256255,
          -0.5182950979441944,
          -0.6321623166630922,
          0.015026290621501683,
          0.31244695835694125,
          -0.18421035806297,
          0.32624948736659376,
          0.1777417953490455,
          0.015283322057685279,
          -0.5182987353809918,
          0.013592714848043435,
          0.464558776886018,
          0.015286043239484128,
          0.19436581567118008,
          0.011297397467075134,
          -0.4531923188555214,
          -0.1616689977025224,
          0.08037879442974374,
          0.3922010526030751,
          0.19436377095360316,
          -0.4585090361825588,
          0.08038378510713173,
          -0.07808633407820552,
          0.015268224326493123,
          0.015254735571909435,
          -0.2493432120691241,
          0.38162635361979563,
          -0.6321684087421956,
          0.4019395885576516,
          -0.3392659286314336,
          -0.6099997359838495,
          0.0803840008364948,
          0.19436348318496324,
          -0.3523320474645978,
          0.015219743703057492,
          0.19819988005019962,
          -0.33921276086472546,
          -0.4573482035397342,
          0.01526351196234728,
          -0.3392126610798263,
          0.18749118293478526,
          -0.5849440458423816,
          -0.5182989770422668,
          -0.24933219351803576,
          0.08037306087826579,
          0.39891937396316063,
          0.015278766296907383,
          0.390223822752202,
          -0.4532113983518244,
          -0.2637077105206978,
          -0.339213734607753,
          -0.3796663265591368,
          -0.08759743774951334,
          0.01528357652818291,
          0.08038421558296742,
          -0.45323192937381274,
          -0.33922078747777,
          -0.33923812017725186,
          -0.5822188800159683,
          -0.45320459666712287,
          0.01528604419892203,
          -0.15293866176768678,
          -0.5186036197760568,
          -0.5182978559429909,
          -0.5183263614138751,
          -0.36318683205169283,
          0.08038757052931,
          -0.184416792352793,
          0.27021640539270636,
          -0.45319832645405134,
          -0.5183103955782842,
          0.38880205745921276,
          -0.3392118773444518,
          0.19436800356810008,
          -0.4531922149714214,
          -0.5182963129149044,
          0.325941964649875,
          -0.5182952269499258,
          0.015245635485290116,
          -0.24935789696407704,
          0.19436718205420234,
          -0.3489908583490674,
          0.015281899933451365,
          -0.7203191923315153,
          -0.08761454588071806,
          -0.5183038582687592,
          -0.4533292740758859,
          0.40352704589252564,
          -0.0876334818254166,
          -0.36317758591606913,
          -0.6678820228405976,
          -0.08760902485543036,
          -0.7147228347114856,
          0.3816216569911777,
          0.3418361758472125,
          -0.3248247364449861,
          -0.4531982187746876,
          0.014799026078719572,
          0.08014216216457104,
          -0.6573921213174175,
          -0.45319312531730244,
          -0.0876069371340491,
          -0.5183010381737096,
          -0.5182971872244337,
          0.0803623753311157,
          -0.08759743774951334,
          -0.45319616530446755,
          -0.3392150645763177,
          -0.5183016600481631,
          -0.16827868680760003,
          -0.518298939031154,
          -0.5183258900671172,
          -0.4531923446007643,
          0.38880345100687347,
          -0.5183032297499636,
          -0.2599620624497062,
          -0.5182962095656206,
          -0.5182957467305805,
          -0.25819030891926337,
          -0.35584908023944695,
          0.015285877384421723,
          0.38880098770340676,
          0.39220671444936256,
          -0.5183229246394648,
          -0.3392124049705575,
          -0.4531938573063398,
          -0.5182987946864391,
          0.07590660794580315,
          -0.5182957319780981,
          0.3547878979706166,
          -0.24931473079287464,
          -0.335318351267312,
          0.015285242349143583,
          -0.3631813934997456,
          0.08033737025483804,
          0.34183599178309776,
          -0.5186113429499513,
          0.015254617574542053,
          0.3922016818968493,
          -0.2493228922545396,
          0.3251498455055887,
          -0.45319983808802344,
          -0.6274724515566507,
          -0.45322690853118064,
          0.015095295759181615,
          -0.08762625889009154,
          -0.45320212239770175,
          -0.048616094216314173,
          -0.08771815174084467,
          -0.45324683341655814,
          -0.518297083759593,
          -0.5182962506256351,
          -0.5183381901589087,
          -0.07350688653179138,
          -0.4531983322021245,
          0.015279158103238294,
          -0.24947891828995009,
          0.19390161380525409,
          -0.08759551835638216,
          -0.5183050863784384,
          -0.6250086830543667,
          -0.0702391564414591,
          0.015279380913768388,
          -0.15295832774580312,
          0.3547754974926336,
          -0.7929763439804316,
          0.22508978876474478,
          0.4109338344633057,
          0.5411332428279084,
          0.38822340712918446,
          -0.5821937453598168,
          0.0803750922351607,
          -0.5822145760080438,
          -0.6413830594673284,
          0.015280448005446317,
          -0.6321670566525036,
          0.01528157534283707,
          0.08037931251136342,
          0.0803874947683985,
          -0.5229344166444928,
          0.3887984172808079,
          -0.6321667526590177,
          0.4507479861397624,
          -0.03794633928587978,
          0.0786052934698763,
          -0.16083728961410232,
          0.08030786733226648,
          -0.6413941351886694,
          0.19436430356902726,
          -0.4531957524269189,
          -0.2493174025982781,
          7.0432848569215665,
          0.01483086127887714,
          -0.08759486875638513,
          -0.023795972688858497,
          0.015282720248337104,
          0.015277827505385417,
          0.015272981716553452,
          0.015272689352898708,
          -0.5183021288099684,
          -0.5182960267125908,
          0.38879832985861973,
          -0.07247168698453109,
          -0.16137593875972694,
          -0.4531950605452827,
          0.3395038669886888,
          -0.3036979403094054,
          0.0795723270288892,
          -0.5182956906951992,
          0.22994794256937223,
          -0.12185755736030969,
          0.341833008747569,
          -0.5326220765688353,
          -0.3392402963117089,
          -0.5823973958626534,
          -0.5597257761981728,
          0.3989061677449862,
          -0.5182961947768002,
          -0.527186998002508,
          0.015254577512175176,
          -0.13113745473687885,
          -0.5182998096805185,
          -0.07307747014224893,
          0.08032597152371033,
          0.22994655837247643,
          0.38161432881358054,
          0.22994727906421103,
          -0.45320858781566076,
          -0.32489015683542954,
          -0.5912540609975067,
          -0.6322192064265245,
          0.326107014837245,
          -0.518334130544504,
          0.379849789908063,
          0.3888028570531888,
          0.3810540334992404,
          -0.3132138444472908,
          -0.2581922851380857,
          0.08034323525297249,
          0.3546349934988611,
          -0.521804793707887,
          -0.5183035012397806,
          0.013986081495130798,
          -0.45320641864746547,
          0.16912733813384562,
          0.08038701680229647,
          0.2299471966083378,
          -0.25819944769234987,
          0.22984664174448186,
          0.015271034528129912,
          -0.51849523811597,
          -0.5182955546752457,
          -0.18421087077789408,
          0.08038571683654898,
          0.19436374657830713,
          0.15829686975978674,
          -0.15293333468653192,
          0.11703165568150711,
          -0.26003128532376235,
          0.33092535779727356,
          0.34671634412478186,
          -0.5183689365602027,
          0.3887534586296584,
          0.012119777882851913,
          0.3988885664411651,
          0.14252419398774357,
          -0.3632744178970446,
          10.594378195973857,
          16.16177478586976,
          0.015281103738543899,
          0.01052793205315181,
          0.08030960724723421,
          -0.3752837259692745,
          13.9538907451158,
          -0.4531935815383397,
          -0.45116637505736895,
          -0.2493239117011805,
          0.03199964140443486,
          0.38128046635634477,
          0.3887393955304568,
          0.015284216557802722,
          0.6011486978585212,
          -0.5821981077088128,
          -0.5182950579727829,
          -0.5182952366523956,
          0.3418160847940206,
          -0.24940627544286176,
          0.4035095631726482,
          -0.337401241855463,
          -0.0876008988575241,
          -0.5182986977371371,
          -0.2473630682393918,
          0.08037600434242757,
          -0.5272167942156751,
          -0.08759760011366571,
          0.38879945381130343,
          -0.03303850886203536,
          -0.5189005091992197,
          -0.048617904125238164,
          0.3922051281882498,
          -0.07606188870825516,
          0.49044047237440236,
          -0.24932325289072496,
          0.40352767750280316,
          0.38877859172457335,
          0.38036369941736603,
          0.36954163709904847,
          -0.5215244875409514,
          -0.24931554034788275,
          0.437854196885647,
          -0.7141150749053791,
          0.38860820652524747,
          -0.5183042416342043,
          -0.3410239271413945,
          -0.30969708439068877,
          -0.25821570836390356,
          -0.07024780095995624,
          -0.23972175398168596,
          0.23155925470807986,
          0.304469084020437,
          0.08038675598378912,
          -0.3020321732892613,
          -0.2581896302063593,
          -0.5271717745815652,
          -0.25004369358154843,
          -0.3908390270886272,
          -0.25820917167084373,
          0.015284893824161072,
          -0.5183395303163261,
          0.3547187846059521,
          0.42958408960177524,
          0.08240414224455281,
          0.3451706107090038,
          -0.18421640660430522,
          -0.45320248243563666,
          -0.2493522709266762,
          -0.0876027587432618,
          0.19370517514708116,
          -0.45416356052710777,
          -0.18421432257325174,
          0.08038657631207906,
          -0.5193647919291657,
          0.08289519801306514,
          0.23155543128162376,
          -0.013470179607294012,
          0.34035169819153,
          -0.18218453248806274,
          0.40352267383298873,
          0.19436430440939223,
          -0.25298571939775377,
          -0.18891204617665003,
          0.3879440601810217,
          -0.5271819252270564,
          0.38393560333426663,
          0.3839351677404545,
          0.07723259833164246,
          0.27439430482891203,
          0.015271393648508694,
          -0.5182996458379154,
          0.34181747329512785,
          -0.5271757504901154,
          0.34183040790211106,
          -0.25818789258516855,
          -0.5299621200061391,
          0.1777356667606767,
          -0.184209805540917,
          -0.5183039539119524,
          -0.4512397051218527,
          -0.7145634052043781,
          -0.45321432918388854,
          0.19435306588169862,
          -0.09857941829029329,
          0.19433972427004195,
          -0.45319970359645295,
          -0.3251063925202668,
          -0.5239986718458391,
          0.011017760262227075,
          -0.4532581981165557,
          0.22873157884498516,
          -0.5183043348075704,
          0.3836307121478167,
          -0.5183026725146879,
          -0.07022976563302304,
          -0.5182973289039674,
          -0.4533328343697557,
          0.015029659337396058,
          -0.5190179661503036,
          -0.34412177924023934,
          -0.45337033264439336,
          0.19436202899766422,
          -0.5183117445156329,
          0.005033411873440634,
          -0.5184225349064002,
          0.04111970963829812,
          -0.4532559541164447,
          -0.5183299526372952,
          -0.08759253934302064,
          0.015284641801074951,
          0.015259304447091279,
          -0.14689580855428044,
          -0.3392357647637476,
          -0.3248294779556586,
          -0.25247845891790444,
          -0.5183765742718329,
          -0.30363359936047407,
          0.3262662498928451,
          -0.6321599872820569,
          0.4040339628887606,
          -0.32506865040595023,
          0.3816222008609975,
          -0.32509648159000043,
          -0.07054430093541647,
          19.617176433837272,
          -0.08759401615786519,
          -0.900331189290712,
          0.19814121834711837,
          -0.15593469592422596,
          -0.5183096164747933,
          0.3884760352814378,
          0.34183571590450845,
          -0.24931162588113248,
          null,
          null,
          null,
          null,
          null,
          null,
          null,
          null,
          null,
          null,
          null,
          null,
          null,
          null,
          null,
          null,
          null,
          null,
          null,
          null,
          null,
          null,
          null,
          null,
          null,
          null,
          null,
          null,
          null,
          null,
          null,
          null,
          null,
          null,
          null,
          null,
          null,
          null,
          null,
          null,
          null,
          null,
          null,
          null,
          null,
          null,
          null,
          null,
          null,
          null,
          null,
          null,
          null,
          null,
          null,
          null,
          null,
          null,
          null,
          null,
          null,
          null,
          null,
          null,
          null,
          null,
          null,
          null,
          null,
          null,
          null,
          null,
          null,
          null,
          null,
          null,
          null,
          null,
          null,
          null,
          null,
          null,
          null,
          null,
          null,
          null,
          null,
          null,
          null,
          null,
          null,
          null,
          null,
          null,
          null,
          null,
          null,
          null,
          null,
          null,
          null,
          null,
          null,
          null,
          null,
          null,
          null,
          null,
          null,
          null,
          null,
          null,
          null,
          null,
          null,
          null,
          null,
          null,
          null,
          null,
          null,
          null,
          null,
          null,
          null,
          null,
          null,
          null,
          null,
          null,
          null,
          null,
          null,
          null,
          null,
          null,
          null,
          null,
          null,
          null,
          null,
          null,
          null,
          null,
          null,
          null,
          null,
          null,
          null,
          null,
          null,
          null,
          null,
          null,
          null,
          null,
          null,
          null,
          null,
          null,
          null,
          null,
          null,
          null,
          null,
          null,
          null,
          null,
          null,
          null,
          null,
          null,
          null,
          null,
          null,
          null,
          null,
          null,
          null,
          null,
          null,
          null,
          null,
          null,
          null,
          null,
          null,
          null,
          null,
          null,
          null,
          null,
          null,
          null,
          null,
          null,
          null,
          null,
          null,
          null,
          null,
          null,
          null,
          null,
          null,
          null,
          null,
          null,
          null,
          null,
          null,
          null,
          null,
          null,
          null,
          null,
          null,
          null,
          null,
          null,
          null,
          null,
          null,
          null,
          null,
          null,
          null,
          null,
          null,
          null,
          null,
          null,
          null,
          null,
          null,
          null,
          null,
          null,
          null,
          null,
          null,
          null,
          null,
          null,
          null,
          null,
          null,
          null,
          null,
          null,
          null,
          null,
          null,
          null,
          null,
          null,
          null,
          null,
          null,
          null,
          null,
          null,
          null,
          null,
          null,
          null,
          null,
          null,
          null,
          null,
          null,
          null,
          null,
          null,
          null,
          null,
          null,
          null,
          null,
          null,
          null,
          null,
          null,
          null,
          null,
          null,
          null,
          null,
          null,
          null,
          null,
          null,
          null,
          null,
          null,
          null,
          null,
          null,
          null,
          null,
          null,
          null,
          null,
          null,
          null,
          null,
          null,
          null,
          null,
          null,
          null,
          null,
          null,
          null,
          null,
          null,
          null,
          null,
          null,
          null,
          null,
          null,
          null,
          null,
          null,
          null,
          null
         ],
         "y": [
          1.0075278041153435,
          1.0074290429124064,
          1.6854848903933088,
          -1.3094220332057716,
          -2.0254171008356607,
          -1.1519033775544143,
          1.1949347887545532,
          -2.2106111249928997,
          -2.0255345335125554,
          -1.9093091642171025,
          1.4185256524697025,
          -1.8459482096835864,
          0.8499700375042253,
          0.6373414119828446,
          -1.1518787581315568,
          1.9064871215095929,
          -0.9644594900611081,
          -1.1519017965760516,
          1.0075218033232394,
          1.0076491339265874,
          -1.8370808780977521,
          -1.3685836569374814,
          -1.309476931749656,
          -1.1519844784485582,
          -1.1519230393603177,
          1.0075513021211024,
          -0.4324572078922887,
          -1.2093527121961232,
          -1.1518888053467207,
          1.0075275300794366,
          -1.1518784809496772,
          1.007527438179478,
          -1.1518745254787484,
          -0.9644595361583735,
          0.7313455469375745,
          0.9500792044933003,
          -1.8425759181453396,
          -1.3176805035506296,
          -1.1570926792897451,
          -1.1518758668392304,
          -1.151995407811318,
          -1.1518823447743909,
          1.607382082724406,
          0.23055915471314775,
          -1.1518741308012268,
          -1.6380247427496477,
          -1.152500930665527,
          -1.151894973618809,
          -1.151900826331225,
          1.0074771253938095,
          0.9826299507823321,
          -1.1857007243851467,
          1.1949364346112554,
          -1.3094214294105468,
          -1.151988883889512,
          -1.1518756049598837,
          -1.1518685589374347,
          1.8620307402421539,
          -1.1518844263271553,
          -2.244726395947162,
          0.7989577005042475,
          -1.1518725432773127,
          0.8489250496497266,
          0.7948857308827222,
          1.8572068815618212,
          -1.1598816789698432,
          -1.309422642462186,
          -1.1519942880604384,
          1.8571971566910903,
          0.5215193388720073,
          1.0073332900649077,
          1.0074866185029914,
          1.0131254087721222,
          -1.151879648719208,
          -1.1520044751093694,
          -1.1518920163862831,
          0.9823191312660323,
          1.194945479952507,
          -1.30980719436373,
          0.11044415833167476,
          -1.309431823434858,
          1.6666135875945591,
          1.1949401100574746,
          -1.309432928557706,
          -1.3094583187352857,
          -1.309413707366911,
          -0.9644501012247655,
          1.0068346596510884,
          1.0074809598299383,
          -1.1518765677751452,
          0.2617665762362205,
          -1.268822597202011,
          -1.1519949636524691,
          1.194943703505036,
          0.110504363826434,
          -1.3094315168486967,
          1.8572005817060337,
          1.006991698173255,
          -2.3252281647973696,
          -2.2605926015876174,
          1.7407263696556263,
          1.4702430979564978,
          -1.1519143125211406,
          0.8499513006928416,
          0.9500912024309537,
          -1.1527368913100002,
          0.7948969635181646,
          -1.1519356520825896,
          1.8571878764998666,
          -1.1518694563248706,
          0.7946429384598251,
          -1.1519292310709657,
          1.0075280844050944,
          1.8571899741428646,
          -1.1522810420804623,
          -2.254325166315122,
          0.9822986753165948,
          -1.8362620782883305,
          -1.5065057691183388,
          -1.151867974402187,
          1.0075187326989705,
          -1.1566313319725723,
          -2.2822590185060836,
          -1.1518682392392092,
          -1.3094230766247388,
          -1.2037894486524259,
          1.194945769323432,
          1.8274235802931915,
          -0.9644628032666549,
          -2.2018132227211877,
          -1.3094411289538095,
          1.9148032803761865,
          -0.9644591542993424,
          0.6244601939374612,
          -1.151980441612586,
          -1.1519946607653089,
          0.7948544307687887,
          -2.025445199748203,
          1.857170444330501,
          -2.200425880181883,
          0.8494260657060726,
          1.906667513553817,
          -0.9644563317444327,
          -1.309421446952895,
          0.9751637821766213,
          -1.151946426237468,
          -1.1499431427325855,
          0.8499704921072052,
          1.1820612956993497,
          -1.1519020797416766,
          0.8499772609368677,
          -1.3174675942094467,
          1.5833057641177295,
          1.0075058191046382,
          0.7947747475643678,
          -0.9644891247963479,
          -2.206272202615293,
          -1.15196289774266,
          -2.174025503392468,
          1.1947307518392205,
          0.7460791711835604,
          0.8499604686323353,
          0.7454804564786353,
          1.6073735298122298,
          -1.1518780405365143,
          -0.9644618336914427,
          1.1949288453516085,
          0.8498567377846353,
          0.8496890981293966,
          1.5813482140681083,
          1.1948716904092793,
          -1.1518682381077447,
          1.4831248532847265,
          1.0065543311464336,
          1.0075036482787663,
          1.00749046207192,
          1.6444463133666123,
          -0.9644641777402743,
          0.9820641116607441,
          -0.8395502152895853,
          1.1949202339224843,
          1.0074852535542231,
          -2.2562718799909063,
          0.8499704694616629,
          -1.3094179070653642,
          1.1949439127722306,
          1.0075164455032584,
          -1.8367608045474861,
          1.0075281745393927,
          -1.15195856985971,
          0.7949241565097198,
          -1.3094178696436,
          0.343286354732703,
          -1.1518828156891716,
          2.02339647621396,
          1.6073533715554917,
          1.007534205107623,
          1.1941494733076832,
          -2.2551962398533116,
          1.6073868201814991,
          1.6445572977873137,
          1.9566328403104165,
          1.6072145271135923,
          2.026916024396122,
          -2.025447448080506,
          -1.909309502092074,
          2.190803641187972,
          1.1949320518152307,
          -1.1574741628682703,
          -0.9645751764903182,
          1.8743181349488849,
          1.1949440413805683,
          1.6073623271945012,
          1.0075093166960307,
          1.007504568586754,
          -0.9645672894825704,
          1.6073735298122298,
          1.1949127773975605,
          0.8499732909873303,
          1.0075130455861199,
          0.38119628801894595,
          1.0075141177355147,
          1.007162679392719,
          1.194942814029572,
          -2.256279394860637,
          1.0074481354594862,
          0.7829979207904723,
          1.0075211305453786,
          1.0075265659471273,
          1.5143859528720676,
          0.6528501075758222,
          -1.151869369049698,
          -2.2562800524141444,
          -2.2017840032229588,
          1.0072501983182318,
          0.8499708381058168,
          1.1949412817997613,
          1.0075187741347644,
          -1.0207841656797227,
          1.0075154845993688,
          -2.210716722195517,
          0.7948612908789754,
          0.13798008070604698,
          -1.1518693093383443,
          1.6445528075064721,
          -0.9650088935130836,
          -1.9093069948640113,
          1.0071543835400656,
          -1.1519053798725618,
          -2.201787028277034,
          0.7948792273731475,
          -2.093272967875025,
          1.1948915572610237,
          2.0754716536384685,
          1.1949045243953227,
          -1.1541132238933935,
          1.6073399751568413,
          1.1948931532726692,
          -0.5780380382436798,
          1.6072319013943512,
          1.194686529633317,
          1.0075168579413583,
          1.0075118825945906,
          1.0069635359331772,
          0.595038099413311,
          1.1949261845018948,
          -1.1518841827558606,
          0.7938193995636293,
          -1.3105728990479135,
          1.6073662421987789,
          1.00747262425388,
          1.8636505998241701,
          0.6372352307950824,
          -1.1519060312552465,
          1.4830990489516935,
          -2.210660485667836,
          1.9859883269734862,
          -2.155962634530448,
          -2.2069123709772596,
          -2.3204463463909337,
          -2.257050952105756,
          1.5813782253813338,
          -0.9645000585751321,
          1.5813273672347454,
          2.003153881900958,
          -1.1518754246308747,
          1.8571813927731042,
          -1.1519093484377045,
          -0.9644792209631933,
          -0.9644604974036775,
          0.9810366876206106,
          -2.2562955015334842,
          1.857187782140613,
          -2.2318368706000107,
          -1.233606499518939,
          -1.1717697046055584,
          1.4595586712327118,
          -0.9650477459131421,
          2.003161620335204,
          -1.309422020142481,
          1.1949425147474657,
          0.7948855132027084,
          3.0501019326228143,
          -1.1577937337935755,
          1.6073469972140817,
          -1.1245618741572607,
          -1.151877442267103,
          -1.1519120817889545,
          -1.1519182106129762,
          -1.1519180063430374,
          1.0075043034043243,
          1.0075262357645332,
          -2.256316187351131,
          1.4199873968105943,
          1.5021351087688526,
          1.1949316291784604,
          -1.9201552493579876,
          0.521329979639238,
          -0.9649500947751776,
          1.0075191426249086,
          -1.6378894028321282,
          0.6779658567249259,
          -1.90930728928881,
          1.002671713245908,
          0.8499433475018595,
          1.5808128717851342,
          1.8802056074331006,
          -2.2063380847344436,
          1.0075163629620025,
          1.726921432758461,
          -1.151905351881609,
          1.5598226388322205,
          1.0075225824800251,
          0.6339853907820816,
          -0.9646144027810287,
          -1.6378991395292632,
          -2.025593248480088,
          -1.6378917936017856,
          1.1948715056810295,
          2.1906263532727692,
          1.5698747836056195,
          1.857110790869367,
          -1.8365550081270965,
          1.0074304780461252,
          -2.3005569115522992,
          -2.256273925295612,
          -2.03098183840642,
          1.3687339287037432,
          1.514384360343763,
          -0.964745395946599,
          -2.2110942268100553,
          0.980247437643283,
          1.0074447572072063,
          -1.1539328894697258,
          1.1949258878121687,
          -1.2292694730977354,
          -0.9644606986468945,
          -1.6378853137027627,
          1.5143298990758174,
          -1.638099897966365,
          -1.1518954425147514,
          1.0071327285314995,
          1.007526024890648,
          0.9822984388862057,
          -0.9644616932813075,
          -1.3094211350383462,
          -1.226206597181088,
          1.4831261859147966,
          -0.07867848585823396,
          0.2692772468591422,
          -2.810484715648152,
          -2.1467779137738434,
          1.007441714028665,
          -2.2564317827088107,
          -1.1556022138228692,
          -2.2062923038220594,
          -1.2692828335852302,
          1.644150714435292,
          3.31747182254731,
          3.165916791066664,
          -1.1518882059634943,
          -1.1594892796949468,
          -0.9646921677653825,
          0.9331911530749921,
          3.5657615441410484,
          1.1949317851319758,
          1.451075646537293,
          0.7948266741499044,
          1.40304477832245,
          -2.029058746359566,
          -2.2568168088446594,
          -1.1518790823715876,
          -2.3597695531984346,
          1.5813574870334461,
          1.0075262725086944,
          1.0075252080366968,
          -1.9093246029459507,
          0.7946606296343667,
          -2.255349696202969,
          1.6426716926771014,
          1.607335511403982,
          1.0075127598344733,
          2.210994736471389,
          -0.9645006958502939,
          1.7269422509091947,
          1.6073379638736092,
          -2.256275055975795,
          0.6604401088056433,
          1.0049052751073966,
          -0.5780205681140996,
          -2.2017925759326715,
          0.8806143096767564,
          -2.326365586225585,
          0.7948844901698358,
          -2.2551901993955688,
          -2.2566063323910623,
          -2.1697853121983943,
          -2.352225742384815,
          1.0037189141033234,
          0.7948683977221224,
          -2.2186585011703257,
          2.030895416867664,
          -2.256725149127039,
          1.0074845218271968,
          1.6939987301478068,
          0.04102047472527196,
          1.5140260922981001,
          0.6373006303671266,
          1.8657743591422813,
          -1.2863060235909893,
          -2.1273711662183414,
          -0.9644612300046582,
          0.873061159531331,
          1.5143819107279248,
          1.7270266645826724,
          0.7853655130538588,
          0.8905837668007108,
          1.514348586195001,
          -1.151880212818701,
          1.0069644722803217,
          -2.2115990709223206,
          -2.2333911347253883,
          -0.708402084439362,
          -2.2548035036001144,
          0.9822820883667305,
          1.194923137642182,
          0.7947656150385289,
          1.6072642628046994,
          -1.3101977878797046,
          0.9898143556811613,
          0.9822538727516985,
          -0.9644634830961573,
          0.9975716489773321,
          1.3349560179941635,
          -1.2863496904008116,
          0.35834296584398145,
          -1.9127792209827468,
          1.2384464748211625,
          -2.255230410649702,
          -1.3094220207296312,
          1.1605315279101103,
          0.9855955648051834,
          -2.2604712872370696,
          1.7270047083136408,
          -2.1450391050622906,
          -2.14499129291085,
          0.03740437336608089,
          -2.2183301993209703,
          -1.1519289941811748,
          1.007518774164731,
          -1.909440222810917,
          1.7270211856855642,
          -1.9093113508910382,
          1.5143852339068369,
          0.9711993576236985,
          -1.5065609528021744,
          0.9822984676749286,
          1.0074843208001343,
          1.450865232326736,
          2.0282948422473934,
          1.1947113919380452,
          -1.3094397387674015,
          -0.30220251106060947,
          -1.3094922614493756,
          1.1949330892371053,
          2.1904801056166825,
          0.9907001111601353,
          -1.2072214741125518,
          1.1949917981385287,
          -1.6394021180230318,
          1.0074156067914497,
          -2.148926166382674,
          1.0075011128949736,
          0.637335163136796,
          1.007529643141991,
          1.194746617161785,
          -1.1522833957498655,
          1.0017892496907501,
          0.8533004446347864,
          1.1944754884570088,
          -1.3094329187178202,
          1.0075307952606805,
          -1.1744373333887599,
          1.0073792600957636,
          -1.2093600290078652,
          1.1948665417734645,
          1.0074572918239428,
          1.60737664859145,
          -1.1518698649811339,
          -1.1519574163367547,
          0.6150349924446061,
          0.8499372080981152,
          2.190786189560068,
          0.7911526271265057,
          1.00740661374841,
          0.5214871087833244,
          -1.8362754550424525,
          1.8571942218451247,
          -2.28480925085367,
          2.1910483921205404,
          -2.025446806695148,
          2.1910678373359906,
          0.6369727555115919,
          3.128787907429235,
          1.6073778979799787,
          1.3348688200920167,
          1.9058013794734838,
          0.9616717714678059,
          1.0073895641935877,
          -2.25687079804389,
          -1.9093091807372604,
          0.794891232967366,
          null,
          null,
          null,
          null,
          null,
          null,
          null,
          null,
          null,
          null,
          null,
          null,
          null,
          null,
          null,
          null,
          null,
          null,
          null,
          null,
          null,
          null,
          null,
          null,
          null,
          null,
          null,
          null,
          null,
          null,
          null,
          null,
          null,
          null,
          null,
          null,
          null,
          null,
          null,
          null,
          null,
          null,
          null,
          null,
          null,
          null,
          null,
          null,
          null,
          null,
          null,
          null,
          null,
          null,
          null,
          null,
          null,
          null,
          null,
          null,
          null,
          null,
          null,
          null,
          null,
          null,
          null,
          null,
          null,
          null,
          null,
          null,
          null,
          null,
          null,
          null,
          null,
          null,
          null,
          null,
          null,
          null,
          null,
          null,
          null,
          null,
          null,
          null,
          null,
          null,
          null,
          null,
          null,
          null,
          null,
          null,
          null,
          null,
          null,
          null,
          null,
          null,
          null,
          null,
          null,
          null,
          null,
          null,
          null,
          null,
          null,
          null,
          null,
          null,
          null,
          null,
          null,
          null,
          null,
          null,
          null,
          null,
          null,
          null,
          null,
          null,
          null,
          null,
          null,
          null,
          null,
          null,
          null,
          null,
          null,
          null,
          null,
          null,
          null,
          null,
          null,
          null,
          null,
          null,
          null,
          null,
          null,
          null,
          null,
          null,
          null,
          null,
          null,
          null,
          null,
          null,
          null,
          null,
          null,
          null,
          null,
          null,
          null,
          null,
          null,
          null,
          null,
          null,
          null,
          null,
          null,
          null,
          null,
          null,
          null,
          null,
          null,
          null,
          null,
          null,
          null,
          null,
          null,
          null,
          null,
          null,
          null,
          null,
          null,
          null,
          null,
          null,
          null,
          null,
          null,
          null,
          null,
          null,
          null,
          null,
          null,
          null,
          null,
          null,
          null,
          null,
          null,
          null,
          null,
          null,
          null,
          null,
          null,
          null,
          null,
          null,
          null,
          null,
          null,
          null,
          null,
          null,
          null,
          null,
          null,
          null,
          null,
          null,
          null,
          null,
          null,
          null,
          null,
          null,
          null,
          null,
          null,
          null,
          null,
          null,
          null,
          null,
          null,
          null,
          null,
          null,
          null,
          null,
          null,
          null,
          null,
          null,
          null,
          null,
          null,
          null,
          null,
          null,
          null,
          null,
          null,
          null,
          null,
          null,
          null,
          null,
          null,
          null,
          null,
          null,
          null,
          null,
          null,
          null,
          null,
          null,
          null,
          null,
          null,
          null,
          null,
          null,
          null,
          null,
          null,
          null,
          null,
          null,
          null,
          null,
          null,
          null,
          null,
          null,
          null,
          null,
          null,
          null,
          null,
          null,
          null,
          null,
          null,
          null,
          null,
          null,
          null,
          null,
          null,
          null,
          null,
          null,
          null,
          null,
          null,
          null,
          null,
          null,
          null,
          null,
          null,
          null,
          null,
          null,
          null,
          null,
          null
         ],
         "z": [
          -0.3280873663434585,
          -0.31140171303460873,
          2.2988625053799567,
          -0.14442340971021353,
          -0.15453868216807734,
          -0.1612538951480625,
          -0.39704558406293156,
          -0.1553617654361572,
          -0.15297882763266155,
          -0.1678040234101261,
          -0.25673894004716075,
          0.15125958606317838,
          -0.3100859137536181,
          -0.26864221878705186,
          -0.16240171611345083,
          -0.25036885206247594,
          -0.23156782438631607,
          -0.16201777453125293,
          -0.3277464782386395,
          -0.3203131091243943,
          -0.1024845669891732,
          2.562711522087976,
          -0.14150429957854596,
          -0.1592694649790886,
          -0.16182158869403745,
          -0.3265817234898328,
          -0.23305062296069418,
          -0.2077528905801896,
          -0.16187031999944113,
          -0.3280832975953097,
          -0.16238395556714788,
          -0.32806755659304876,
          -0.16247052332027898,
          -0.2316572962122737,
          0.6120028283705665,
          -0.37434979220372483,
          0.17505406351042183,
          0.23394346904598926,
          0.086602975474538,
          -0.16221645533328638,
          -0.15781579349455066,
          -0.16215568208904793,
          -0.35116427297256914,
          -0.2544594831792549,
          -0.1625276075346198,
          -0.16973238095080884,
          -0.14172188552334214,
          -0.16132103628416147,
          -0.16159890443493366,
          -0.326143541253548,
          -0.33539580304511596,
          1.5888040574893272,
          -0.3969401250978384,
          -0.14438472127465737,
          -0.1588846561292793,
          -0.1622429343653259,
          -0.16259823900088474,
          -0.3969447213850044,
          -0.16185646784313065,
          -0.16834843225602303,
          -0.026181202032772303,
          -0.16247934637883607,
          -0.27334332944042333,
          -0.28639444827133315,
          -0.2882133535847787,
          -0.02721476697337822,
          -0.1444624480721168,
          -0.1561344816136353,
          -0.2888364787950842,
          -0.3400699387143723,
          -0.32238213223978346,
          -0.32648696562836504,
          0.030581520650453747,
          -0.16245878089436283,
          -0.16055075948857164,
          -0.1619448207248163,
          -0.35531169517527095,
          -0.39731219713336363,
          -0.13159716718896974,
          -0.2597286107197457,
          -0.1439254694454964,
          -0.3073976372968524,
          -0.39722372806984146,
          -0.14421309369483987,
          -0.14419613571630444,
          -0.1447875535967509,
          -0.23183141196332605,
          -0.3032863939093004,
          -0.3267630293763691,
          -0.16217484997468004,
          -0.2611324633222016,
          -0.1933869774660573,
          -0.1592742195153933,
          -0.39718814217495246,
          -0.2601968243555059,
          -0.1439928606559905,
          -0.28861701951216334,
          -0.3191795213468009,
          3.857208903367026,
          0.4514621380495248,
          -0.16372579523637174,
          -0.3608450641516929,
          -0.161040926380369,
          -0.3092965660219555,
          -0.37377049395970674,
          -0.14562017893024243,
          -0.2863746440230734,
          -0.15975795811961702,
          -0.28891200223273017,
          -0.16260045439952067,
          -0.2810218761696895,
          -0.15962278145115996,
          -0.32806940847510463,
          -0.28886411299347886,
          -0.145827608721275,
          -0.12693094790921686,
          -0.3557572375564788,
          -0.13653774661753923,
          -0.19661896059259248,
          -0.16247334351456097,
          -0.32780344176361076,
          -0.035242717082433345,
          -0.12247911982197228,
          -0.1626093558982167,
          -0.14449026722154712,
          0.4903240769101685,
          -0.39729369882784976,
          -0.3741870794290194,
          -0.23121775162777475,
          -0.15250462650824256,
          -0.14422981097773016,
          -0.40912095289904193,
          -0.23150305124693532,
          -0.35024733368301925,
          -0.160730783312903,
          -0.15992190123679897,
          -0.2847740417429679,
          -0.15560777701047915,
          -0.28838513150787376,
          0.3682093395871232,
          -0.30263377436478883,
          -0.25281320035061183,
          -0.231538490156206,
          -0.1443858453080395,
          -0.05209877372435163,
          -0.15856161592253817,
          -0.09753388359541587,
          -0.3100567848751756,
          -0.07434370433460054,
          -0.16117073724703807,
          -0.3101205484620355,
          0.27467801064145936,
          -0.23319755574243659,
          -0.3276791864233161,
          -0.28464315348744773,
          -0.23069810262330306,
          -0.14939266373871948,
          -0.16141871829172008,
          -0.15947076192916326,
          -0.39445955534461086,
          0.8682517848885505,
          -0.3099203801546954,
          -0.11976121176804717,
          -0.3508471232006229,
          -0.16239899496930615,
          -0.23150169818207866,
          -0.3951336798334518,
          -0.3086624660299927,
          -0.3063279149404931,
          -0.35473508855189584,
          -0.3960273269937072,
          -0.162609414474115,
          -0.36003578525829455,
          -0.303944936725083,
          -0.32771734521323265,
          -0.3261541691974524,
          -0.24616116781244632,
          -0.2316518941036032,
          -0.34323098059258755,
          -0.32466470005763004,
          -0.39676693735319457,
          -0.326920497795332,
          0.29615617390464494,
          -0.31010149495995537,
          -0.144646295590702,
          -0.3972828809460446,
          -0.3279067357353512,
          -0.11658296837603059,
          -0.3280636330817729,
          -0.15977231428095842,
          -0.28463224157371586,
          -0.14460486521009622,
          -0.249573883302583,
          -0.16227237427722235,
          0.02820139680647716,
          -0.3498027826853467,
          -0.3276772218686546,
          -0.3834281101290299,
          -0.15243096603157322,
          -0.3491303603324247,
          -0.24759345345346415,
          -0.4132981414125487,
          -0.34887949200508794,
          -0.286760784592715,
          -0.15534956769384706,
          -0.16782567289195258,
          3.6888890612914333,
          -0.39687488211251376,
          -0.08924746363928834,
          -0.21821613153053832,
          0.844967656088358,
          -0.3972377261963276,
          -0.35026716381323364,
          -0.3276047531284882,
          -0.3277593138862871,
          -0.22947723305432993,
          -0.3508471232006229,
          -0.39681212672457217,
          -0.30996396357006145,
          -0.3276054781208689,
          -0.3935556937593371,
          -0.3277530750047468,
          -0.3233359552744415,
          -0.3972667652230127,
          0.29615050512715935,
          -0.3269628660818608,
          0.35775396283800254,
          -0.3279526121741422,
          -0.32802326639017815,
          -0.3618300231399562,
          -0.36123353378000256,
          -0.1625911295544434,
          0.2962814083560466,
          -0.15304575896898817,
          -0.32424554612880097,
          -0.3100778739296666,
          -0.39717659354071966,
          -0.3278007867475842,
          0.4844457599862399,
          -0.3279279309488243,
          -0.15412502442657192,
          -0.28628113507119785,
          -0.2553775474121035,
          -0.16255937054216668,
          -0.24736099166731781,
          -0.22437720239220077,
          -0.16783805744038433,
          -0.3087553875757756,
          -0.16069004953775473,
          -0.15276374086383118,
          -0.2860218402561306,
          -0.16981615146274337,
          -0.39644145347615417,
          -0.4136734776339989,
          -0.3951779882339548,
          -0.1334482480285147,
          -0.3490912899413008,
          -0.3963391883541102,
          -0.19046248844000954,
          -0.3434835804622376,
          -0.3922750607137367,
          -0.3278711324339491,
          -0.3278703371687174,
          -0.3209840288056806,
          0.2646440316256644,
          -0.3968182420783226,
          -0.16212116232791082,
          -0.2689018865721152,
          -0.11092641101279724,
          -0.35088148949780307,
          -0.32708083963179047,
          0.8830377961665152,
          -0.2673311068050189,
          -0.1619430408973242,
          -0.35881248119664166,
          -0.15398237006713658,
          0.5840802818243033,
          -0.18713073659764892,
          -0.03269500893364052,
          -0.14685406266444642,
          0.33232233176558396,
          -0.3562728259142395,
          -0.23070654413579936,
          -0.35477308636534116,
          -0.4129480713008664,
          -0.16226266466142122,
          -0.2885487866532519,
          -0.16202581358180884,
          -0.231101727809793,
          -0.2316799552563318,
          0.1374362280936845,
          0.2965460122923999,
          -0.28861963921530487,
          -0.1360145963523975,
          3.251762620365607,
          -0.11796653579793313,
          -0.34683661479163574,
          -0.2225407801710608,
          -0.4124522278495758,
          -0.14442257267352532,
          -0.3970909615347597,
          -0.2863553653070023,
          4.383950199967297,
          -0.0880945749685716,
          -0.35074763519440283,
          1.5870307521622302,
          -0.16236066060345067,
          -0.16181162266196003,
          -0.16151218466328374,
          -0.1614990959804687,
          -0.32750584990664805,
          -0.328006172841182,
          0.29672982033858797,
          -0.31488095517047504,
          0.6587041323032193,
          -0.39703173992877916,
          0.04476034150838779,
          -0.33506267357523545,
          -0.18600239869901763,
          -0.3279617475981699,
          -0.17442746860517058,
          -0.3182311827423621,
          -0.1676838865857111,
          0.4422331049096935,
          -0.30842188011559046,
          -0.34101981312936225,
          -0.38442269356517256,
          -0.1481501776313258,
          -0.32791202460127256,
          -0.40165009871823926,
          -0.16068825600561273,
          -0.35960967819950795,
          -0.32778221970472704,
          -0.09488987798151424,
          -0.22721843203072112,
          -0.1742726884799309,
          -0.15371287969597258,
          -0.1743730146854159,
          -0.39582286822414575,
          3.6937514113274696,
          0.20397854263871917,
          -0.2852860023591692,
          -0.12675636911265808,
          -0.3252391742232619,
          1.135161709145441,
          0.2961332677946924,
          -0.07851097774453487,
          -0.3146559230502574,
          -0.3617157697550629,
          -0.22696006217095308,
          -0.14308008600379918,
          0.08686470157144212,
          -0.3269197746548206,
          -0.07863418143093746,
          -0.39640466197740376,
          1.1199811614544424,
          -0.23165391684481362,
          -0.1744250102818655,
          -0.36087949235372263,
          -0.16745349710732027,
          -0.16161063536267195,
          -0.3144688476276968,
          -0.3280283364870985,
          -0.3557291278716825,
          -0.2315792194673627,
          -0.14440193730906153,
          -0.2122534982061408,
          -0.36031809844991414,
          -0.2799108009244225,
          -0.2697734557647841,
          8.043363522923665,
          -0.1511193399386628,
          -0.3235675245181577,
          0.30001279377803713,
          0.030698464162144667,
          -0.1476525227291283,
          -0.17892561154684103,
          -0.2391463572678983,
          -0.1817390284911929,
          -0.3566305923449446,
          -0.16218516776628558,
          0.14531113513199895,
          -0.22571239702277746,
          -0.3777536444633824,
          -0.4209322608992495,
          -0.39710826526535986,
          -0.30017718445310065,
          -0.2855143413622599,
          -0.3182189185476714,
          -0.10669475773977634,
          0.3040660982954919,
          -0.1624224919307488,
          -0.12678932275935778,
          -0.35587128185414935,
          -0.3280557293179866,
          -0.3280374176878527,
          -0.16667357245705208,
          -0.27988830666923015,
          -0.1502117719254256,
          -0.3732516906235548,
          -0.3503415525874772,
          -0.3277535649648471,
          3.897845737094781,
          -0.23074737781165885,
          -0.400316166894073,
          -0.35053048205421783,
          0.29631604744939266,
          -0.31545948483512787,
          -0.27455621912505634,
          -0.19052197844879812,
          -0.15289080140026884,
          -0.25326482894779306,
          -0.1506006297657837,
          -0.2860491434853449,
          -0.15251544492039612,
          0.30024886376759063,
          0.5750992302885298,
          2.1071066389693307,
          -0.13090117544308083,
          -0.2863016107698562,
          -0.13907996205428252,
          -0.3521561405669729,
          0.3099392335173317,
          -0.3272269378868852,
          -0.21077598898524208,
          2.2914154651406213,
          -0.35741873738828356,
          -0.26745880740986316,
          0.9963671836444467,
          -0.19149073702409156,
          -0.15187170186778687,
          -0.23163605294405273,
          -0.35617526999029525,
          -0.3618294708651805,
          -0.40333631000594566,
          -0.16689340094923186,
          -0.359539552243669,
          -0.36054728852008816,
          -0.16244711316749938,
          -0.3209240319658761,
          -0.1429614605944572,
          -0.15524218852786917,
          -0.1334712798959,
          3.1010329356102537,
          -0.35530598622040405,
          -0.3965808802839231,
          -0.2835434973378522,
          -0.34962923118481876,
          -0.10419462889201912,
          -0.3436821321988496,
          -0.35516725590858184,
          -0.23160738448766863,
          -0.18736910737669363,
          -0.2683434465333562,
          -0.19091777422403275,
          -0.16404454695317128,
          -0.06228894865171877,
          -0.2587901166774238,
          -0.15191245699457623,
          -0.14442261029540776,
          0.5621498136280614,
          -0.14537282867742796,
          0.37617800724468203,
          -0.4026300053186257,
          -0.1591433852865545,
          -0.15953581987843451,
          -0.2912192201980589,
          -0.17009231721873586,
          -0.1613379651205936,
          -0.32775752576536543,
          -0.1657416170979318,
          -0.4030867206246502,
          -0.16751647638073558,
          -0.36194660341273066,
          0.5799298822406955,
          -0.19582897229534818,
          -0.35578352000277,
          -0.32723981878104275,
          -0.29462557678472584,
          -0.30681965644916576,
          -0.39414272297603314,
          -0.14369776139926665,
          -0.12352665532263198,
          -0.14256423203255533,
          -0.3968084088665562,
          3.7060100618710177,
          0.10773825240762755,
          0.5342958708617271,
          -0.39434438300863706,
          -0.09948708141921946,
          -0.32662464678491576,
          -0.10994244357369058,
          -0.3274505505878408,
          -0.2686749142161595,
          -0.3279695317483837,
          -0.38842492688178704,
          -0.14597842108500922,
          -0.24156752121362232,
          -0.08942114410078404,
          -0.3841680824167498,
          -0.14421246319997943,
          -0.32724682332430766,
          0.5541926849506724,
          -0.32030176428721896,
          -0.2073132780873915,
          -0.39337235273046445,
          -0.3256840231586103,
          -0.35112313578424814,
          -0.16252402872737212,
          -0.16047706492653777,
          -0.3965779478778918,
          -0.308598969699988,
          3.689281378076488,
          -0.09332174187791635,
          -0.32287497361821366,
          -0.3396953644396484,
          -0.13727374242878976,
          -0.2890193392057166,
          -0.1325462132929848,
          3.699164198181115,
          -0.15538277220414093,
          3.700410158595661,
          -0.24954571449629295,
          -0.40488980240495526,
          -0.35105890744561413,
          34.089538262181364,
          -0.32576902537049224,
          2.460448104895438,
          -0.3261303841673236,
          0.3179199722229026,
          -0.16780508194614777,
          -0.28669857243013824,
          null,
          null,
          null,
          null,
          null,
          null,
          null,
          null,
          null,
          null,
          null,
          null,
          null,
          null,
          null,
          null,
          null,
          null,
          null,
          null,
          null,
          null,
          null,
          null,
          null,
          null,
          null,
          null,
          null,
          null,
          null,
          null,
          null,
          null,
          null,
          null,
          null,
          null,
          null,
          null,
          null,
          null,
          null,
          null,
          null,
          null,
          null,
          null,
          null,
          null,
          null,
          null,
          null,
          null,
          null,
          null,
          null,
          null,
          null,
          null,
          null,
          null,
          null,
          null,
          null,
          null,
          null,
          null,
          null,
          null,
          null,
          null,
          null,
          null,
          null,
          null,
          null,
          null,
          null,
          null,
          null,
          null,
          null,
          null,
          null,
          null,
          null,
          null,
          null,
          null,
          null,
          null,
          null,
          null,
          null,
          null,
          null,
          null,
          null,
          null,
          null,
          null,
          null,
          null,
          null,
          null,
          null,
          null,
          null,
          null,
          null,
          null,
          null,
          null,
          null,
          null,
          null,
          null,
          null,
          null,
          null,
          null,
          null,
          null,
          null,
          null,
          null,
          null,
          null,
          null,
          null,
          null,
          null,
          null,
          null,
          null,
          null,
          null,
          null,
          null,
          null,
          null,
          null,
          null,
          null,
          null,
          null,
          null,
          null,
          null,
          null,
          null,
          null,
          null,
          null,
          null,
          null,
          null,
          null,
          null,
          null,
          null,
          null,
          null,
          null,
          null,
          null,
          null,
          null,
          null,
          null,
          null,
          null,
          null,
          null,
          null,
          null,
          null,
          null,
          null,
          null,
          null,
          null,
          null,
          null,
          null,
          null,
          null,
          null,
          null,
          null,
          null,
          null,
          null,
          null,
          null,
          null,
          null,
          null,
          null,
          null,
          null,
          null,
          null,
          null,
          null,
          null,
          null,
          null,
          null,
          null,
          null,
          null,
          null,
          null,
          null,
          null,
          null,
          null,
          null,
          null,
          null,
          null,
          null,
          null,
          null,
          null,
          null,
          null,
          null,
          null,
          null,
          null,
          null,
          null,
          null,
          null,
          null,
          null,
          null,
          null,
          null,
          null,
          null,
          null,
          null,
          null,
          null,
          null,
          null,
          null,
          null,
          null,
          null,
          null,
          null,
          null,
          null,
          null,
          null,
          null,
          null,
          null,
          null,
          null,
          null,
          null,
          null,
          null,
          null,
          null,
          null,
          null,
          null,
          null,
          null,
          null,
          null,
          null,
          null,
          null,
          null,
          null,
          null,
          null,
          null,
          null,
          null,
          null,
          null,
          null,
          null,
          null,
          null,
          null,
          null,
          null,
          null,
          null,
          null,
          null,
          null,
          null,
          null,
          null,
          null,
          null,
          null,
          null,
          null,
          null,
          null,
          null,
          null,
          null,
          null,
          null,
          null,
          null,
          null,
          null,
          null,
          null,
          null,
          null,
          null,
          null
         ]
        }
       ],
       "layout": {
        "legend": {
         "tracegroupgap": 0,
         "x": 0,
         "y": 1
        },
        "margin": {
         "t": 60
        },
        "scene": {
         "domain": {
          "x": [
           0,
           1
          ],
          "y": [
           0,
           1
          ]
         },
         "xaxis": {
          "title": {
           "text": "PC 3"
          }
         },
         "yaxis": {
          "title": {
           "text": "PC 2"
          }
         },
         "zaxis": {
          "title": {
           "text": "PC 1"
          }
         }
        },
        "template": {
         "data": {
          "bar": [
           {
            "error_x": {
             "color": "#2a3f5f"
            },
            "error_y": {
             "color": "#2a3f5f"
            },
            "marker": {
             "line": {
              "color": "#E5ECF6",
              "width": 0.5
             }
            },
            "type": "bar"
           }
          ],
          "barpolar": [
           {
            "marker": {
             "line": {
              "color": "#E5ECF6",
              "width": 0.5
             }
            },
            "type": "barpolar"
           }
          ],
          "carpet": [
           {
            "aaxis": {
             "endlinecolor": "#2a3f5f",
             "gridcolor": "white",
             "linecolor": "white",
             "minorgridcolor": "white",
             "startlinecolor": "#2a3f5f"
            },
            "baxis": {
             "endlinecolor": "#2a3f5f",
             "gridcolor": "white",
             "linecolor": "white",
             "minorgridcolor": "white",
             "startlinecolor": "#2a3f5f"
            },
            "type": "carpet"
           }
          ],
          "choropleth": [
           {
            "colorbar": {
             "outlinewidth": 0,
             "ticks": ""
            },
            "type": "choropleth"
           }
          ],
          "contour": [
           {
            "colorbar": {
             "outlinewidth": 0,
             "ticks": ""
            },
            "colorscale": [
             [
              0,
              "#0d0887"
             ],
             [
              0.1111111111111111,
              "#46039f"
             ],
             [
              0.2222222222222222,
              "#7201a8"
             ],
             [
              0.3333333333333333,
              "#9c179e"
             ],
             [
              0.4444444444444444,
              "#bd3786"
             ],
             [
              0.5555555555555556,
              "#d8576b"
             ],
             [
              0.6666666666666666,
              "#ed7953"
             ],
             [
              0.7777777777777778,
              "#fb9f3a"
             ],
             [
              0.8888888888888888,
              "#fdca26"
             ],
             [
              1,
              "#f0f921"
             ]
            ],
            "type": "contour"
           }
          ],
          "contourcarpet": [
           {
            "colorbar": {
             "outlinewidth": 0,
             "ticks": ""
            },
            "type": "contourcarpet"
           }
          ],
          "heatmap": [
           {
            "colorbar": {
             "outlinewidth": 0,
             "ticks": ""
            },
            "colorscale": [
             [
              0,
              "#0d0887"
             ],
             [
              0.1111111111111111,
              "#46039f"
             ],
             [
              0.2222222222222222,
              "#7201a8"
             ],
             [
              0.3333333333333333,
              "#9c179e"
             ],
             [
              0.4444444444444444,
              "#bd3786"
             ],
             [
              0.5555555555555556,
              "#d8576b"
             ],
             [
              0.6666666666666666,
              "#ed7953"
             ],
             [
              0.7777777777777778,
              "#fb9f3a"
             ],
             [
              0.8888888888888888,
              "#fdca26"
             ],
             [
              1,
              "#f0f921"
             ]
            ],
            "type": "heatmap"
           }
          ],
          "heatmapgl": [
           {
            "colorbar": {
             "outlinewidth": 0,
             "ticks": ""
            },
            "colorscale": [
             [
              0,
              "#0d0887"
             ],
             [
              0.1111111111111111,
              "#46039f"
             ],
             [
              0.2222222222222222,
              "#7201a8"
             ],
             [
              0.3333333333333333,
              "#9c179e"
             ],
             [
              0.4444444444444444,
              "#bd3786"
             ],
             [
              0.5555555555555556,
              "#d8576b"
             ],
             [
              0.6666666666666666,
              "#ed7953"
             ],
             [
              0.7777777777777778,
              "#fb9f3a"
             ],
             [
              0.8888888888888888,
              "#fdca26"
             ],
             [
              1,
              "#f0f921"
             ]
            ],
            "type": "heatmapgl"
           }
          ],
          "histogram": [
           {
            "marker": {
             "colorbar": {
              "outlinewidth": 0,
              "ticks": ""
             }
            },
            "type": "histogram"
           }
          ],
          "histogram2d": [
           {
            "colorbar": {
             "outlinewidth": 0,
             "ticks": ""
            },
            "colorscale": [
             [
              0,
              "#0d0887"
             ],
             [
              0.1111111111111111,
              "#46039f"
             ],
             [
              0.2222222222222222,
              "#7201a8"
             ],
             [
              0.3333333333333333,
              "#9c179e"
             ],
             [
              0.4444444444444444,
              "#bd3786"
             ],
             [
              0.5555555555555556,
              "#d8576b"
             ],
             [
              0.6666666666666666,
              "#ed7953"
             ],
             [
              0.7777777777777778,
              "#fb9f3a"
             ],
             [
              0.8888888888888888,
              "#fdca26"
             ],
             [
              1,
              "#f0f921"
             ]
            ],
            "type": "histogram2d"
           }
          ],
          "histogram2dcontour": [
           {
            "colorbar": {
             "outlinewidth": 0,
             "ticks": ""
            },
            "colorscale": [
             [
              0,
              "#0d0887"
             ],
             [
              0.1111111111111111,
              "#46039f"
             ],
             [
              0.2222222222222222,
              "#7201a8"
             ],
             [
              0.3333333333333333,
              "#9c179e"
             ],
             [
              0.4444444444444444,
              "#bd3786"
             ],
             [
              0.5555555555555556,
              "#d8576b"
             ],
             [
              0.6666666666666666,
              "#ed7953"
             ],
             [
              0.7777777777777778,
              "#fb9f3a"
             ],
             [
              0.8888888888888888,
              "#fdca26"
             ],
             [
              1,
              "#f0f921"
             ]
            ],
            "type": "histogram2dcontour"
           }
          ],
          "mesh3d": [
           {
            "colorbar": {
             "outlinewidth": 0,
             "ticks": ""
            },
            "type": "mesh3d"
           }
          ],
          "parcoords": [
           {
            "line": {
             "colorbar": {
              "outlinewidth": 0,
              "ticks": ""
             }
            },
            "type": "parcoords"
           }
          ],
          "pie": [
           {
            "automargin": true,
            "type": "pie"
           }
          ],
          "scatter": [
           {
            "marker": {
             "colorbar": {
              "outlinewidth": 0,
              "ticks": ""
             }
            },
            "type": "scatter"
           }
          ],
          "scatter3d": [
           {
            "line": {
             "colorbar": {
              "outlinewidth": 0,
              "ticks": ""
             }
            },
            "marker": {
             "colorbar": {
              "outlinewidth": 0,
              "ticks": ""
             }
            },
            "type": "scatter3d"
           }
          ],
          "scattercarpet": [
           {
            "marker": {
             "colorbar": {
              "outlinewidth": 0,
              "ticks": ""
             }
            },
            "type": "scattercarpet"
           }
          ],
          "scattergeo": [
           {
            "marker": {
             "colorbar": {
              "outlinewidth": 0,
              "ticks": ""
             }
            },
            "type": "scattergeo"
           }
          ],
          "scattergl": [
           {
            "marker": {
             "colorbar": {
              "outlinewidth": 0,
              "ticks": ""
             }
            },
            "type": "scattergl"
           }
          ],
          "scattermapbox": [
           {
            "marker": {
             "colorbar": {
              "outlinewidth": 0,
              "ticks": ""
             }
            },
            "type": "scattermapbox"
           }
          ],
          "scatterpolar": [
           {
            "marker": {
             "colorbar": {
              "outlinewidth": 0,
              "ticks": ""
             }
            },
            "type": "scatterpolar"
           }
          ],
          "scatterpolargl": [
           {
            "marker": {
             "colorbar": {
              "outlinewidth": 0,
              "ticks": ""
             }
            },
            "type": "scatterpolargl"
           }
          ],
          "scatterternary": [
           {
            "marker": {
             "colorbar": {
              "outlinewidth": 0,
              "ticks": ""
             }
            },
            "type": "scatterternary"
           }
          ],
          "surface": [
           {
            "colorbar": {
             "outlinewidth": 0,
             "ticks": ""
            },
            "colorscale": [
             [
              0,
              "#0d0887"
             ],
             [
              0.1111111111111111,
              "#46039f"
             ],
             [
              0.2222222222222222,
              "#7201a8"
             ],
             [
              0.3333333333333333,
              "#9c179e"
             ],
             [
              0.4444444444444444,
              "#bd3786"
             ],
             [
              0.5555555555555556,
              "#d8576b"
             ],
             [
              0.6666666666666666,
              "#ed7953"
             ],
             [
              0.7777777777777778,
              "#fb9f3a"
             ],
             [
              0.8888888888888888,
              "#fdca26"
             ],
             [
              1,
              "#f0f921"
             ]
            ],
            "type": "surface"
           }
          ],
          "table": [
           {
            "cells": {
             "fill": {
              "color": "#EBF0F8"
             },
             "line": {
              "color": "white"
             }
            },
            "header": {
             "fill": {
              "color": "#C8D4E3"
             },
             "line": {
              "color": "white"
             }
            },
            "type": "table"
           }
          ]
         },
         "layout": {
          "annotationdefaults": {
           "arrowcolor": "#2a3f5f",
           "arrowhead": 0,
           "arrowwidth": 1
          },
          "autotypenumbers": "strict",
          "coloraxis": {
           "colorbar": {
            "outlinewidth": 0,
            "ticks": ""
           }
          },
          "colorscale": {
           "diverging": [
            [
             0,
             "#8e0152"
            ],
            [
             0.1,
             "#c51b7d"
            ],
            [
             0.2,
             "#de77ae"
            ],
            [
             0.3,
             "#f1b6da"
            ],
            [
             0.4,
             "#fde0ef"
            ],
            [
             0.5,
             "#f7f7f7"
            ],
            [
             0.6,
             "#e6f5d0"
            ],
            [
             0.7,
             "#b8e186"
            ],
            [
             0.8,
             "#7fbc41"
            ],
            [
             0.9,
             "#4d9221"
            ],
            [
             1,
             "#276419"
            ]
           ],
           "sequential": [
            [
             0,
             "#0d0887"
            ],
            [
             0.1111111111111111,
             "#46039f"
            ],
            [
             0.2222222222222222,
             "#7201a8"
            ],
            [
             0.3333333333333333,
             "#9c179e"
            ],
            [
             0.4444444444444444,
             "#bd3786"
            ],
            [
             0.5555555555555556,
             "#d8576b"
            ],
            [
             0.6666666666666666,
             "#ed7953"
            ],
            [
             0.7777777777777778,
             "#fb9f3a"
            ],
            [
             0.8888888888888888,
             "#fdca26"
            ],
            [
             1,
             "#f0f921"
            ]
           ],
           "sequentialminus": [
            [
             0,
             "#0d0887"
            ],
            [
             0.1111111111111111,
             "#46039f"
            ],
            [
             0.2222222222222222,
             "#7201a8"
            ],
            [
             0.3333333333333333,
             "#9c179e"
            ],
            [
             0.4444444444444444,
             "#bd3786"
            ],
            [
             0.5555555555555556,
             "#d8576b"
            ],
            [
             0.6666666666666666,
             "#ed7953"
            ],
            [
             0.7777777777777778,
             "#fb9f3a"
            ],
            [
             0.8888888888888888,
             "#fdca26"
            ],
            [
             1,
             "#f0f921"
            ]
           ]
          },
          "colorway": [
           "#636efa",
           "#EF553B",
           "#00cc96",
           "#ab63fa",
           "#FFA15A",
           "#19d3f3",
           "#FF6692",
           "#B6E880",
           "#FF97FF",
           "#FECB52"
          ],
          "font": {
           "color": "#2a3f5f"
          },
          "geo": {
           "bgcolor": "white",
           "lakecolor": "white",
           "landcolor": "#E5ECF6",
           "showlakes": true,
           "showland": true,
           "subunitcolor": "white"
          },
          "hoverlabel": {
           "align": "left"
          },
          "hovermode": "closest",
          "mapbox": {
           "style": "light"
          },
          "paper_bgcolor": "white",
          "plot_bgcolor": "#E5ECF6",
          "polar": {
           "angularaxis": {
            "gridcolor": "white",
            "linecolor": "white",
            "ticks": ""
           },
           "bgcolor": "#E5ECF6",
           "radialaxis": {
            "gridcolor": "white",
            "linecolor": "white",
            "ticks": ""
           }
          },
          "scene": {
           "xaxis": {
            "backgroundcolor": "#E5ECF6",
            "gridcolor": "white",
            "gridwidth": 2,
            "linecolor": "white",
            "showbackground": true,
            "ticks": "",
            "zerolinecolor": "white"
           },
           "yaxis": {
            "backgroundcolor": "#E5ECF6",
            "gridcolor": "white",
            "gridwidth": 2,
            "linecolor": "white",
            "showbackground": true,
            "ticks": "",
            "zerolinecolor": "white"
           },
           "zaxis": {
            "backgroundcolor": "#E5ECF6",
            "gridcolor": "white",
            "gridwidth": 2,
            "linecolor": "white",
            "showbackground": true,
            "ticks": "",
            "zerolinecolor": "white"
           }
          },
          "shapedefaults": {
           "line": {
            "color": "#2a3f5f"
           }
          },
          "ternary": {
           "aaxis": {
            "gridcolor": "white",
            "linecolor": "white",
            "ticks": ""
           },
           "baxis": {
            "gridcolor": "white",
            "linecolor": "white",
            "ticks": ""
           },
           "bgcolor": "#E5ECF6",
           "caxis": {
            "gridcolor": "white",
            "linecolor": "white",
            "ticks": ""
           }
          },
          "title": {
           "x": 0.05
          },
          "xaxis": {
           "automargin": true,
           "gridcolor": "white",
           "linecolor": "white",
           "ticks": "",
           "title": {
            "standoff": 15
           },
           "zerolinecolor": "white",
           "zerolinewidth": 2
          },
          "yaxis": {
           "automargin": true,
           "gridcolor": "white",
           "linecolor": "white",
           "ticks": "",
           "title": {
            "standoff": 15
           },
           "zerolinecolor": "white",
           "zerolinewidth": 2
          }
         }
        },
        "width": 1000
       }
      },
      "text/html": [
       "<div>                            <div id=\"a475998c-1af8-44f7-9d9a-9ad2ad916274\" class=\"plotly-graph-div\" style=\"height:525px; width:1000px;\"></div>            <script type=\"text/javascript\">                require([\"plotly\"], function(Plotly) {                    window.PLOTLYENV=window.PLOTLYENV || {};                                    if (document.getElementById(\"a475998c-1af8-44f7-9d9a-9ad2ad916274\")) {                    Plotly.newPlot(                        \"a475998c-1af8-44f7-9d9a-9ad2ad916274\",                        [{\"customdata\": [[\"Scrypt\"], [null], [\"Scrypt\"], [null], [null], [\"X13\"], [null], [\"SHA-256\"], [\"Ethash\"], [\"Scrypt\"], [\"X11\"], [\"CryptoNight-V7\"], [\"Ethash\"], [\"Equihash\"], [\"SHA-512\"], [\"Multiple\"], [\"SHA-256\"], [null], [null], [\"SHA-256\"], [\"Scrypt\"], [null], [null], [null], [\"X15\"], [null], [null], [\"X11\"], [null], [null], [null], [null], [null], [null], [null], [null], [null], [\"Scrypt\"], [null], [\"Scrypt\"], [null], [null], [\"Scrypt\"], [null], [\"Multiple\"], [\"Scrypt\"], [\"SHA-256\"], [\"Scrypt\"], [\"Scrypt\"], [\"Scrypt\"], [\"Quark\"], [\"Groestl\"], [\"Scrypt\"], [null], [\"Scrypt\"], [null], [null], [null], [null], [null], [null], [\"Scrypt\"], [\"Scrypt\"], [\"Scrypt\"], [null], [null], [null], [null], [null], [null], [null], [null], [null], [\"X11\"], [\"Scrypt\"], [null], [\"Groestl\"], [\"Multiple\"], [null], [null], [\"SHA-256\"], [\"Scrypt\"], [\"Scrypt\"], [null], [\"Scrypt\"], [\"Scrypt\"], [\"PoS\"], [null], [null], [null], [null], [null], [null], [null], [\"Scrypt\"], [\"Scrypt\"], [null], [null], [\"NeoScrypt\"], [\"Scrypt\"], [\"Scrypt\"], [\"Scrypt\"], [null], [null], [null], [null], [null], [\"Scrypt\"], [null], [null], [\"X11\"], [null], [\"Scrypt\"], [\"X11\"], [\"SHA-256\"], [null], [null], [null], [null], [null], [\"Scrypt\"], [null], [\"Scrypt\"], [null], [\"Scrypt\"], [null], [null], [null], [null], [\"SHA3\"], [\"Scrypt\"], [\"HybridScryptHash256\"], [null], [\"Scrypt\"], [null], [\"Scrypt\"], [null], [\"SHA-256\"], [null], [\"Scrypt\"], [\"X13\"], [null], [null], [null], [\"Scrypt\"], [null], [\"SHA-256\"], [\"Scrypt\"], [\"X13\"], [\"NeoScrypt\"], [null], [\"Scrypt\"], [null], [\"Scrypt\"], [null], [\"Scrypt\"], [null], [\"Scrypt\"], [null], [null], [null], [null], [\"Scrypt\"], [null], [null], [null], [null], [null], [\"Scrypt\"], [null], [null], [null], [null], [null], [\"X11\"], [\"X11\"], [\"SHA-256\"], [null], [null], [\"Multiple\"], [\"SHA-256\"], [\"PHI1612\"], [\"X11\"], [\"SHA-256\"], [null], [null], [\"SHA-256\"], [\"SHA-256\"], [\"X11\"], [\"Scrypt\"], [\"Scrypt\"], [null], [null], [\"Scrypt\"], [null], [\"Scrypt\"], [\"Lyra2REv2\"], [\"Scrypt\"], [null], [null], [\"X11\"], [null], [\"Multiple\"], [\"SHA-256\"], [null], [\"X13\"], [null], [null], [\"Scrypt\"], [null], [\"CryptoNight\"], [null], [\"CryptoNight\"], [null], [\"Shabal256\"], [\"Counterparty\"], [null], [null], [\"Scrypt\"], [null], [\"SHA-256\"], [null], [null], [null], [\"Groestl\"], [\"Scrypt\"], [\"Scrypt\"], [\"Scrypt\"], [\"X13\"], [\"Scrypt\"], [null], [\"Scrypt\"], [\"Scrypt\"], [null], [\"Scrypt\"], [\"X13\"], [null], [null], [null], [\"Scrypt\"], [null], [null], [null], [null], [\"Stanford Folding\"], [null], [\"X11\"], [\"Multiple\"], [\"QuBit\"], [null], [null], [\"Scrypt\"], [null], [null], [\"Scrypt\"], [null], [\"Scrypt\"], [null], [null], [null], [null], [null], [null], [\"M7 POW\"], [null], [null], [null], [\"Scrypt\"], [null], [null], [null], [null], [null], [\"SHA-256\"], [null], [null], [\"Scrypt\"], [null], [null], [null], [null], [\"X11\"], [null], [null], [null], [null], [\"SHA3\"], [null], [null], [\"X11\"], [null], [null], [null], [null], [\"Lyra2RE\"], [null], [null], [null], [null], [null], [null], [\"SHA-256\"], [\"QUAIT\"], [\"X11\"], [null], [null], [null], [\"X11\"], [null], [null], [null], [null], [null], [null], [null], [\"Scrypt\"], [null], [null], [null], [null], [\"Scrypt\"], [\"Scrypt\"], [\"Ethash\"], [null], [\"X13\"], [\"Blake2b\"], [null], [\"SHA-256\"], [null], [null], [\"X15\"], [\"X11\"], [\"SHA-256\"], [\"BLAKE256\"], [null], [\"Scrypt\"], [\"1GB AES Pattern Search\"], [\"SHA-256\"], [\"X11\"], [\"Scrypt\"], [null], [\"SHA-256\"], [null], [\"SHA-256\"], [null], [\"NIST5\"], [null], [\"Scrypt\"], [null], [null], [null], [null], [\"Scrypt\"], [null], [null], [\"X11\"], [null], [null], [\"Dagger\"], [\"Scrypt\"], [null], [null], [\"X11GOST\"], [\"X11\"], [null], [null], [null], [null], [null], [\"Scrypt\"], [null], [\"SHA-256\"], [\"Scrypt\"], [\"PoS\"], [null], [\"Scrypt\"], [null], [null], [null], [null], [null], [null], [null], [null], [null], [\"X11\"], [null], [null], [null], [null], [null], [\"X11\"], [null], [null], [null], [null], [null], [\"SHA-256\"], [null], [null], [null], [null], [null], [\"SHA-256\"], [\"NIST5\"], [null], [null], [null], [null], [null], [null], [null], [null], [\"X11\"], [null], [null], [null], [null], [null], [null], [\"Scrypt\"], [null], [\"POS 3.0\"], [null], [null], [null], [\"Scrypt\"], [null], [\"Scrypt\"], [null], [null], [\"Scrypt\"], [null], [null], [null], [null], [\"X13\"], [\"X11\"], [\"X11\"], [null], [\"Equihash\"], [\"X11\"], [null], [null], [null], [null], [\"Scrypt\"], [null], [null], [null], [null], [null], [\"CryptoNight\"], [null], [\"SHA-256\"], [\"SHA-256\"], [\"X11\"], [null], [\"Scrypt\"], [\"Multiple\"], [null], [null], [\"Scrypt\"], [\"Scrypt\"], [null], [null], [null], [null], [null], [null], [null], [null], [\"Scrypt\"], [null], [null], [\"SHA-256\"], [\"Scrypt\"], [null], [\"Scrypt\"], [\"SHA-256D\"], [null], [null], [\"PoS\"], [\"Scrypt\"], [null], [null], [null], [null], [null], [null], [null], [\"X11\"], [null], [null], [null], [null], [null], [null], [null], [null], [null], [null], [null], [null], [\"Lyra2Z\"], [null], [null], [null], [null], [\"PoS\"], [null], [null], [null], [null], [null], [null], [\"X13\"], [null], [null], [null], [null], [null], [\"X14\"], [\"PoS\"], [null], [\"SHA-256D\"], [\"Ethash\"], [null], [null], [null], [null], [null], [\"Equihash\"], [\"DPoS\"], [\"X11\"], [\"Scrypt\"], [\"X11\"], [\"X13\"], [\"X11\"], [\"PoS\"], [\"Scrypt\"], [\"Scrypt\"], [\"X11\"], [\"PoS\"], [\"X11\"], [\"SHA-256\"], [\"Scrypt\"], [\"X11\"], [\"Scrypt\"], [\"Scrypt\"], [\"X11\"], [\"CryptoNight\"], [\"Scrypt\"], [\"Scrypt\"], [\"Scrypt\"], [\"Scrypt\"], [\"Quark\"], [\"QuBit\"], [\"Scrypt\"], [\"CryptoNight\"], [\"Lyra2RE\"], [\"Scrypt\"], [\"SHA-256\"], [\"X11\"], [\"Scrypt\"], [\"X11\"], [\"Scrypt\"], [\"CryptoNight-V7\"], [\"Scrypt\"], [\"Scrypt\"], [\"Scrypt\"], [\"X13\"], [\"X11\"], [\"Equihash\"], [\"Scrypt\"], [\"Scrypt\"], [\"Lyra2RE\"], [\"Scrypt\"], [\"Dagger-Hashimoto\"], [\"X11\"], [\"Blake2S\"], [\"X11\"], [\"Scrypt\"], [\"PoS\"], [\"X11\"], [\"NIST5\"], [\"PoS\"], [\"X11\"], [\"Scrypt\"], [\"Scrypt\"], [\"Scrypt\"], [\"SHA-256\"], [\"X11\"], [\"Scrypt\"], [\"Scrypt\"], [\"SHA-256\"], [\"PoS\"], [\"Scrypt\"], [\"X15\"], [\"SHA-256\"], [\"Scrypt\"], [\"POS 3.0\"], [\"CryptoNight-V7\"], [\"536\"], [\"Argon2d\"], [\"Blake2b\"], [\"Cloverhash\"], [\"CryptoNight\"], [\"NIST5\"], [\"X11\"], [\"NIST5\"], [\"Skein\"], [\"Scrypt\"], [\"X13\"], [\"Scrypt\"], [\"X11\"], [\"X11\"], [\"Scrypt\"], [\"CryptoNight\"], [\"X13\"], [\"Time Travel\"], [\"Scrypt\"], [\"Keccak\"], [\"SkunkHash v2 Raptor\"], [\"X11\"], [\"Skein\"], [\"SHA-256\"], [\"X11\"], [\"Scrypt\"], [\"VeChainThor Authority\"], [\"Scrypt\"], [\"PoS\"], [\"Scrypt\"], [\"Scrypt\"], [\"Scrypt\"], [\"Scrypt\"], [\"Scrypt\"], [\"Scrypt\"], [\"Scrypt\"], [\"CryptoNight\"], [\"SHA-512\"], [\"Ouroboros\"], [\"X11\"], [\"Equihash\"], [\"NeoScrypt\"], [\"X11\"], [\"Scrypt\"], [\"NeoScrypt\"], [\"Lyra2REv2\"], [\"Equihash\"], [\"Scrypt\"], [\"SHA-256\"], [\"NIST5\"], [\"PHI1612\"], [\"Dagger\"], [\"Scrypt\"], [\"Quark\"], [\"Scrypt\"], [\"POS 2.0\"], [\"Scrypt\"], [\"SHA-256\"], [\"X11\"], [\"NeoScrypt\"], [\"Ethash\"], [\"NeoScrypt\"], [\"X11\"], [\"DPoS\"], [\"NIST5\"], [\"X13\"], [\"Multiple\"], [\"Scrypt\"], [\"CryptoNight\"], [\"CryptoNight\"], [\"Ethash\"], [\"NIST5\"], [\"Quark\"], [\"X11\"], [\"CryptoNight-V7\"], [\"Scrypt\"], [\"Scrypt\"], [\"Scrypt\"], [\"X11\"], [\"BLAKE256\"], [\"X11\"], [\"NeoScrypt\"], [\"Quark\"], [\"NeoScrypt\"], [\"Scrypt\"], [\"Scrypt\"], [\"Scrypt\"], [\"X11\"], [\"X11\"], [\"SHA-256\"], [\"C11\"], [\"POS 3.0\"], [\"Ethash\"], [\"Scrypt\"], [\"CryptoNight\"], [\"SkunkHash\"], [\"Scrypt\"], [\"CryptoNight\"], [\"Scrypt\"], [\"Dagger\"], [\"Lyra2REv2\"], [\"X13\"], [\"Proof-of-BibleHash\"], [\"SHA-256 + Hive\"], [\"Scrypt\"], [\"Scrypt\"], [\"X11\"], [\"C11\"], [\"Proof-of-Authority\"], [\"X11\"], [\"XEVAN\"], [\"Scrypt\"], [\"VBFT\"], [\"Ethash\"], [\"CryptoNight\"], [\"Scrypt\"], [\"IMesh\"], [\"NIST5\"], [\"Scrypt\"], [\"Scrypt\"], [\"Equihash\"], [\"Scrypt\"], [\"Lyra2Z\"], [\"Green Protocol\"], [\"PoS\"], [\"Scrypt\"], [\"Semux BFT consensus\"], [\"X11\"], [\"Quark\"], [\"PoS\"], [\"CryptoNight\"], [\"X16R\"], [\"Scrypt\"], [\"NIST5\"], [\"Lyra2RE\"], [\"XEVAN\"], [\"Tribus\"], [\"Scrypt\"], [\"Lyra2Z\"], [\"CryptoNight\"], [\"CryptoNight Heavy\"], [\"CryptoNight\"], [\"Scrypt\"], [\"Scrypt\"], [\"Jump Consistent Hash\"], [\"SHA-256D\"], [\"CryptoNight\"], [\"Scrypt\"], [\"X15\"], [\"Scrypt\"], [\"Quark\"], [\"SHA-256\"], [\"DPoS\"], [\"X16R\"], [\"HMQ1725\"], [\"X11\"], [\"X16R\"], [\"Quark\"], [\"Quark\"], [\"Scrypt\"], [\"Lyra2REv2\"], [\"Quark\"], [\"Scrypt\"], [\"Scrypt\"], [\"CryptoNight-V7\"], [\"Cryptonight-GPU\"], [\"XEVAN\"], [\"CryptoNight Heavy\"], [\"X11\"], [\"X11\"], [\"Scrypt\"], [\"PoS\"], [\"SHA-256\"], [\"Keccak\"], [\"X11\"], [\"X11\"], [\"Scrypt\"], [\"SHA-512\"], [\"X16R\"], [\"ECC 256K1\"], [\"Equihash\"], [\"XEVAN\"], [\"Lyra2Z\"], [\"SHA-256\"], [\"XEVAN\"], [\"X11\"], [\"CryptoNight\"], [\"Quark\"], [\"Blake\"], [\"Blake\"], [\"Equihash\"], [\"Exosis\"], [\"Scrypt\"], [\"Scrypt\"], [\"Equihash\"], [\"Quark\"], [\"Equihash\"], [\"Quark\"], [\"Scrypt\"], [\"QuBit\"], [\"X11\"], [\"Scrypt\"], [\"XEVAN\"], [\"SHA-256D\"], [\"X11\"], [\"SHA-256\"], [\"X13\"], [\"SHA-256\"], [\"X11\"], [\"DPoS\"], [\"Scrypt\"], [\"Scrypt\"], [\"X11\"], [\"NeoScrypt\"], [\"Scrypt\"], [\"Blake\"], [\"Scrypt\"], [\"SHA-256\"], [\"Scrypt\"], [\"X11\"], [\"Scrypt\"], [\"Scrypt\"], [\"SHA-256\"], [\"X11\"], [\"SHA-256\"], [\"Scrypt\"], [\"Scrypt\"], [\"Scrypt\"], [\"Groestl\"], [\"X11\"], [\"Scrypt\"], [\"PoS\"], [\"Scrypt\"], [\"Scrypt\"], [\"X11\"], [\"SHA-256\"], [\"DPoS\"], [\"Scrypt\"], [\"Scrypt\"], [\"NeoScrypt\"], [\"Multiple\"], [\"X13\"], [\"Equihash+Scrypt\"], [\"DPoS\"], [\"Ethash\"], [\"DPoS\"], [\"SHA-256\"], [\"Leased POS\"], [\"PoS\"], [\"TRC10\"], [\"PoS\"], [\"SHA-256\"], [\"Scrypt\"], [\"CryptoNight\"], [\"Equihash\"], [\"Scrypt\"]], \"hovertemplate\": \"<b>%{hovertext}</b><br><br>PC 3=%{x}<br>PC 2=%{y}<br>PC 1=%{z}<br>Algorithm=%{customdata[0]}<extra></extra>\", \"hovertext\": [\"42 Coin\", null, \"404Coin\", null, null, \"EliteCoin\", null, \"Bitcoin\", \"Ethereum\", \"Litecoin\", \"Dash\", \"Monero\", \"Ethereum Classic\", \"ZCash\", \"Bitshares\", \"DigiByte\", \"BitcoinDark\", null, null, \"PayCoin\", \"ProsperCoin\", null, null, null, \"KoboCoin\", null, null, \"Spreadcoin\", null, null, null, null, null, null, null, null, null, \"Argentum\", null, \"Aurora Coin\", null, null, \"BlueCoin\", null, \"MyriadCoin\", \"MoonCoin\", \"ZetaCoin\", \"SexCoin\", \"Quatloo\", \"EnergyCoin\", \"QuarkCoin\", \"Riecoin\", \"Digitalcoin \", null, \"BitBar\", null, null, null, null, null, null, \"Catcoin\", \"CryptoBullion\", \"CannaCoin\", null, null, null, null, null, null, null, null, null, \"CryptCoin\", \"CasinoCoin\", null, \"Diamond\", \"Verge\", null, null, \"DevCoin\", \"EarthCoin\", \"E-Gulden\", null, \"Einsteinium\", \"Emerald\", \"Exclusive Coin\", null, null, null, null, null, null, null, \"FlutterCoin\", \"Franko\", null, null, \"FeatherCoin\", \"GrandCoin\", \"GlobalCoin\", \"GoldCoin\", null, null, null, null, null, \"HoboNickels\", null, null, \"HyperStake\", null, \"Infinite Coin\", \"IOCoin\", \"IXcoin\", null, null, null, null, null, \"KrugerCoin\", null, \"LuckyCoin\", null, \"Litebar \", null, null, null, null, \"MaxCoin\", \"MegaCoin\", \"MediterraneanCoin\", null, \"MintCoin\", null, \"MinCoin\", null, \"MazaCoin\", null, \"Nautilus Coin\", \"NavCoin\", null, null, null, \"NobleCoin\", null, \"Namecoin\", \"NyanCoin\", \"OpalCoin\", \"Orbitcoin\", null, \"PotCoin\", null, \"PhoenixCoin\", null, \"Reddcoin\", null, \"RonPaulCoin\", null, null, null, null, \"StableCoin\", null, null, null, null, null, \"SmartCoin\", null, null, null, null, null, \"SuperCoin\", \"SyncCoin\", \"SysCoin\", null, null, \"TeslaCoin\", \"TigerCoin\", \"TittieCoin\", \"TorCoin\", \"TerraCoin\", null, null, \"UnbreakableCoin\", \"Unobtanium\", \"UroCoin\", \"UnitaryStatus Dollar\", \"UltraCoin\", null, null, \"ViaCoin\", null, \"VeriCoin\", \"Vertcoin\", \"WorldCoin\", null, null, \"X11 Coin\", null, \"Crypti\", \"JouleCoin\", null, \"StealthCoin\", null, null, \"ZCC Coin\", null, \"ByteCoin\", null, \"DigitalNote \", null, \"BurstCoin\", \"StorjCoin\", null, null, \"MonaCoin\", null, \"Neutron\", null, null, null, \"FairCoin\", \"Gulden\", \"RubyCoin\", \"PesetaCoin\", \"Kore\", \"Wild Beast Coin\", null, \"Dnotes\", \"Flo\", null, \"8BIT Coin\", \"Sativa Coin\", null, null, null, \"ArtByte\", null, null, null, null, \"Folding Coin\", null, \"Ucoin\", \"Unitus\", \"CypherPunkCoin\", null, null, \"OmniCron\", null, null, \"Vtorrent\", null, \"GreenCoin\", null, null, null, null, null, null, \"Cryptonite\", null, null, null, \"MasterCoin\", null, null, null, null, null, \"SoonCoin\", null, null, \"1Credit\", null, null, null, null, \"IslaCoin\", null, null, null, null, \"Nexus\", null, null, \"MarsCoin \", null, null, null, null, \"Crypto\", null, null, null, null, null, null, \"Anarchists Prime\", \"Droidz\", \"BowsCoin\", null, null, null, \"Squall Coin\", null, null, null, null, null, null, null, \"Song Coin\", null, null, null, null, \"BitZeny\", \"Diggits\", \"Expanse\", null, \"Paycon\", \"Siacoin\", null, \"Emercoin\", null, null, \"EverGreenCoin\", \"MindCoin\", \"I0coin\", \"Decred\", null, \"Revolution VR\", \"HOdlcoin\", \"EDRCoin\", \"Hitcoin\", \"Gamecredits\", null, \"DubaiCoin\", null, \"CarpeDiemCoin\", null, \"PWR Coin\", null, \"BillaryCoin\", null, null, null, null, \"GPU Coin\", null, null, \"Adzcoin\", null, null, \"SoilCoin\", \"YoCoin\", null, null, \"SibCoin\", \"EuropeCoin\", null, null, null, null, null, \"ZeitCoin\", null, \"SwingCoin\", \"SafeExchangeCoin\", \"Nebuchadnezzar\", null, \"Francs\", null, null, null, null, null, null, null, null, null, \"BolivarCoin\", null, null, null, null, null, \"Ratecoin\", null, null, null, null, null, \"Revenu\", null, null, null, null, null, \"Clockcoin\", \"VIP Tokens\", null, null, null, null, null, null, null, null, \"BitSend\", null, null, null, null, null, null, \"Omni\", null, \"Let it Ride\", null, null, null, \"PutinCoin\", null, \"iBankCoin\", null, null, \"Frankywillcoin\", null, null, null, null, \"MudraCoin\", \"PizzaCoin\", \"Lutetium Coin\", null, \"Komodo\", \"GoldBlocks\", null, null, null, null, \"CarterCoin\", null, null, null, null, null, \"Karbo\", null, \"BitTokens\", \"ZayedCoin\", \"MustangCoin\", null, \"ZoneCoin\", \"Circuits of Value\", null, null, \"RootCoin\", \"DopeCoin\", null, null, null, null, null, null, null, null, \"BitCurrency\", null, null, \"DollarCoin\", \"Swiscoin\", null, \"Shilling\", \"BuzzCoin\", null, null, \"Opair\", \"PesoBit\", null, null, null, null, null, null, null, \"Halloween Coin\", null, null, null, null, null, null, null, null, null, null, null, null, \"ZCoin\", null, null, null, null, \"CoffeeCoin\", null, null, null, null, null, null, \"RoyalCoin\", null, null, null, null, null, \"GanjaCoin V2\", \"TeamUP\", null, \"LanaCoin\", \"Elementrem\", null, null, null, null, null, \"ZClassic\", \"ARK\", \"InsaneCoin\", \"KiloCoin\", \"ArtexCoin\", \"EmberCoin\", \"XenixCoin\", \"FreeCoin\", \"PLNCoin\", \"AquariusCoin\", \"Kurrent\", \"Creatio\", \"Eternity\", \"Eurocoin\", \"BitcoinFast\", \"Stakenet\", \"BitConnect Coin\", \"MoneyCoin\", \"Enigma\", \"Cannabis Industry Coin\", \"Russiacoin\", \"PandaCoin\", \"GameUnits\", \"GAKHcoin\", \"Allsafe\", \"LiteCreed\", \"OsmiumCoin\", \"Bikercoins\", \"HexxCoin\", \"Klingon Empire Darsek\", \"Internet of People\", \"KushCoin\", \"Printerium\", \"PacCoin\", \"Impeach\", \"Citadel\", \"Zilbercoin\", \"FirstCoin\", \"BeaverCoin\", \"FindCoin\", \"VaultCoin\", \"Zero\", \"OpenChat\", \"Canada eCoin\", \"Zoin\", \"RenosCoin\", \"DubaiCoin\", \"VirtacoinPlus\", \"TajCoin\", \"Impact\", \"EB3coin\", \"Atmos\", \"HappyCoin\", \"Coinonat\", \"MacronCoin\", \"Condensate\", \"Independent Money System\", \"ArgusCoin\", \"LomoCoin\", \"ProCurrency\", \"GoldReserve\", \"BenjiRolls\", \"GrowthCoin\", \"ILCoin\", \"Phreak\", \"Degas Coin\", \"HTML5 Coin\", \"Ultimate Secure Cash\", \"EquiTrader\", \"QTUM\", \"Quantum Resistant Ledger\", \"Espers\", \"Dynamic\", \"Nano\", \"ChanCoin\", \"Dinastycoin\", \"Denarius\", \"DigitalPrice\", \"Virta Unique Coin\", \"Bitcoin Planet\", \"Unify\", \"BritCoin\", \"SocialCoin\", \"ArcticCoin\", \"DAS\", \"Linda\", \"LeviarCoin\", \"DeepOnion\", \"Bitcore\", \"gCn Coin\", \"SmartCash\", \"Signatum\", \"Onix\", \"Cream\", \"Bitcoin Cash\", \"Monoeci\", \"Draftcoin\", \"Vechain\", \"Sojourn Coin\", \"Stakecoin\", \"NewYorkCoin\", \"FrazCoin\", \"Kronecoin\", \"AdCoin\", \"Linx\", \"CoinonatX\", \"Ethereum Dark\", \"Sumokoin\", \"Obsidian\", \"Cardano\", \"Regalcoin\", \"BitcoinZ\", \"TrezarCoin\", \"Elements\", \"TerraNovaCoin\", \"VIVO Coin\", \"Rupee\", \"Bitcoin Gold\", \"WomenCoin\", \"Theresa May Coin\", \"NamoCoin\", \"LUXCoin\", \"Pirl\", \"Xios\", \"Bitcloud 2.0\", \"eBoost\", \"KekCoin\", \"BlackholeCoin\", \"Infinity Economics\", \"Pura\", \"Innova\", \"Ellaism\", \"GoByte\", \"Magnet\", \"Lamden Tau\", \"Electra\", \"Bitcoin Diamond\", \"SHIELD\", \"Cash & Back Coin\", \"UltraNote\", \"BitCoal\", \"DaxxCoin\", \"Bulwark\", \"Kalkulus\", \"AC3\", \"Lethean\", \"GermanCoin\", \"LiteCoin Ultra\", \"PopularCoin\", \"PhantomX\", \"Photon\", \"Sucre\", \"SparksPay\", \"Digiwage\", \"GunCoin\", \"IrishCoin\", \"Trollcoin\", \"Litecoin Plus\", \"Monkey Project\", \"Pioneer Coin\", \"UnitedBitcoin\", \"Interzone\", \"TokenPay\", \"1717 Masonic Commemorative Token\", \"My Big Coin\", \"TurtleCoin\", \"MUNcoin\", \"Unified Society USDEX\", \"Niobio Cash\", \"ShareChain\", \"Travelflex\", \"KREDS\", \"Tokyo Coin\", \"BiblePay\", \"LitecoinCash\", \"BitFlip\", \"LottoCoin\", \"Crypto Improvement Fund\", \"Stipend\", \"Poa Network\", \"Pushi\", \"Ellerium\", \"Velox\", \"Ontology\", \"Callisto Network\", \"BitTube\", \"Poseidon\", \"Aidos Kuneen\", \"Bitspace\", \"Briacoin\", \"Ignition\", \"Bitrolium\", \"MedicCoin\", \"Alpenschillling\", \"Bitcoin Green\", \"Deviant Coin\", \"Abjcoin\", \"Semux\", \"FuturoCoin\", \"Carebit\", \"Zealium\", \"Monero Classic\", \"Proton\", \"iDealCash\", \"Jumpcoin\", \"Infinex\", \"Bitcoin Incognito\", \"KEYCO\", \"HollyWoodCoin\", \"GINcoin\", \"PlatinCoin\", \"Loki\", \"Newton Coin\", \"Swisscoin\", \"Xt3ch\", \"MassGrid\", \"TheVig\", \"PluraCoin\", \"EmaratCoin\", \"Dekado\", \"Lynx\", \"Poseidon Quark\", \"BitcoinWSpectrum\", \"Muse\", \"Motion\", \"PlusOneCoin\", \"Axe\", \"Trivechain\", \"Dystem\", \"Giant\", \"Peony Coin\", \"Absolute Coin\", \"Vitae\", \"HexCoin\", \"TPCash\", \"Webchain\", \"Ryo\", \"Urals Coin\", \"Qwertycoin\", \"ARENON\", \"EUNO\", \"MMOCoin\", \"Ketan\", \"Project Pai\", \"XDNA\", \"PAXEX\", \"Azart\", \"ThunderStake\", \"Kcash\", \"Xchange\", \"Acute Angle Cloud\", \"CrypticCoin\", \"Bettex coin\", \"Actinium\", \"Bitcoin SV\", \"BitMoney\", \"Junson Ming Chan Coin\", \"FREDEnergy\", \"HerbCoin\", \"Universal Molecule\", \"Lithium\", \"PirateCash\", \"Exosis\", \"Block-Logic\", \"Oduwa\", \"Beam\", \"Galilel\", \"Bithereum\", \"Crypto Sports\", \"Credit\", \"SLICE\", \"Dash Platinum\", \"Nasdacoin\", \"Beetle Coin\", \"Titan Coin\", \"Award\", \"BLAST\", \"Bitcoin Rhodium\", \"GlobalToken\", \"Insane Coin\", \"ALAX\", \"LiteDoge\", \"SolarCoin\", \"TruckCoin\", \"UFO Coin\", \"OrangeCoin\", \"BlakeCoin\", \"BitstarCoin\", \"NeosCoin\", \"HyperCoin\", \"PinkCoin\", \"Crypto Escudo\", \"AudioCoin\", \"IncaKoin\", \"Piggy Coin\", \"Crown Coin\", \"Genstake\", \"SmileyCoin\", \"XiaoMiCoin\", \"Groestlcoin\", \"CapriCoin\", \" ClubCoin\", \"Radium\", \"Bata\", \"Pakcoin\", \"Creditbit \", \"OKCash\", \"Lisk\", \"HiCoin\", \"WhiteCoin\", \"FriendshipCoin\", \"JoinCoin\", \"Triangles Coin\", \"Vollar\", \"EOS\", \"Reality Clash\", \"Oxycoin\", \"TigerCash\", \"Waves\", \"Particl\", \"BitTorrent\", \"Nxt\", \"ZEPHYR\", \"Gapcoin\", \"Beldex\", \"Horizen\", \"BitcoinPlus\"], \"legendgroup\": \"\", \"marker\": {\"color\": \"#636efa\", \"symbol\": \"circle\"}, \"mode\": \"markers\", \"name\": \"\", \"scene\": \"scene\", \"showlegend\": false, \"type\": \"scatter3d\", \"x\": [-0.5182946968120579, -0.51860613345786, -0.6537826149101984, 0.19436432226602562, 0.38160052591377563, 0.015265369471471541, -0.453195327181292, 0.3547942158711346, 0.3815898699547297, 0.341835692259846, -0.07336624345316878, 0.3222395919268132, -0.3392121102090805, -0.07023147494146628, 0.015283752485599308, -0.6100170533863588, 0.0803851167785335, 0.015280128850070565, -0.518300379960725, -0.5184683514378551, 0.32571918666188454, -0.0013627393564163536, 0.19431625522396093, 0.015240162016154482, 0.015279892915677759, -0.5183283285622389, 0.0063293593365992525, 0.041127110649228873, 0.015275011459838303, -0.5182947301136345, 0.015283355765906356, -0.5182950241350744, 0.015284384166988428, 0.0803868849729366, -0.3916521794374642, -0.49243773545936825, 0.32119613927163504, 0.18832894411723006, 0.011274143351034717, 0.015279614290830053, 0.015213426001419136, 0.01527952371418481, -0.08759265702986405, -0.2920782883826547, 0.015285439950237394, 0.229878656800542, 0.014983024186460045, 0.015265256764005822, 0.015271722190145802, -0.5183242953145466, -0.1846674776399768, -0.013400741248376742, -0.45319768283226936, 0.19436345807727956, 0.015233342577951286, 0.015280090581645847, 0.015285879057631383, -0.4778220700009262, 0.01527399187420909, 0.35318187100337584, -0.2551309523241268, 0.015284219599775427, -0.339756737052132, -0.24931667078873077, -0.6321780045114119, 0.013989267737604179, 0.19436519427112678, 0.015180155686877276, -0.6321640856804344, -0.30363172809317, -0.5183737619526926, -0.5183191580452999, -0.5263063316093894, 0.015285027149225649, 0.015268782462599242, 0.015277025032997549, -0.1842226136997257, -0.4531919055412277, 0.19417767737577055, 0.06164322528695381, 0.1943561956325666, -0.29128084070654436, -0.4531927300531152, 0.19436204308111205, 0.19436604093302925, 0.19437006631834308, 0.08038870107228656, -0.5186643996774114, -0.5183127612228074, 0.015278915296095676, -0.251017296445876, 0.14273020179392792, 0.015242044307293525, -0.4531940432268528, 0.06164216635176889, 0.19435746923090313, -0.6321689877717235, -0.5183784976828262, 0.3305032066907894, 0.38648356422916835, -0.48595945680423003, -0.14820820086395287, 0.01526304485266462, -0.3392244439313011, -0.49245117978742264, 0.015099976136993137, -0.24931897668804512, 0.015241443322172279, -0.632161016605051, 0.015286075736752969, -0.24938095474965702, 0.015237688356256255, -0.5182950979441944, -0.6321623166630922, 0.015026290621501683, 0.31244695835694125, -0.18421035806297, 0.32624948736659376, 0.1777417953490455, 0.015283322057685279, -0.5182987353809918, 0.013592714848043435, 0.464558776886018, 0.015286043239484128, 0.19436581567118008, 0.011297397467075134, -0.4531923188555214, -0.1616689977025224, 0.08037879442974374, 0.3922010526030751, 0.19436377095360316, -0.4585090361825588, 0.08038378510713173, -0.07808633407820552, 0.015268224326493123, 0.015254735571909435, -0.2493432120691241, 0.38162635361979563, -0.6321684087421956, 0.4019395885576516, -0.3392659286314336, -0.6099997359838495, 0.0803840008364948, 0.19436348318496324, -0.3523320474645978, 0.015219743703057492, 0.19819988005019962, -0.33921276086472546, -0.4573482035397342, 0.01526351196234728, -0.3392126610798263, 0.18749118293478526, -0.5849440458423816, -0.5182989770422668, -0.24933219351803576, 0.08037306087826579, 0.39891937396316063, 0.015278766296907383, 0.390223822752202, -0.4532113983518244, -0.2637077105206978, -0.339213734607753, -0.3796663265591368, -0.08759743774951334, 0.01528357652818291, 0.08038421558296742, -0.45323192937381274, -0.33922078747777, -0.33923812017725186, -0.5822188800159683, -0.45320459666712287, 0.01528604419892203, -0.15293866176768678, -0.5186036197760568, -0.5182978559429909, -0.5183263614138751, -0.36318683205169283, 0.08038757052931, -0.184416792352793, 0.27021640539270636, -0.45319832645405134, -0.5183103955782842, 0.38880205745921276, -0.3392118773444518, 0.19436800356810008, -0.4531922149714214, -0.5182963129149044, 0.325941964649875, -0.5182952269499258, 0.015245635485290116, -0.24935789696407704, 0.19436718205420234, -0.3489908583490674, 0.015281899933451365, -0.7203191923315153, -0.08761454588071806, -0.5183038582687592, -0.4533292740758859, 0.40352704589252564, -0.0876334818254166, -0.36317758591606913, -0.6678820228405976, -0.08760902485543036, -0.7147228347114856, 0.3816216569911777, 0.3418361758472125, -0.3248247364449861, -0.4531982187746876, 0.014799026078719572, 0.08014216216457104, -0.6573921213174175, -0.45319312531730244, -0.0876069371340491, -0.5183010381737096, -0.5182971872244337, 0.0803623753311157, -0.08759743774951334, -0.45319616530446755, -0.3392150645763177, -0.5183016600481631, -0.16827868680760003, -0.518298939031154, -0.5183258900671172, -0.4531923446007643, 0.38880345100687347, -0.5183032297499636, -0.2599620624497062, -0.5182962095656206, -0.5182957467305805, -0.25819030891926337, -0.35584908023944695, 0.015285877384421723, 0.38880098770340676, 0.39220671444936256, -0.5183229246394648, -0.3392124049705575, -0.4531938573063398, -0.5182987946864391, 0.07590660794580315, -0.5182957319780981, 0.3547878979706166, -0.24931473079287464, -0.335318351267312, 0.015285242349143583, -0.3631813934997456, 0.08033737025483804, 0.34183599178309776, -0.5186113429499513, 0.015254617574542053, 0.3922016818968493, -0.2493228922545396, 0.3251498455055887, -0.45319983808802344, -0.6274724515566507, -0.45322690853118064, 0.015095295759181615, -0.08762625889009154, -0.45320212239770175, -0.048616094216314173, -0.08771815174084467, -0.45324683341655814, -0.518297083759593, -0.5182962506256351, -0.5183381901589087, -0.07350688653179138, -0.4531983322021245, 0.015279158103238294, -0.24947891828995009, 0.19390161380525409, -0.08759551835638216, -0.5183050863784384, -0.6250086830543667, -0.0702391564414591, 0.015279380913768388, -0.15295832774580312, 0.3547754974926336, -0.7929763439804316, 0.22508978876474478, 0.4109338344633057, 0.5411332428279084, 0.38822340712918446, -0.5821937453598168, 0.0803750922351607, -0.5822145760080438, -0.6413830594673284, 0.015280448005446317, -0.6321670566525036, 0.01528157534283707, 0.08037931251136342, 0.0803874947683985, -0.5229344166444928, 0.3887984172808079, -0.6321667526590177, 0.4507479861397624, -0.03794633928587978, 0.0786052934698763, -0.16083728961410232, 0.08030786733226648, -0.6413941351886694, 0.19436430356902726, -0.4531957524269189, -0.2493174025982781, 7.0432848569215665, 0.01483086127887714, -0.08759486875638513, -0.023795972688858497, 0.015282720248337104, 0.015277827505385417, 0.015272981716553452, 0.015272689352898708, -0.5183021288099684, -0.5182960267125908, 0.38879832985861973, -0.07247168698453109, -0.16137593875972694, -0.4531950605452827, 0.3395038669886888, -0.3036979403094054, 0.0795723270288892, -0.5182956906951992, 0.22994794256937223, -0.12185755736030969, 0.341833008747569, -0.5326220765688353, -0.3392402963117089, -0.5823973958626534, -0.5597257761981728, 0.3989061677449862, -0.5182961947768002, -0.527186998002508, 0.015254577512175176, -0.13113745473687885, -0.5182998096805185, -0.07307747014224893, 0.08032597152371033, 0.22994655837247643, 0.38161432881358054, 0.22994727906421103, -0.45320858781566076, -0.32489015683542954, -0.5912540609975067, -0.6322192064265245, 0.326107014837245, -0.518334130544504, 0.379849789908063, 0.3888028570531888, 0.3810540334992404, -0.3132138444472908, -0.2581922851380857, 0.08034323525297249, 0.3546349934988611, -0.521804793707887, -0.5183035012397806, 0.013986081495130798, -0.45320641864746547, 0.16912733813384562, 0.08038701680229647, 0.2299471966083378, -0.25819944769234987, 0.22984664174448186, 0.015271034528129912, -0.51849523811597, -0.5182955546752457, -0.18421087077789408, 0.08038571683654898, 0.19436374657830713, 0.15829686975978674, -0.15293333468653192, 0.11703165568150711, -0.26003128532376235, 0.33092535779727356, 0.34671634412478186, -0.5183689365602027, 0.3887534586296584, 0.012119777882851913, 0.3988885664411651, 0.14252419398774357, -0.3632744178970446, 10.594378195973857, 16.16177478586976, 0.015281103738543899, 0.01052793205315181, 0.08030960724723421, -0.3752837259692745, 13.9538907451158, -0.4531935815383397, -0.45116637505736895, -0.2493239117011805, 0.03199964140443486, 0.38128046635634477, 0.3887393955304568, 0.015284216557802722, 0.6011486978585212, -0.5821981077088128, -0.5182950579727829, -0.5182952366523956, 0.3418160847940206, -0.24940627544286176, 0.4035095631726482, -0.337401241855463, -0.0876008988575241, -0.5182986977371371, -0.2473630682393918, 0.08037600434242757, -0.5272167942156751, -0.08759760011366571, 0.38879945381130343, -0.03303850886203536, -0.5189005091992197, -0.048617904125238164, 0.3922051281882498, -0.07606188870825516, 0.49044047237440236, -0.24932325289072496, 0.40352767750280316, 0.38877859172457335, 0.38036369941736603, 0.36954163709904847, -0.5215244875409514, -0.24931554034788275, 0.437854196885647, -0.7141150749053791, 0.38860820652524747, -0.5183042416342043, -0.3410239271413945, -0.30969708439068877, -0.25821570836390356, -0.07024780095995624, -0.23972175398168596, 0.23155925470807986, 0.304469084020437, 0.08038675598378912, -0.3020321732892613, -0.2581896302063593, -0.5271717745815652, -0.25004369358154843, -0.3908390270886272, -0.25820917167084373, 0.015284893824161072, -0.5183395303163261, 0.3547187846059521, 0.42958408960177524, 0.08240414224455281, 0.3451706107090038, -0.18421640660430522, -0.45320248243563666, -0.2493522709266762, -0.0876027587432618, 0.19370517514708116, -0.45416356052710777, -0.18421432257325174, 0.08038657631207906, -0.5193647919291657, 0.08289519801306514, 0.23155543128162376, -0.013470179607294012, 0.34035169819153, -0.18218453248806274, 0.40352267383298873, 0.19436430440939223, -0.25298571939775377, -0.18891204617665003, 0.3879440601810217, -0.5271819252270564, 0.38393560333426663, 0.3839351677404545, 0.07723259833164246, 0.27439430482891203, 0.015271393648508694, -0.5182996458379154, 0.34181747329512785, -0.5271757504901154, 0.34183040790211106, -0.25818789258516855, -0.5299621200061391, 0.1777356667606767, -0.184209805540917, -0.5183039539119524, -0.4512397051218527, -0.7145634052043781, -0.45321432918388854, 0.19435306588169862, -0.09857941829029329, 0.19433972427004195, -0.45319970359645295, -0.3251063925202668, -0.5239986718458391, 0.011017760262227075, -0.4532581981165557, 0.22873157884498516, -0.5183043348075704, 0.3836307121478167, -0.5183026725146879, -0.07022976563302304, -0.5182973289039674, -0.4533328343697557, 0.015029659337396058, -0.5190179661503036, -0.34412177924023934, -0.45337033264439336, 0.19436202899766422, -0.5183117445156329, 0.005033411873440634, -0.5184225349064002, 0.04111970963829812, -0.4532559541164447, -0.5183299526372952, -0.08759253934302064, 0.015284641801074951, 0.015259304447091279, -0.14689580855428044, -0.3392357647637476, -0.3248294779556586, -0.25247845891790444, -0.5183765742718329, -0.30363359936047407, 0.3262662498928451, -0.6321599872820569, 0.4040339628887606, -0.32506865040595023, 0.3816222008609975, -0.32509648159000043, -0.07054430093541647, 19.617176433837272, -0.08759401615786519, -0.900331189290712, 0.19814121834711837, -0.15593469592422596, -0.5183096164747933, 0.3884760352814378, 0.34183571590450845, -0.24931162588113248, null, null, null, null, null, null, null, null, null, null, null, null, null, null, null, null, null, null, null, null, null, null, null, null, null, null, null, null, null, null, null, null, null, null, null, null, null, null, null, null, null, null, null, null, null, null, null, null, null, null, null, null, null, null, null, null, null, null, null, null, null, null, null, null, null, null, null, null, null, null, null, null, null, null, null, null, null, null, null, null, null, null, null, null, null, null, null, null, null, null, null, null, null, null, null, null, null, null, null, null, null, null, null, null, null, null, null, null, null, null, null, null, null, null, null, null, null, null, null, null, null, null, null, null, null, null, null, null, null, null, null, null, null, null, null, null, null, null, null, null, null, null, null, null, null, null, null, null, null, null, null, null, null, null, null, null, null, null, null, null, null, null, null, null, null, null, null, null, null, null, null, null, null, null, null, null, null, null, null, null, null, null, null, null, null, null, null, null, null, null, null, null, null, null, null, null, null, null, null, null, null, null, null, null, null, null, null, null, null, null, null, null, null, null, null, null, null, null, null, null, null, null, null, null, null, null, null, null, null, null, null, null, null, null, null, null, null, null, null, null, null, null, null, null, null, null, null, null, null, null, null, null, null, null, null, null, null, null, null, null, null, null, null, null, null, null, null, null, null, null, null, null, null, null, null, null, null, null, null, null, null, null, null, null, null, null, null, null, null, null, null, null, null, null, null, null, null, null, null, null, null, null, null, null, null, null, null, null, null, null, null, null, null, null, null, null, null, null, null, null, null, null, null, null, null, null, null], \"y\": [1.0075278041153435, 1.0074290429124064, 1.6854848903933088, -1.3094220332057716, -2.0254171008356607, -1.1519033775544143, 1.1949347887545532, -2.2106111249928997, -2.0255345335125554, -1.9093091642171025, 1.4185256524697025, -1.8459482096835864, 0.8499700375042253, 0.6373414119828446, -1.1518787581315568, 1.9064871215095929, -0.9644594900611081, -1.1519017965760516, 1.0075218033232394, 1.0076491339265874, -1.8370808780977521, -1.3685836569374814, -1.309476931749656, -1.1519844784485582, -1.1519230393603177, 1.0075513021211024, -0.4324572078922887, -1.2093527121961232, -1.1518888053467207, 1.0075275300794366, -1.1518784809496772, 1.007527438179478, -1.1518745254787484, -0.9644595361583735, 0.7313455469375745, 0.9500792044933003, -1.8425759181453396, -1.3176805035506296, -1.1570926792897451, -1.1518758668392304, -1.151995407811318, -1.1518823447743909, 1.607382082724406, 0.23055915471314775, -1.1518741308012268, -1.6380247427496477, -1.152500930665527, -1.151894973618809, -1.151900826331225, 1.0074771253938095, 0.9826299507823321, -1.1857007243851467, 1.1949364346112554, -1.3094214294105468, -1.151988883889512, -1.1518756049598837, -1.1518685589374347, 1.8620307402421539, -1.1518844263271553, -2.244726395947162, 0.7989577005042475, -1.1518725432773127, 0.8489250496497266, 0.7948857308827222, 1.8572068815618212, -1.1598816789698432, -1.309422642462186, -1.1519942880604384, 1.8571971566910903, 0.5215193388720073, 1.0073332900649077, 1.0074866185029914, 1.0131254087721222, -1.151879648719208, -1.1520044751093694, -1.1518920163862831, 0.9823191312660323, 1.194945479952507, -1.30980719436373, 0.11044415833167476, -1.309431823434858, 1.6666135875945591, 1.1949401100574746, -1.309432928557706, -1.3094583187352857, -1.309413707366911, -0.9644501012247655, 1.0068346596510884, 1.0074809598299383, -1.1518765677751452, 0.2617665762362205, -1.268822597202011, -1.1519949636524691, 1.194943703505036, 0.110504363826434, -1.3094315168486967, 1.8572005817060337, 1.006991698173255, -2.3252281647973696, -2.2605926015876174, 1.7407263696556263, 1.4702430979564978, -1.1519143125211406, 0.8499513006928416, 0.9500912024309537, -1.1527368913100002, 0.7948969635181646, -1.1519356520825896, 1.8571878764998666, -1.1518694563248706, 0.7946429384598251, -1.1519292310709657, 1.0075280844050944, 1.8571899741428646, -1.1522810420804623, -2.254325166315122, 0.9822986753165948, -1.8362620782883305, -1.5065057691183388, -1.151867974402187, 1.0075187326989705, -1.1566313319725723, -2.2822590185060836, -1.1518682392392092, -1.3094230766247388, -1.2037894486524259, 1.194945769323432, 1.8274235802931915, -0.9644628032666549, -2.2018132227211877, -1.3094411289538095, 1.9148032803761865, -0.9644591542993424, 0.6244601939374612, -1.151980441612586, -1.1519946607653089, 0.7948544307687887, -2.025445199748203, 1.857170444330501, -2.200425880181883, 0.8494260657060726, 1.906667513553817, -0.9644563317444327, -1.309421446952895, 0.9751637821766213, -1.151946426237468, -1.1499431427325855, 0.8499704921072052, 1.1820612956993497, -1.1519020797416766, 0.8499772609368677, -1.3174675942094467, 1.5833057641177295, 1.0075058191046382, 0.7947747475643678, -0.9644891247963479, -2.206272202615293, -1.15196289774266, -2.174025503392468, 1.1947307518392205, 0.7460791711835604, 0.8499604686323353, 0.7454804564786353, 1.6073735298122298, -1.1518780405365143, -0.9644618336914427, 1.1949288453516085, 0.8498567377846353, 0.8496890981293966, 1.5813482140681083, 1.1948716904092793, -1.1518682381077447, 1.4831248532847265, 1.0065543311464336, 1.0075036482787663, 1.00749046207192, 1.6444463133666123, -0.9644641777402743, 0.9820641116607441, -0.8395502152895853, 1.1949202339224843, 1.0074852535542231, -2.2562718799909063, 0.8499704694616629, -1.3094179070653642, 1.1949439127722306, 1.0075164455032584, -1.8367608045474861, 1.0075281745393927, -1.15195856985971, 0.7949241565097198, -1.3094178696436, 0.343286354732703, -1.1518828156891716, 2.02339647621396, 1.6073533715554917, 1.007534205107623, 1.1941494733076832, -2.2551962398533116, 1.6073868201814991, 1.6445572977873137, 1.9566328403104165, 1.6072145271135923, 2.026916024396122, -2.025447448080506, -1.909309502092074, 2.190803641187972, 1.1949320518152307, -1.1574741628682703, -0.9645751764903182, 1.8743181349488849, 1.1949440413805683, 1.6073623271945012, 1.0075093166960307, 1.007504568586754, -0.9645672894825704, 1.6073735298122298, 1.1949127773975605, 0.8499732909873303, 1.0075130455861199, 0.38119628801894595, 1.0075141177355147, 1.007162679392719, 1.194942814029572, -2.256279394860637, 1.0074481354594862, 0.7829979207904723, 1.0075211305453786, 1.0075265659471273, 1.5143859528720676, 0.6528501075758222, -1.151869369049698, -2.2562800524141444, -2.2017840032229588, 1.0072501983182318, 0.8499708381058168, 1.1949412817997613, 1.0075187741347644, -1.0207841656797227, 1.0075154845993688, -2.210716722195517, 0.7948612908789754, 0.13798008070604698, -1.1518693093383443, 1.6445528075064721, -0.9650088935130836, -1.9093069948640113, 1.0071543835400656, -1.1519053798725618, -2.201787028277034, 0.7948792273731475, -2.093272967875025, 1.1948915572610237, 2.0754716536384685, 1.1949045243953227, -1.1541132238933935, 1.6073399751568413, 1.1948931532726692, -0.5780380382436798, 1.6072319013943512, 1.194686529633317, 1.0075168579413583, 1.0075118825945906, 1.0069635359331772, 0.595038099413311, 1.1949261845018948, -1.1518841827558606, 0.7938193995636293, -1.3105728990479135, 1.6073662421987789, 1.00747262425388, 1.8636505998241701, 0.6372352307950824, -1.1519060312552465, 1.4830990489516935, -2.210660485667836, 1.9859883269734862, -2.155962634530448, -2.2069123709772596, -2.3204463463909337, -2.257050952105756, 1.5813782253813338, -0.9645000585751321, 1.5813273672347454, 2.003153881900958, -1.1518754246308747, 1.8571813927731042, -1.1519093484377045, -0.9644792209631933, -0.9644604974036775, 0.9810366876206106, -2.2562955015334842, 1.857187782140613, -2.2318368706000107, -1.233606499518939, -1.1717697046055584, 1.4595586712327118, -0.9650477459131421, 2.003161620335204, -1.309422020142481, 1.1949425147474657, 0.7948855132027084, 3.0501019326228143, -1.1577937337935755, 1.6073469972140817, -1.1245618741572607, -1.151877442267103, -1.1519120817889545, -1.1519182106129762, -1.1519180063430374, 1.0075043034043243, 1.0075262357645332, -2.256316187351131, 1.4199873968105943, 1.5021351087688526, 1.1949316291784604, -1.9201552493579876, 0.521329979639238, -0.9649500947751776, 1.0075191426249086, -1.6378894028321282, 0.6779658567249259, -1.90930728928881, 1.002671713245908, 0.8499433475018595, 1.5808128717851342, 1.8802056074331006, -2.2063380847344436, 1.0075163629620025, 1.726921432758461, -1.151905351881609, 1.5598226388322205, 1.0075225824800251, 0.6339853907820816, -0.9646144027810287, -1.6378991395292632, -2.025593248480088, -1.6378917936017856, 1.1948715056810295, 2.1906263532727692, 1.5698747836056195, 1.857110790869367, -1.8365550081270965, 1.0074304780461252, -2.3005569115522992, -2.256273925295612, -2.03098183840642, 1.3687339287037432, 1.514384360343763, -0.964745395946599, -2.2110942268100553, 0.980247437643283, 1.0074447572072063, -1.1539328894697258, 1.1949258878121687, -1.2292694730977354, -0.9644606986468945, -1.6378853137027627, 1.5143298990758174, -1.638099897966365, -1.1518954425147514, 1.0071327285314995, 1.007526024890648, 0.9822984388862057, -0.9644616932813075, -1.3094211350383462, -1.226206597181088, 1.4831261859147966, -0.07867848585823396, 0.2692772468591422, -2.810484715648152, -2.1467779137738434, 1.007441714028665, -2.2564317827088107, -1.1556022138228692, -2.2062923038220594, -1.2692828335852302, 1.644150714435292, 3.31747182254731, 3.165916791066664, -1.1518882059634943, -1.1594892796949468, -0.9646921677653825, 0.9331911530749921, 3.5657615441410484, 1.1949317851319758, 1.451075646537293, 0.7948266741499044, 1.40304477832245, -2.029058746359566, -2.2568168088446594, -1.1518790823715876, -2.3597695531984346, 1.5813574870334461, 1.0075262725086944, 1.0075252080366968, -1.9093246029459507, 0.7946606296343667, -2.255349696202969, 1.6426716926771014, 1.607335511403982, 1.0075127598344733, 2.210994736471389, -0.9645006958502939, 1.7269422509091947, 1.6073379638736092, -2.256275055975795, 0.6604401088056433, 1.0049052751073966, -0.5780205681140996, -2.2017925759326715, 0.8806143096767564, -2.326365586225585, 0.7948844901698358, -2.2551901993955688, -2.2566063323910623, -2.1697853121983943, -2.352225742384815, 1.0037189141033234, 0.7948683977221224, -2.2186585011703257, 2.030895416867664, -2.256725149127039, 1.0074845218271968, 1.6939987301478068, 0.04102047472527196, 1.5140260922981001, 0.6373006303671266, 1.8657743591422813, -1.2863060235909893, -2.1273711662183414, -0.9644612300046582, 0.873061159531331, 1.5143819107279248, 1.7270266645826724, 0.7853655130538588, 0.8905837668007108, 1.514348586195001, -1.151880212818701, 1.0069644722803217, -2.2115990709223206, -2.2333911347253883, -0.708402084439362, -2.2548035036001144, 0.9822820883667305, 1.194923137642182, 0.7947656150385289, 1.6072642628046994, -1.3101977878797046, 0.9898143556811613, 0.9822538727516985, -0.9644634830961573, 0.9975716489773321, 1.3349560179941635, -1.2863496904008116, 0.35834296584398145, -1.9127792209827468, 1.2384464748211625, -2.255230410649702, -1.3094220207296312, 1.1605315279101103, 0.9855955648051834, -2.2604712872370696, 1.7270047083136408, -2.1450391050622906, -2.14499129291085, 0.03740437336608089, -2.2183301993209703, -1.1519289941811748, 1.007518774164731, -1.909440222810917, 1.7270211856855642, -1.9093113508910382, 1.5143852339068369, 0.9711993576236985, -1.5065609528021744, 0.9822984676749286, 1.0074843208001343, 1.450865232326736, 2.0282948422473934, 1.1947113919380452, -1.3094397387674015, -0.30220251106060947, -1.3094922614493756, 1.1949330892371053, 2.1904801056166825, 0.9907001111601353, -1.2072214741125518, 1.1949917981385287, -1.6394021180230318, 1.0074156067914497, -2.148926166382674, 1.0075011128949736, 0.637335163136796, 1.007529643141991, 1.194746617161785, -1.1522833957498655, 1.0017892496907501, 0.8533004446347864, 1.1944754884570088, -1.3094329187178202, 1.0075307952606805, -1.1744373333887599, 1.0073792600957636, -1.2093600290078652, 1.1948665417734645, 1.0074572918239428, 1.60737664859145, -1.1518698649811339, -1.1519574163367547, 0.6150349924446061, 0.8499372080981152, 2.190786189560068, 0.7911526271265057, 1.00740661374841, 0.5214871087833244, -1.8362754550424525, 1.8571942218451247, -2.28480925085367, 2.1910483921205404, -2.025446806695148, 2.1910678373359906, 0.6369727555115919, 3.128787907429235, 1.6073778979799787, 1.3348688200920167, 1.9058013794734838, 0.9616717714678059, 1.0073895641935877, -2.25687079804389, -1.9093091807372604, 0.794891232967366, null, null, null, null, null, null, null, null, null, null, null, null, null, null, null, null, null, null, null, null, null, null, null, null, null, null, null, null, null, null, null, null, null, null, null, null, null, null, null, null, null, null, null, null, null, null, null, null, null, null, null, null, null, null, null, null, null, null, null, null, null, null, null, null, null, null, null, null, null, null, null, null, null, null, null, null, null, null, null, null, null, null, null, null, null, null, null, null, null, null, null, null, null, null, null, null, null, null, null, null, null, null, null, null, null, null, null, null, null, null, null, null, null, null, null, null, null, null, null, null, null, null, null, null, null, null, null, null, null, null, null, null, null, null, null, null, null, null, null, null, null, null, null, null, null, null, null, null, null, null, null, null, null, null, null, null, null, null, null, null, null, null, null, null, null, null, null, null, null, null, null, null, null, null, null, null, null, null, null, null, null, null, null, null, null, null, null, null, null, null, null, null, null, null, null, null, null, null, null, null, null, null, null, null, null, null, null, null, null, null, null, null, null, null, null, null, null, null, null, null, null, null, null, null, null, null, null, null, null, null, null, null, null, null, null, null, null, null, null, null, null, null, null, null, null, null, null, null, null, null, null, null, null, null, null, null, null, null, null, null, null, null, null, null, null, null, null, null, null, null, null, null, null, null, null, null, null, null, null, null, null, null, null, null, null, null, null, null, null, null, null, null, null, null, null, null, null, null, null, null, null, null, null, null, null, null, null, null, null, null, null, null, null, null, null, null, null, null, null, null, null, null, null, null, null, null, null], \"z\": [-0.3280873663434585, -0.31140171303460873, 2.2988625053799567, -0.14442340971021353, -0.15453868216807734, -0.1612538951480625, -0.39704558406293156, -0.1553617654361572, -0.15297882763266155, -0.1678040234101261, -0.25673894004716075, 0.15125958606317838, -0.3100859137536181, -0.26864221878705186, -0.16240171611345083, -0.25036885206247594, -0.23156782438631607, -0.16201777453125293, -0.3277464782386395, -0.3203131091243943, -0.1024845669891732, 2.562711522087976, -0.14150429957854596, -0.1592694649790886, -0.16182158869403745, -0.3265817234898328, -0.23305062296069418, -0.2077528905801896, -0.16187031999944113, -0.3280832975953097, -0.16238395556714788, -0.32806755659304876, -0.16247052332027898, -0.2316572962122737, 0.6120028283705665, -0.37434979220372483, 0.17505406351042183, 0.23394346904598926, 0.086602975474538, -0.16221645533328638, -0.15781579349455066, -0.16215568208904793, -0.35116427297256914, -0.2544594831792549, -0.1625276075346198, -0.16973238095080884, -0.14172188552334214, -0.16132103628416147, -0.16159890443493366, -0.326143541253548, -0.33539580304511596, 1.5888040574893272, -0.3969401250978384, -0.14438472127465737, -0.1588846561292793, -0.1622429343653259, -0.16259823900088474, -0.3969447213850044, -0.16185646784313065, -0.16834843225602303, -0.026181202032772303, -0.16247934637883607, -0.27334332944042333, -0.28639444827133315, -0.2882133535847787, -0.02721476697337822, -0.1444624480721168, -0.1561344816136353, -0.2888364787950842, -0.3400699387143723, -0.32238213223978346, -0.32648696562836504, 0.030581520650453747, -0.16245878089436283, -0.16055075948857164, -0.1619448207248163, -0.35531169517527095, -0.39731219713336363, -0.13159716718896974, -0.2597286107197457, -0.1439254694454964, -0.3073976372968524, -0.39722372806984146, -0.14421309369483987, -0.14419613571630444, -0.1447875535967509, -0.23183141196332605, -0.3032863939093004, -0.3267630293763691, -0.16217484997468004, -0.2611324633222016, -0.1933869774660573, -0.1592742195153933, -0.39718814217495246, -0.2601968243555059, -0.1439928606559905, -0.28861701951216334, -0.3191795213468009, 3.857208903367026, 0.4514621380495248, -0.16372579523637174, -0.3608450641516929, -0.161040926380369, -0.3092965660219555, -0.37377049395970674, -0.14562017893024243, -0.2863746440230734, -0.15975795811961702, -0.28891200223273017, -0.16260045439952067, -0.2810218761696895, -0.15962278145115996, -0.32806940847510463, -0.28886411299347886, -0.145827608721275, -0.12693094790921686, -0.3557572375564788, -0.13653774661753923, -0.19661896059259248, -0.16247334351456097, -0.32780344176361076, -0.035242717082433345, -0.12247911982197228, -0.1626093558982167, -0.14449026722154712, 0.4903240769101685, -0.39729369882784976, -0.3741870794290194, -0.23121775162777475, -0.15250462650824256, -0.14422981097773016, -0.40912095289904193, -0.23150305124693532, -0.35024733368301925, -0.160730783312903, -0.15992190123679897, -0.2847740417429679, -0.15560777701047915, -0.28838513150787376, 0.3682093395871232, -0.30263377436478883, -0.25281320035061183, -0.231538490156206, -0.1443858453080395, -0.05209877372435163, -0.15856161592253817, -0.09753388359541587, -0.3100567848751756, -0.07434370433460054, -0.16117073724703807, -0.3101205484620355, 0.27467801064145936, -0.23319755574243659, -0.3276791864233161, -0.28464315348744773, -0.23069810262330306, -0.14939266373871948, -0.16141871829172008, -0.15947076192916326, -0.39445955534461086, 0.8682517848885505, -0.3099203801546954, -0.11976121176804717, -0.3508471232006229, -0.16239899496930615, -0.23150169818207866, -0.3951336798334518, -0.3086624660299927, -0.3063279149404931, -0.35473508855189584, -0.3960273269937072, -0.162609414474115, -0.36003578525829455, -0.303944936725083, -0.32771734521323265, -0.3261541691974524, -0.24616116781244632, -0.2316518941036032, -0.34323098059258755, -0.32466470005763004, -0.39676693735319457, -0.326920497795332, 0.29615617390464494, -0.31010149495995537, -0.144646295590702, -0.3972828809460446, -0.3279067357353512, -0.11658296837603059, -0.3280636330817729, -0.15977231428095842, -0.28463224157371586, -0.14460486521009622, -0.249573883302583, -0.16227237427722235, 0.02820139680647716, -0.3498027826853467, -0.3276772218686546, -0.3834281101290299, -0.15243096603157322, -0.3491303603324247, -0.24759345345346415, -0.4132981414125487, -0.34887949200508794, -0.286760784592715, -0.15534956769384706, -0.16782567289195258, 3.6888890612914333, -0.39687488211251376, -0.08924746363928834, -0.21821613153053832, 0.844967656088358, -0.3972377261963276, -0.35026716381323364, -0.3276047531284882, -0.3277593138862871, -0.22947723305432993, -0.3508471232006229, -0.39681212672457217, -0.30996396357006145, -0.3276054781208689, -0.3935556937593371, -0.3277530750047468, -0.3233359552744415, -0.3972667652230127, 0.29615050512715935, -0.3269628660818608, 0.35775396283800254, -0.3279526121741422, -0.32802326639017815, -0.3618300231399562, -0.36123353378000256, -0.1625911295544434, 0.2962814083560466, -0.15304575896898817, -0.32424554612880097, -0.3100778739296666, -0.39717659354071966, -0.3278007867475842, 0.4844457599862399, -0.3279279309488243, -0.15412502442657192, -0.28628113507119785, -0.2553775474121035, -0.16255937054216668, -0.24736099166731781, -0.22437720239220077, -0.16783805744038433, -0.3087553875757756, -0.16069004953775473, -0.15276374086383118, -0.2860218402561306, -0.16981615146274337, -0.39644145347615417, -0.4136734776339989, -0.3951779882339548, -0.1334482480285147, -0.3490912899413008, -0.3963391883541102, -0.19046248844000954, -0.3434835804622376, -0.3922750607137367, -0.3278711324339491, -0.3278703371687174, -0.3209840288056806, 0.2646440316256644, -0.3968182420783226, -0.16212116232791082, -0.2689018865721152, -0.11092641101279724, -0.35088148949780307, -0.32708083963179047, 0.8830377961665152, -0.2673311068050189, -0.1619430408973242, -0.35881248119664166, -0.15398237006713658, 0.5840802818243033, -0.18713073659764892, -0.03269500893364052, -0.14685406266444642, 0.33232233176558396, -0.3562728259142395, -0.23070654413579936, -0.35477308636534116, -0.4129480713008664, -0.16226266466142122, -0.2885487866532519, -0.16202581358180884, -0.231101727809793, -0.2316799552563318, 0.1374362280936845, 0.2965460122923999, -0.28861963921530487, -0.1360145963523975, 3.251762620365607, -0.11796653579793313, -0.34683661479163574, -0.2225407801710608, -0.4124522278495758, -0.14442257267352532, -0.3970909615347597, -0.2863553653070023, 4.383950199967297, -0.0880945749685716, -0.35074763519440283, 1.5870307521622302, -0.16236066060345067, -0.16181162266196003, -0.16151218466328374, -0.1614990959804687, -0.32750584990664805, -0.328006172841182, 0.29672982033858797, -0.31488095517047504, 0.6587041323032193, -0.39703173992877916, 0.04476034150838779, -0.33506267357523545, -0.18600239869901763, -0.3279617475981699, -0.17442746860517058, -0.3182311827423621, -0.1676838865857111, 0.4422331049096935, -0.30842188011559046, -0.34101981312936225, -0.38442269356517256, -0.1481501776313258, -0.32791202460127256, -0.40165009871823926, -0.16068825600561273, -0.35960967819950795, -0.32778221970472704, -0.09488987798151424, -0.22721843203072112, -0.1742726884799309, -0.15371287969597258, -0.1743730146854159, -0.39582286822414575, 3.6937514113274696, 0.20397854263871917, -0.2852860023591692, -0.12675636911265808, -0.3252391742232619, 1.135161709145441, 0.2961332677946924, -0.07851097774453487, -0.3146559230502574, -0.3617157697550629, -0.22696006217095308, -0.14308008600379918, 0.08686470157144212, -0.3269197746548206, -0.07863418143093746, -0.39640466197740376, 1.1199811614544424, -0.23165391684481362, -0.1744250102818655, -0.36087949235372263, -0.16745349710732027, -0.16161063536267195, -0.3144688476276968, -0.3280283364870985, -0.3557291278716825, -0.2315792194673627, -0.14440193730906153, -0.2122534982061408, -0.36031809844991414, -0.2799108009244225, -0.2697734557647841, 8.043363522923665, -0.1511193399386628, -0.3235675245181577, 0.30001279377803713, 0.030698464162144667, -0.1476525227291283, -0.17892561154684103, -0.2391463572678983, -0.1817390284911929, -0.3566305923449446, -0.16218516776628558, 0.14531113513199895, -0.22571239702277746, -0.3777536444633824, -0.4209322608992495, -0.39710826526535986, -0.30017718445310065, -0.2855143413622599, -0.3182189185476714, -0.10669475773977634, 0.3040660982954919, -0.1624224919307488, -0.12678932275935778, -0.35587128185414935, -0.3280557293179866, -0.3280374176878527, -0.16667357245705208, -0.27988830666923015, -0.1502117719254256, -0.3732516906235548, -0.3503415525874772, -0.3277535649648471, 3.897845737094781, -0.23074737781165885, -0.400316166894073, -0.35053048205421783, 0.29631604744939266, -0.31545948483512787, -0.27455621912505634, -0.19052197844879812, -0.15289080140026884, -0.25326482894779306, -0.1506006297657837, -0.2860491434853449, -0.15251544492039612, 0.30024886376759063, 0.5750992302885298, 2.1071066389693307, -0.13090117544308083, -0.2863016107698562, -0.13907996205428252, -0.3521561405669729, 0.3099392335173317, -0.3272269378868852, -0.21077598898524208, 2.2914154651406213, -0.35741873738828356, -0.26745880740986316, 0.9963671836444467, -0.19149073702409156, -0.15187170186778687, -0.23163605294405273, -0.35617526999029525, -0.3618294708651805, -0.40333631000594566, -0.16689340094923186, -0.359539552243669, -0.36054728852008816, -0.16244711316749938, -0.3209240319658761, -0.1429614605944572, -0.15524218852786917, -0.1334712798959, 3.1010329356102537, -0.35530598622040405, -0.3965808802839231, -0.2835434973378522, -0.34962923118481876, -0.10419462889201912, -0.3436821321988496, -0.35516725590858184, -0.23160738448766863, -0.18736910737669363, -0.2683434465333562, -0.19091777422403275, -0.16404454695317128, -0.06228894865171877, -0.2587901166774238, -0.15191245699457623, -0.14442261029540776, 0.5621498136280614, -0.14537282867742796, 0.37617800724468203, -0.4026300053186257, -0.1591433852865545, -0.15953581987843451, -0.2912192201980589, -0.17009231721873586, -0.1613379651205936, -0.32775752576536543, -0.1657416170979318, -0.4030867206246502, -0.16751647638073558, -0.36194660341273066, 0.5799298822406955, -0.19582897229534818, -0.35578352000277, -0.32723981878104275, -0.29462557678472584, -0.30681965644916576, -0.39414272297603314, -0.14369776139926665, -0.12352665532263198, -0.14256423203255533, -0.3968084088665562, 3.7060100618710177, 0.10773825240762755, 0.5342958708617271, -0.39434438300863706, -0.09948708141921946, -0.32662464678491576, -0.10994244357369058, -0.3274505505878408, -0.2686749142161595, -0.3279695317483837, -0.38842492688178704, -0.14597842108500922, -0.24156752121362232, -0.08942114410078404, -0.3841680824167498, -0.14421246319997943, -0.32724682332430766, 0.5541926849506724, -0.32030176428721896, -0.2073132780873915, -0.39337235273046445, -0.3256840231586103, -0.35112313578424814, -0.16252402872737212, -0.16047706492653777, -0.3965779478778918, -0.308598969699988, 3.689281378076488, -0.09332174187791635, -0.32287497361821366, -0.3396953644396484, -0.13727374242878976, -0.2890193392057166, -0.1325462132929848, 3.699164198181115, -0.15538277220414093, 3.700410158595661, -0.24954571449629295, -0.40488980240495526, -0.35105890744561413, 34.089538262181364, -0.32576902537049224, 2.460448104895438, -0.3261303841673236, 0.3179199722229026, -0.16780508194614777, -0.28669857243013824, null, null, null, null, null, null, null, null, null, null, null, null, null, null, null, null, null, null, null, null, null, null, null, null, null, null, null, null, null, null, null, null, null, null, null, null, null, null, null, null, null, null, null, null, null, null, null, null, null, null, null, null, null, null, null, null, null, null, null, null, null, null, null, null, null, null, null, null, null, null, null, null, null, null, null, null, null, null, null, null, null, null, null, null, null, null, null, null, null, null, null, null, null, null, null, null, null, null, null, null, null, null, null, null, null, null, null, null, null, null, null, null, null, null, null, null, null, null, null, null, null, null, null, null, null, null, null, null, null, null, null, null, null, null, null, null, null, null, null, null, null, null, null, null, null, null, null, null, null, null, null, null, null, null, null, null, null, null, null, null, null, null, null, null, null, null, null, null, null, null, null, null, null, null, null, null, null, null, null, null, null, null, null, null, null, null, null, null, null, null, null, null, null, null, null, null, null, null, null, null, null, null, null, null, null, null, null, null, null, null, null, null, null, null, null, null, null, null, null, null, null, null, null, null, null, null, null, null, null, null, null, null, null, null, null, null, null, null, null, null, null, null, null, null, null, null, null, null, null, null, null, null, null, null, null, null, null, null, null, null, null, null, null, null, null, null, null, null, null, null, null, null, null, null, null, null, null, null, null, null, null, null, null, null, null, null, null, null, null, null, null, null, null, null, null, null, null, null, null, null, null, null, null, null, null, null, null, null, null, null, null, null, null, null, null, null, null, null, null, null, null, null, null, null, null, null, null]}],                        {\"legend\": {\"tracegroupgap\": 0, \"x\": 0, \"y\": 1}, \"margin\": {\"t\": 60}, \"scene\": {\"domain\": {\"x\": [0.0, 1.0], \"y\": [0.0, 1.0]}, \"xaxis\": {\"title\": {\"text\": \"PC 3\"}}, \"yaxis\": {\"title\": {\"text\": \"PC 2\"}}, \"zaxis\": {\"title\": {\"text\": \"PC 1\"}}}, \"template\": {\"data\": {\"bar\": [{\"error_x\": {\"color\": \"#2a3f5f\"}, \"error_y\": {\"color\": \"#2a3f5f\"}, \"marker\": {\"line\": {\"color\": \"#E5ECF6\", \"width\": 0.5}}, \"type\": \"bar\"}], \"barpolar\": [{\"marker\": {\"line\": {\"color\": \"#E5ECF6\", \"width\": 0.5}}, \"type\": \"barpolar\"}], \"carpet\": [{\"aaxis\": {\"endlinecolor\": \"#2a3f5f\", \"gridcolor\": \"white\", \"linecolor\": \"white\", \"minorgridcolor\": \"white\", \"startlinecolor\": \"#2a3f5f\"}, \"baxis\": {\"endlinecolor\": \"#2a3f5f\", \"gridcolor\": \"white\", \"linecolor\": \"white\", \"minorgridcolor\": \"white\", \"startlinecolor\": \"#2a3f5f\"}, \"type\": \"carpet\"}], \"choropleth\": [{\"colorbar\": {\"outlinewidth\": 0, \"ticks\": \"\"}, \"type\": \"choropleth\"}], \"contour\": [{\"colorbar\": {\"outlinewidth\": 0, \"ticks\": \"\"}, \"colorscale\": [[0.0, \"#0d0887\"], [0.1111111111111111, \"#46039f\"], [0.2222222222222222, \"#7201a8\"], [0.3333333333333333, \"#9c179e\"], [0.4444444444444444, \"#bd3786\"], [0.5555555555555556, \"#d8576b\"], [0.6666666666666666, \"#ed7953\"], [0.7777777777777778, \"#fb9f3a\"], [0.8888888888888888, \"#fdca26\"], [1.0, \"#f0f921\"]], \"type\": \"contour\"}], \"contourcarpet\": [{\"colorbar\": {\"outlinewidth\": 0, \"ticks\": \"\"}, \"type\": \"contourcarpet\"}], \"heatmap\": [{\"colorbar\": {\"outlinewidth\": 0, \"ticks\": \"\"}, \"colorscale\": [[0.0, \"#0d0887\"], [0.1111111111111111, \"#46039f\"], [0.2222222222222222, \"#7201a8\"], [0.3333333333333333, \"#9c179e\"], [0.4444444444444444, \"#bd3786\"], [0.5555555555555556, \"#d8576b\"], [0.6666666666666666, \"#ed7953\"], [0.7777777777777778, \"#fb9f3a\"], [0.8888888888888888, \"#fdca26\"], [1.0, \"#f0f921\"]], \"type\": \"heatmap\"}], \"heatmapgl\": [{\"colorbar\": {\"outlinewidth\": 0, \"ticks\": \"\"}, \"colorscale\": [[0.0, \"#0d0887\"], [0.1111111111111111, \"#46039f\"], [0.2222222222222222, \"#7201a8\"], [0.3333333333333333, \"#9c179e\"], [0.4444444444444444, \"#bd3786\"], [0.5555555555555556, \"#d8576b\"], [0.6666666666666666, \"#ed7953\"], [0.7777777777777778, \"#fb9f3a\"], [0.8888888888888888, \"#fdca26\"], [1.0, \"#f0f921\"]], \"type\": \"heatmapgl\"}], \"histogram\": [{\"marker\": {\"colorbar\": {\"outlinewidth\": 0, \"ticks\": \"\"}}, \"type\": \"histogram\"}], \"histogram2d\": [{\"colorbar\": {\"outlinewidth\": 0, \"ticks\": \"\"}, \"colorscale\": [[0.0, \"#0d0887\"], [0.1111111111111111, \"#46039f\"], [0.2222222222222222, \"#7201a8\"], [0.3333333333333333, \"#9c179e\"], [0.4444444444444444, \"#bd3786\"], [0.5555555555555556, \"#d8576b\"], [0.6666666666666666, \"#ed7953\"], [0.7777777777777778, \"#fb9f3a\"], [0.8888888888888888, \"#fdca26\"], [1.0, \"#f0f921\"]], \"type\": \"histogram2d\"}], \"histogram2dcontour\": [{\"colorbar\": {\"outlinewidth\": 0, \"ticks\": \"\"}, \"colorscale\": [[0.0, \"#0d0887\"], [0.1111111111111111, \"#46039f\"], [0.2222222222222222, \"#7201a8\"], [0.3333333333333333, \"#9c179e\"], [0.4444444444444444, \"#bd3786\"], [0.5555555555555556, \"#d8576b\"], [0.6666666666666666, \"#ed7953\"], [0.7777777777777778, \"#fb9f3a\"], [0.8888888888888888, \"#fdca26\"], [1.0, \"#f0f921\"]], \"type\": \"histogram2dcontour\"}], \"mesh3d\": [{\"colorbar\": {\"outlinewidth\": 0, \"ticks\": \"\"}, \"type\": \"mesh3d\"}], \"parcoords\": [{\"line\": {\"colorbar\": {\"outlinewidth\": 0, \"ticks\": \"\"}}, \"type\": \"parcoords\"}], \"pie\": [{\"automargin\": true, \"type\": \"pie\"}], \"scatter\": [{\"marker\": {\"colorbar\": {\"outlinewidth\": 0, \"ticks\": \"\"}}, \"type\": \"scatter\"}], \"scatter3d\": [{\"line\": {\"colorbar\": {\"outlinewidth\": 0, \"ticks\": \"\"}}, \"marker\": {\"colorbar\": {\"outlinewidth\": 0, \"ticks\": \"\"}}, \"type\": \"scatter3d\"}], \"scattercarpet\": [{\"marker\": {\"colorbar\": {\"outlinewidth\": 0, \"ticks\": \"\"}}, \"type\": \"scattercarpet\"}], \"scattergeo\": [{\"marker\": {\"colorbar\": {\"outlinewidth\": 0, \"ticks\": \"\"}}, \"type\": \"scattergeo\"}], \"scattergl\": [{\"marker\": {\"colorbar\": {\"outlinewidth\": 0, \"ticks\": \"\"}}, \"type\": \"scattergl\"}], \"scattermapbox\": [{\"marker\": {\"colorbar\": {\"outlinewidth\": 0, \"ticks\": \"\"}}, \"type\": \"scattermapbox\"}], \"scatterpolar\": [{\"marker\": {\"colorbar\": {\"outlinewidth\": 0, \"ticks\": \"\"}}, \"type\": \"scatterpolar\"}], \"scatterpolargl\": [{\"marker\": {\"colorbar\": {\"outlinewidth\": 0, \"ticks\": \"\"}}, \"type\": \"scatterpolargl\"}], \"scatterternary\": [{\"marker\": {\"colorbar\": {\"outlinewidth\": 0, \"ticks\": \"\"}}, \"type\": \"scatterternary\"}], \"surface\": [{\"colorbar\": {\"outlinewidth\": 0, \"ticks\": \"\"}, \"colorscale\": [[0.0, \"#0d0887\"], [0.1111111111111111, \"#46039f\"], [0.2222222222222222, \"#7201a8\"], [0.3333333333333333, \"#9c179e\"], [0.4444444444444444, \"#bd3786\"], [0.5555555555555556, \"#d8576b\"], [0.6666666666666666, \"#ed7953\"], [0.7777777777777778, \"#fb9f3a\"], [0.8888888888888888, \"#fdca26\"], [1.0, \"#f0f921\"]], \"type\": \"surface\"}], \"table\": [{\"cells\": {\"fill\": {\"color\": \"#EBF0F8\"}, \"line\": {\"color\": \"white\"}}, \"header\": {\"fill\": {\"color\": \"#C8D4E3\"}, \"line\": {\"color\": \"white\"}}, \"type\": \"table\"}]}, \"layout\": {\"annotationdefaults\": {\"arrowcolor\": \"#2a3f5f\", \"arrowhead\": 0, \"arrowwidth\": 1}, \"autotypenumbers\": \"strict\", \"coloraxis\": {\"colorbar\": {\"outlinewidth\": 0, \"ticks\": \"\"}}, \"colorscale\": {\"diverging\": [[0, \"#8e0152\"], [0.1, \"#c51b7d\"], [0.2, \"#de77ae\"], [0.3, \"#f1b6da\"], [0.4, \"#fde0ef\"], [0.5, \"#f7f7f7\"], [0.6, \"#e6f5d0\"], [0.7, \"#b8e186\"], [0.8, \"#7fbc41\"], [0.9, \"#4d9221\"], [1, \"#276419\"]], \"sequential\": [[0.0, \"#0d0887\"], [0.1111111111111111, \"#46039f\"], [0.2222222222222222, \"#7201a8\"], [0.3333333333333333, \"#9c179e\"], [0.4444444444444444, \"#bd3786\"], [0.5555555555555556, \"#d8576b\"], [0.6666666666666666, \"#ed7953\"], [0.7777777777777778, \"#fb9f3a\"], [0.8888888888888888, \"#fdca26\"], [1.0, \"#f0f921\"]], \"sequentialminus\": [[0.0, \"#0d0887\"], [0.1111111111111111, \"#46039f\"], [0.2222222222222222, \"#7201a8\"], [0.3333333333333333, \"#9c179e\"], [0.4444444444444444, \"#bd3786\"], [0.5555555555555556, \"#d8576b\"], [0.6666666666666666, \"#ed7953\"], [0.7777777777777778, \"#fb9f3a\"], [0.8888888888888888, \"#fdca26\"], [1.0, \"#f0f921\"]]}, \"colorway\": [\"#636efa\", \"#EF553B\", \"#00cc96\", \"#ab63fa\", \"#FFA15A\", \"#19d3f3\", \"#FF6692\", \"#B6E880\", \"#FF97FF\", \"#FECB52\"], \"font\": {\"color\": \"#2a3f5f\"}, \"geo\": {\"bgcolor\": \"white\", \"lakecolor\": \"white\", \"landcolor\": \"#E5ECF6\", \"showlakes\": true, \"showland\": true, \"subunitcolor\": \"white\"}, \"hoverlabel\": {\"align\": \"left\"}, \"hovermode\": \"closest\", \"mapbox\": {\"style\": \"light\"}, \"paper_bgcolor\": \"white\", \"plot_bgcolor\": \"#E5ECF6\", \"polar\": {\"angularaxis\": {\"gridcolor\": \"white\", \"linecolor\": \"white\", \"ticks\": \"\"}, \"bgcolor\": \"#E5ECF6\", \"radialaxis\": {\"gridcolor\": \"white\", \"linecolor\": \"white\", \"ticks\": \"\"}}, \"scene\": {\"xaxis\": {\"backgroundcolor\": \"#E5ECF6\", \"gridcolor\": \"white\", \"gridwidth\": 2, \"linecolor\": \"white\", \"showbackground\": true, \"ticks\": \"\", \"zerolinecolor\": \"white\"}, \"yaxis\": {\"backgroundcolor\": \"#E5ECF6\", \"gridcolor\": \"white\", \"gridwidth\": 2, \"linecolor\": \"white\", \"showbackground\": true, \"ticks\": \"\", \"zerolinecolor\": \"white\"}, \"zaxis\": {\"backgroundcolor\": \"#E5ECF6\", \"gridcolor\": \"white\", \"gridwidth\": 2, \"linecolor\": \"white\", \"showbackground\": true, \"ticks\": \"\", \"zerolinecolor\": \"white\"}}, \"shapedefaults\": {\"line\": {\"color\": \"#2a3f5f\"}}, \"ternary\": {\"aaxis\": {\"gridcolor\": \"white\", \"linecolor\": \"white\", \"ticks\": \"\"}, \"baxis\": {\"gridcolor\": \"white\", \"linecolor\": \"white\", \"ticks\": \"\"}, \"bgcolor\": \"#E5ECF6\", \"caxis\": {\"gridcolor\": \"white\", \"linecolor\": \"white\", \"ticks\": \"\"}}, \"title\": {\"x\": 0.05}, \"xaxis\": {\"automargin\": true, \"gridcolor\": \"white\", \"linecolor\": \"white\", \"ticks\": \"\", \"title\": {\"standoff\": 15}, \"zerolinecolor\": \"white\", \"zerolinewidth\": 2}, \"yaxis\": {\"automargin\": true, \"gridcolor\": \"white\", \"linecolor\": \"white\", \"ticks\": \"\", \"title\": {\"standoff\": 15}, \"zerolinecolor\": \"white\", \"zerolinewidth\": 2}}}, \"width\": 1000},                        {\"responsive\": true}                    ).then(function(){\n",
       "                            \n",
       "var gd = document.getElementById('a475998c-1af8-44f7-9d9a-9ad2ad916274');\n",
       "var x = new MutationObserver(function (mutations, observer) {{\n",
       "        var display = window.getComputedStyle(gd).display;\n",
       "        if (!display || display === 'none') {{\n",
       "            console.log([gd, 'removed!']);\n",
       "            Plotly.purge(gd);\n",
       "            observer.disconnect();\n",
       "        }}\n",
       "}});\n",
       "\n",
       "// Listen for the removal of the full notebook cells\n",
       "var notebookContainer = gd.closest('#notebook-container');\n",
       "if (notebookContainer) {{\n",
       "    x.observe(notebookContainer, {childList: true});\n",
       "}}\n",
       "\n",
       "// Listen for the clearing of the current output cell\n",
       "var outputEl = gd.closest('.output');\n",
       "if (outputEl) {{\n",
       "    x.observe(outputEl, {childList: true});\n",
       "}}\n",
       "\n",
       "                        })                };                });            </script>        </div>"
      ]
     },
     "metadata": {},
     "output_type": "display_data"
    }
   ],
   "source": [
    "# Create a 3D-Scatter with the PCA data and the clusters. Including parameters on the plot: hover_name=\"CoinName\" and hover_data=[\"Algorithm\"]\n",
    "cluster_df = pd.concat([crypto_df3, pc_df], axis = 1)\n",
    "fig = px.scatter_3d(\n",
    "    cluster_df,\n",
    "    x = 'PC 3',\n",
    "    y = 'PC 2',\n",
    "    z = 'PC 1',\n",
    "    hover_name = 'CoinName',\n",
    "    hover_data = ['Algorithm'],\n",
    "    width = 1000,\n",
    ")\n",
    "fig.update_layout(legend = dict(x = 0, y =1))\n",
    "fig.show()"
   ]
  },
  {
   "cell_type": "markdown",
   "metadata": {},
   "source": [
    "#### Table of Tradable Cryptocurrencies"
   ]
  },
  {
   "cell_type": "code",
   "execution_count": 343,
   "metadata": {},
   "outputs": [
    {
     "data": {
      "text/html": [
       "<div>\n",
       "<style scoped>\n",
       "    .dataframe tbody tr th:only-of-type {\n",
       "        vertical-align: middle;\n",
       "    }\n",
       "\n",
       "    .dataframe tbody tr th {\n",
       "        vertical-align: top;\n",
       "    }\n",
       "\n",
       "    .dataframe thead th {\n",
       "        text-align: right;\n",
       "    }\n",
       "</style>\n",
       "<table border=\"1\" class=\"dataframe\">\n",
       "  <thead>\n",
       "    <tr style=\"text-align: right;\">\n",
       "      <th></th>\n",
       "      <th>CoinName</th>\n",
       "      <th>Algorithm</th>\n",
       "      <th>ProofType</th>\n",
       "      <th>TotalCoinsMined</th>\n",
       "      <th>TotalCoinSupply</th>\n",
       "      <th>PC 1</th>\n",
       "      <th>PC 2</th>\n",
       "      <th>PC 3</th>\n",
       "      <th>Class</th>\n",
       "    </tr>\n",
       "  </thead>\n",
       "  <tbody>\n",
       "    <tr>\n",
       "      <th>0</th>\n",
       "      <td>42 Coin</td>\n",
       "      <td>Scrypt</td>\n",
       "      <td>PoW/PoS</td>\n",
       "      <td>4.199995e+01</td>\n",
       "      <td>42</td>\n",
       "      <td>-0.328087</td>\n",
       "      <td>1.007528</td>\n",
       "      <td>-0.518295</td>\n",
       "      <td>0.0</td>\n",
       "    </tr>\n",
       "    <tr>\n",
       "      <th>2</th>\n",
       "      <td>404Coin</td>\n",
       "      <td>Scrypt</td>\n",
       "      <td>PoW/PoS</td>\n",
       "      <td>1.055185e+09</td>\n",
       "      <td>532000000</td>\n",
       "      <td>2.298863</td>\n",
       "      <td>1.685485</td>\n",
       "      <td>-0.653783</td>\n",
       "      <td>4.0</td>\n",
       "    </tr>\n",
       "    <tr>\n",
       "      <th>5</th>\n",
       "      <td>EliteCoin</td>\n",
       "      <td>X13</td>\n",
       "      <td>PoW/PoS</td>\n",
       "      <td>2.927942e+10</td>\n",
       "      <td>314159265359</td>\n",
       "      <td>-0.161254</td>\n",
       "      <td>-1.151903</td>\n",
       "      <td>0.015265</td>\n",
       "      <td>1.0</td>\n",
       "    </tr>\n",
       "    <tr>\n",
       "      <th>7</th>\n",
       "      <td>Bitcoin</td>\n",
       "      <td>SHA-256</td>\n",
       "      <td>PoW</td>\n",
       "      <td>1.792718e+07</td>\n",
       "      <td>21000000</td>\n",
       "      <td>-0.155362</td>\n",
       "      <td>-2.210611</td>\n",
       "      <td>0.354794</td>\n",
       "      <td>1.0</td>\n",
       "    </tr>\n",
       "    <tr>\n",
       "      <th>8</th>\n",
       "      <td>Ethereum</td>\n",
       "      <td>Ethash</td>\n",
       "      <td>PoW</td>\n",
       "      <td>1.076842e+08</td>\n",
       "      <td>0</td>\n",
       "      <td>-0.152979</td>\n",
       "      <td>-2.025535</td>\n",
       "      <td>0.381590</td>\n",
       "      <td>1.0</td>\n",
       "    </tr>\n",
       "  </tbody>\n",
       "</table>\n",
       "</div>"
      ],
      "text/plain": [
       "    CoinName Algorithm ProofType  TotalCoinsMined TotalCoinSupply      PC 1  \\\n",
       "0    42 Coin    Scrypt   PoW/PoS     4.199995e+01              42 -0.328087   \n",
       "2    404Coin    Scrypt   PoW/PoS     1.055185e+09       532000000  2.298863   \n",
       "5  EliteCoin       X13   PoW/PoS     2.927942e+10    314159265359 -0.161254   \n",
       "7    Bitcoin   SHA-256       PoW     1.792718e+07        21000000 -0.155362   \n",
       "8   Ethereum    Ethash       PoW     1.076842e+08               0 -0.152979   \n",
       "\n",
       "       PC 2      PC 3  Class  \n",
       "0  1.007528 -0.518295    0.0  \n",
       "2  1.685485 -0.653783    4.0  \n",
       "5 -1.151903  0.015265    1.0  \n",
       "7 -2.210611  0.354794    1.0  \n",
       "8 -2.025535  0.381590    1.0  "
      ]
     },
     "execution_count": 343,
     "metadata": {},
     "output_type": "execute_result"
    }
   ],
   "source": [
    "# Table with tradable cryptos\n",
    "cluster_df.hvplot.table(columns = ['CoinName', 'Algorithm', 'ProofType', 'TotalCoinSupply', 'TotalCoinsMined', 'Class'], width = 1000)\n",
    "cluster_df.dropna().head()"
   ]
  },
  {
   "cell_type": "code",
   "execution_count": 344,
   "metadata": {},
   "outputs": [
    {
     "name": "stdout",
     "output_type": "stream",
     "text": [
      "There is a total of 532 cryptocurrencies which are tradable\n"
     ]
    }
   ],
   "source": [
    "# Print the total number of tradable cryptocurrencies\n",
    "count = cluster_df['CoinName'].count()\n",
    "print(f'There is a total of {count} cryptocurrencies which are tradable')"
   ]
  },
  {
   "cell_type": "markdown",
   "metadata": {},
   "source": [
    "#### Scatter Plot with Tradable Cryptocurrencies"
   ]
  },
  {
   "cell_type": "code",
   "execution_count": 345,
   "metadata": {},
   "outputs": [],
   "source": [
    "# Scale data to create the scatter plot\n",
    "cluster_df['TotalCoinSupply'] = cluster_df['TotalCoinSupply'].astype(float)/100000000\n",
    "cluster_df['TotalCoinsMined'] = cluster_df['TotalCoinsMined'].astype(float)/100000000"
   ]
  },
  {
   "cell_type": "code",
   "execution_count": 346,
   "metadata": {},
   "outputs": [
    {
     "data": {},
     "metadata": {},
     "output_type": "display_data"
    },
    {
     "data": {
      "application/vnd.holoviews_exec.v0+json": "",
      "text/html": [
       "<div id='2933'>\n",
       "\n",
       "\n",
       "\n",
       "\n",
       "\n",
       "  <div class=\"bk-root\" id=\"e635f549-5fa2-4140-980b-9817211f2c98\" data-root-id=\"2933\"></div>\n",
       "</div>\n",
       "<script type=\"application/javascript\">(function(root) {\n",
       "  function embed_document(root) {\n",
       "    var docs_json = {\"f31daea3-fb0d-41dd-8127-6d8f3fa8049d\":{\"defs\":[{\"extends\":null,\"module\":null,\"name\":\"DataModel\",\"overrides\":[],\"properties\":[]}],\"roots\":{\"references\":[{\"attributes\":{},\"id\":\"3068\",\"type\":\"UnionRenderers\"},{\"attributes\":{\"source\":{\"id\":\"3071\"}},\"id\":\"3078\",\"type\":\"CDSView\"},{\"attributes\":{\"fill_alpha\":{\"value\":0.1},\"fill_color\":{\"value\":\"#e5ae38\"},\"line_alpha\":{\"value\":0.1},\"line_color\":{\"value\":\"#e5ae38\"},\"size\":{\"value\":5.477225575051661},\"x\":{\"field\":\"TotalCoinsMined\"},\"y\":{\"field\":\"TotalCoinSupply\"}},\"id\":\"3025\",\"type\":\"Scatter\"},{\"attributes\":{\"margin\":[5,5,5,5],\"name\":\"HSpacer05770\",\"sizing_mode\":\"stretch_width\"},\"id\":\"3261\",\"type\":\"Spacer\"},{\"attributes\":{\"label\":{\"value\":\"2\"},\"renderers\":[{\"id\":\"3027\"}]},\"id\":\"3043\",\"type\":\"LegendItem\"},{\"attributes\":{\"axis\":{\"id\":\"2951\"},\"grid_line_color\":null,\"ticker\":null},\"id\":\"2954\",\"type\":\"Grid\"},{\"attributes\":{\"fill_color\":{\"value\":\"#e5ae38\"},\"line_color\":{\"value\":\"#e5ae38\"},\"size\":{\"value\":5.477225575051661},\"x\":{\"field\":\"TotalCoinsMined\"},\"y\":{\"field\":\"TotalCoinSupply\"}},\"id\":\"3024\",\"type\":\"Scatter\"},{\"attributes\":{\"data_source\":{\"id\":\"3071\"},\"glyph\":{\"id\":\"3074\"},\"hover_glyph\":null,\"muted_glyph\":{\"id\":\"3076\"},\"nonselection_glyph\":{\"id\":\"3075\"},\"selection_glyph\":{\"id\":\"3098\"},\"view\":{\"id\":\"3078\"}},\"id\":\"3077\",\"type\":\"GlyphRenderer\"},{\"attributes\":{\"fill_alpha\":{\"value\":0.2},\"fill_color\":{\"value\":\"#e5ae38\"},\"line_alpha\":{\"value\":0.2},\"line_color\":{\"value\":\"#e5ae38\"},\"size\":{\"value\":5.477225575051661},\"x\":{\"field\":\"TotalCoinsMined\"},\"y\":{\"field\":\"TotalCoinSupply\"}},\"id\":\"3026\",\"type\":\"Scatter\"},{\"attributes\":{\"data_source\":{\"id\":\"3021\"},\"glyph\":{\"id\":\"3024\"},\"hover_glyph\":null,\"muted_glyph\":{\"id\":\"3026\"},\"nonselection_glyph\":{\"id\":\"3025\"},\"selection_glyph\":{\"id\":\"3044\"},\"view\":{\"id\":\"3028\"}},\"id\":\"3027\",\"type\":\"GlyphRenderer\"},{\"attributes\":{\"source\":{\"id\":\"3021\"}},\"id\":\"3028\",\"type\":\"CDSView\"},{\"attributes\":{},\"id\":\"2972\",\"type\":\"AllLabels\"},{\"attributes\":{},\"id\":\"2973\",\"type\":\"BasicTickFormatter\"},{\"attributes\":{},\"id\":\"3022\",\"type\":\"Selection\"},{\"attributes\":{},\"id\":\"2975\",\"type\":\"AllLabels\"},{\"attributes\":{},\"id\":\"2976\",\"type\":\"BasicTickFormatter\"},{\"attributes\":{\"fill_color\":{\"value\":\"#8b8b8b\"},\"line_color\":{\"value\":\"#8b8b8b\"},\"size\":{\"value\":5.477225575051661},\"x\":{\"field\":\"TotalCoinsMined\"},\"y\":{\"field\":\"TotalCoinSupply\"}},\"id\":\"3074\",\"type\":\"Scatter\"},{\"attributes\":{\"angle\":{\"value\":0.0},\"fill_alpha\":{\"value\":1.0},\"fill_color\":{\"value\":\"#6d904f\"},\"hatch_alpha\":{\"value\":1.0},\"hatch_color\":{\"value\":\"black\"},\"hatch_scale\":{\"value\":12.0},\"hatch_weight\":{\"value\":1.0},\"line_alpha\":{\"value\":1.0},\"line_cap\":{\"value\":\"butt\"},\"line_color\":{\"value\":\"#6d904f\"},\"line_dash\":{\"value\":[]},\"line_dash_offset\":{\"value\":0},\"line_join\":{\"value\":\"bevel\"},\"line_width\":{\"value\":1},\"marker\":{\"value\":\"circle\"},\"size\":{\"value\":5.477225575051661},\"x\":{\"field\":\"TotalCoinsMined\"},\"y\":{\"field\":\"TotalCoinSupply\"}},\"id\":\"3070\",\"type\":\"Scatter\"},{\"attributes\":{},\"id\":\"3042\",\"type\":\"UnionRenderers\"},{\"attributes\":{},\"id\":\"2960\",\"type\":\"PanTool\"},{\"attributes\":{\"text_color\":\"black\",\"text_font_size\":\"12pt\"},\"id\":\"2943\",\"type\":\"Title\"},{\"attributes\":{\"fill_color\":{\"value\":\"#fc4f30\"},\"line_color\":{\"value\":\"#fc4f30\"},\"size\":{\"value\":5.477225575051661},\"x\":{\"field\":\"TotalCoinsMined\"},\"y\":{\"field\":\"TotalCoinSupply\"}},\"id\":\"3002\",\"type\":\"Scatter\"},{\"attributes\":{\"end\":4224.0,\"reset_end\":4224.0,\"reset_start\":-384.0,\"start\":-384.0,\"tags\":[[[\"TotalCoinSupply\",\"TotalCoinSupply\",null]]]},\"id\":\"2936\",\"type\":\"Range1d\"},{\"attributes\":{\"fill_alpha\":{\"value\":0.2},\"fill_color\":{\"value\":\"#8b8b8b\"},\"line_alpha\":{\"value\":0.2},\"line_color\":{\"value\":\"#8b8b8b\"},\"size\":{\"value\":5.477225575051661},\"x\":{\"field\":\"TotalCoinsMined\"},\"y\":{\"field\":\"TotalCoinSupply\"}},\"id\":\"3076\",\"type\":\"Scatter\"},{\"attributes\":{\"angle\":{\"value\":0.0},\"fill_alpha\":{\"value\":1.0},\"fill_color\":{\"value\":\"#30a2da\"},\"hatch_alpha\":{\"value\":1.0},\"hatch_color\":{\"value\":\"black\"},\"hatch_scale\":{\"value\":12.0},\"hatch_weight\":{\"value\":1.0},\"line_alpha\":{\"value\":1.0},\"line_cap\":{\"value\":\"butt\"},\"line_color\":{\"value\":\"#30a2da\"},\"line_dash\":{\"value\":[]},\"line_dash_offset\":{\"value\":0},\"line_join\":{\"value\":\"bevel\"},\"line_width\":{\"value\":1},\"marker\":{\"value\":\"circle\"},\"size\":{\"value\":5.477225575051661},\"x\":{\"field\":\"TotalCoinsMined\"},\"y\":{\"field\":\"TotalCoinSupply\"}},\"id\":\"2998\",\"type\":\"Scatter\"},{\"attributes\":{\"callback\":null,\"renderers\":[{\"id\":\"2984\"},{\"id\":\"3005\"},{\"id\":\"3027\"},{\"id\":\"3051\"},{\"id\":\"3077\"}],\"tags\":[\"hv_created\"],\"tooltips\":[[\"Class\",\"@{Class}\"],[\"TotalCoinsMined\",\"@{TotalCoinsMined}\"],[\"TotalCoinSupply\",\"@{TotalCoinSupply}\"],[\"CoinName\",\"@{CoinName}\"]]},\"id\":\"2937\",\"type\":\"HoverTool\"},{\"attributes\":{\"angle\":{\"value\":0.0},\"fill_alpha\":{\"value\":1.0},\"fill_color\":{\"value\":\"#fc4f30\"},\"hatch_alpha\":{\"value\":1.0},\"hatch_color\":{\"value\":\"black\"},\"hatch_scale\":{\"value\":12.0},\"hatch_weight\":{\"value\":1.0},\"line_alpha\":{\"value\":1.0},\"line_cap\":{\"value\":\"butt\"},\"line_color\":{\"value\":\"#fc4f30\"},\"line_dash\":{\"value\":[]},\"line_dash_offset\":{\"value\":0},\"line_join\":{\"value\":\"bevel\"},\"line_width\":{\"value\":1},\"marker\":{\"value\":\"circle\"},\"size\":{\"value\":5.477225575051661},\"x\":{\"field\":\"TotalCoinsMined\"},\"y\":{\"field\":\"TotalCoinSupply\"}},\"id\":\"3020\",\"type\":\"Scatter\"},{\"attributes\":{\"end\":1919.5540718994284,\"reset_end\":1919.5540718994284,\"reset_start\":-78.88578333942905,\"start\":-78.88578333942905,\"tags\":[[[\"TotalCoinsMined\",\"TotalCoinsMined\",null]]]},\"id\":\"2935\",\"type\":\"Range1d\"},{\"attributes\":{\"margin\":[5,5,5,5],\"name\":\"HSpacer05769\",\"sizing_mode\":\"stretch_width\"},\"id\":\"2934\",\"type\":\"Spacer\"},{\"attributes\":{\"below\":[{\"id\":\"2951\"}],\"center\":[{\"id\":\"2954\"},{\"id\":\"2958\"}],\"height\":300,\"left\":[{\"id\":\"2955\"}],\"margin\":[5,5,5,5],\"min_border_bottom\":10,\"min_border_left\":10,\"min_border_right\":10,\"min_border_top\":10,\"renderers\":[{\"id\":\"2984\"},{\"id\":\"3005\"},{\"id\":\"3027\"},{\"id\":\"3051\"},{\"id\":\"3077\"}],\"right\":[{\"id\":\"2996\"}],\"sizing_mode\":\"fixed\",\"title\":{\"id\":\"2943\"},\"toolbar\":{\"id\":\"2965\"},\"width\":700,\"x_range\":{\"id\":\"2935\"},\"x_scale\":{\"id\":\"2947\"},\"y_range\":{\"id\":\"2936\"},\"y_scale\":{\"id\":\"2949\"}},\"id\":\"2942\",\"subtype\":\"Figure\",\"type\":\"Plot\"},{\"attributes\":{\"label\":{\"value\":\"1\"},\"renderers\":[{\"id\":\"3005\"}]},\"id\":\"3019\",\"type\":\"LegendItem\"},{\"attributes\":{\"children\":[{\"id\":\"2934\"},{\"id\":\"2942\"},{\"id\":\"3261\"}],\"margin\":[0,0,0,0],\"name\":\"Row05765\",\"tags\":[\"embedded\"]},\"id\":\"2933\",\"type\":\"Row\"},{\"attributes\":{\"fill_alpha\":{\"value\":0.1},\"fill_color\":{\"value\":\"#8b8b8b\"},\"line_alpha\":{\"value\":0.1},\"line_color\":{\"value\":\"#8b8b8b\"},\"size\":{\"value\":5.477225575051661},\"x\":{\"field\":\"TotalCoinsMined\"},\"y\":{\"field\":\"TotalCoinSupply\"}},\"id\":\"3075\",\"type\":\"Scatter\"},{\"attributes\":{\"data_source\":{\"id\":\"2999\"},\"glyph\":{\"id\":\"3002\"},\"hover_glyph\":null,\"muted_glyph\":{\"id\":\"3004\"},\"nonselection_glyph\":{\"id\":\"3003\"},\"selection_glyph\":{\"id\":\"3020\"},\"view\":{\"id\":\"3006\"}},\"id\":\"3005\",\"type\":\"GlyphRenderer\"},{\"attributes\":{\"data\":{\"Class\":[2.0],\"CoinName\":[\"LanaCoin\"],\"TotalCoinSupply\":{\"__ndarray__\":\"pHA9CtfDUkA=\",\"dtype\":\"float64\",\"order\":\"little\",\"shape\":[1]},\"TotalCoinsMined\":{\"__ndarray__\":\"U62rNaykJUA=\",\"dtype\":\"float64\",\"order\":\"little\",\"shape\":[1]}},\"selected\":{\"id\":\"3022\"},\"selection_policy\":{\"id\":\"3042\"}},\"id\":\"3021\",\"type\":\"ColumnDataSource\"},{\"attributes\":{\"fill_alpha\":{\"value\":0.2},\"fill_color\":{\"value\":\"#fc4f30\"},\"line_alpha\":{\"value\":0.2},\"line_color\":{\"value\":\"#fc4f30\"},\"size\":{\"value\":5.477225575051661},\"x\":{\"field\":\"TotalCoinsMined\"},\"y\":{\"field\":\"TotalCoinSupply\"}},\"id\":\"3004\",\"type\":\"Scatter\"},{\"attributes\":{},\"id\":\"3096\",\"type\":\"UnionRenderers\"},{\"attributes\":{\"axis_label\":\"TotalCoinsMined\",\"formatter\":{\"id\":\"2973\"},\"major_label_policy\":{\"id\":\"2972\"},\"ticker\":{\"id\":\"2952\"}},\"id\":\"2951\",\"type\":\"LinearAxis\"},{\"attributes\":{},\"id\":\"3072\",\"type\":\"Selection\"},{\"attributes\":{\"fill_alpha\":{\"value\":0.1},\"fill_color\":{\"value\":\"#fc4f30\"},\"line_alpha\":{\"value\":0.1},\"line_color\":{\"value\":\"#fc4f30\"},\"size\":{\"value\":5.477225575051661},\"x\":{\"field\":\"TotalCoinsMined\"},\"y\":{\"field\":\"TotalCoinSupply\"}},\"id\":\"3003\",\"type\":\"Scatter\"},{\"attributes\":{\"data\":{\"Class\":[0.0,0.0,0.0,0.0,0.0,0.0,0.0,0.0,0.0,0.0,0.0,0.0,0.0,0.0,0.0,0.0,0.0,0.0,0.0,0.0,0.0,0.0,0.0,0.0,0.0,0.0,0.0,0.0,0.0,0.0,0.0,0.0,0.0,0.0,0.0,0.0,0.0,0.0,0.0,0.0,0.0,0.0,0.0,0.0,0.0,0.0,0.0,0.0,0.0,0.0,0.0,0.0,0.0,0.0,0.0,0.0,0.0,0.0,0.0,0.0,0.0,0.0,0.0,0.0,0.0,0.0,0.0,0.0,0.0,0.0,0.0,0.0,0.0,0.0,0.0,0.0,0.0,0.0,0.0,0.0,0.0,0.0,0.0,0.0,0.0,0.0,0.0,0.0,0.0,0.0,0.0,0.0,0.0,0.0,0.0,0.0,0.0,0.0,0.0,0.0,0.0,0.0,0.0,0.0,0.0,0.0,0.0,0.0,0.0,0.0,0.0,0.0,0.0,0.0,0.0,0.0,0.0,0.0,0.0,0.0,0.0,0.0,0.0,0.0,0.0,0.0,0.0,0.0,0.0,0.0,0.0,0.0,0.0,0.0,0.0,0.0,0.0,0.0,0.0,0.0,0.0,0.0,0.0,0.0,0.0,0.0,0.0,0.0,0.0,0.0,0.0,0.0,0.0,0.0,0.0,0.0,0.0,0.0,0.0,0.0,0.0,0.0,0.0,0.0,0.0,0.0,0.0,0.0,0.0,0.0,0.0,0.0,0.0,0.0,0.0,0.0,0.0,0.0,0.0,0.0,0.0,0.0,0.0,0.0,0.0,0.0,0.0,0.0,0.0,0.0,0.0,0.0,0.0,0.0,0.0,0.0,0.0,0.0,0.0,0.0,0.0,0.0,0.0,0.0,0.0,0.0,0.0,0.0,0.0,0.0,0.0,0.0,0.0,0.0,0.0,0.0,0.0,0.0,0.0,0.0,0.0,0.0,0.0,0.0,0.0,0.0,0.0,0.0,0.0,0.0,0.0,0.0,0.0,0.0,0.0,0.0,0.0,0.0,0.0,0.0,0.0,0.0,0.0,0.0,0.0,0.0,0.0,0.0,0.0,0.0,0.0,0.0,0.0,0.0,0.0,0.0,0.0,0.0,0.0,0.0,0.0,0.0,0.0,0.0,0.0,0.0,0.0,0.0,0.0,0.0,0.0,0.0,0.0,0.0,0.0,0.0,0.0,0.0],\"CoinName\":[\"42 Coin\",\"nan\",\"nan\",\"Dash\",\"Ethereum Classic\",\"ZCash\",\"DigiByte\",\"nan\",\"PayCoin\",\"nan\",\"nan\",\"nan\",\"nan\",\"nan\",\"BlueCoin\",\"nan\",\"EnergyCoin\",\"QuarkCoin\",\"Digitalcoin \",\"nan\",\"nan\",\"CryptoBullion\",\"CannaCoin\",\"nan\",\"nan\",\"nan\",\"nan\",\"nan\",\"nan\",\"Diamond\",\"Verge\",\"nan\",\"EarthCoin\",\"E-Gulden\",\"nan\",\"nan\",\"nan\",\"nan\",\"FlutterCoin\",\"nan\",\"nan\",\"GlobalCoin\",\"GoldCoin\",\"nan\",\"nan\",\"nan\",\"nan\",\"HyperStake\",\"Infinite Coin\",\"IOCoin\",\"nan\",\"KrugerCoin\",\"nan\",\"nan\",\"MediterraneanCoin\",\"MintCoin\",\"nan\",\"nan\",\"NavCoin\",\"nan\",\"NobleCoin\",\"NyanCoin\",\"OpalCoin\",\"nan\",\"nan\",\"PhoenixCoin\",\"nan\",\"nan\",\"nan\",\"nan\",\"StableCoin\",\"nan\",\"nan\",\"nan\",\"SmartCoin\",\"nan\",\"nan\",\"nan\",\"nan\",\"SuperCoin\",\"SyncCoin\",\"SysCoin\",\"nan\",\"TigerCoin\",\"TittieCoin\",\"TerraCoin\",\"nan\",\"UnbreakableCoin\",\"UroCoin\",\"UltraCoin\",\"nan\",\"nan\",\"VeriCoin\",\"Vertcoin\",\"WorldCoin\",\"nan\",\"X11 Coin\",\"nan\",\"Crypti\",\"JouleCoin\",\"nan\",\"ByteCoin\",\"nan\",\"DigitalNote \",\"nan\",\"BurstCoin\",\"nan\",\"nan\",\"MonaCoin\",\"nan\",\"Neutron\",\"nan\",\"nan\",\"nan\",\"Gulden\",\"RubyCoin\",\"PesetaCoin\",\"Kore\",\"Wild Beast Coin\",\"nan\",\"8BIT Coin\",\"Sativa Coin\",\"nan\",\"nan\",\"ArtByte\",\"nan\",\"nan\",\"Folding Coin\",\"Unitus\",\"nan\",\"nan\",\"nan\",\"Vtorrent\",\"GreenCoin\",\"nan\",\"nan\",\"nan\",\"nan\",\"nan\",\"Cryptonite\",\"nan\",\"nan\",\"MasterCoin\",\"nan\",\"nan\",\"nan\",\"nan\",\"nan\",\"1Credit\",\"IslaCoin\",\"nan\",\"nan\",\"Nexus\",\"nan\",\"nan\",\"nan\",\"nan\",\"nan\",\"Anarchists Prime\",\"nan\",\"nan\",\"nan\",\"nan\",\"nan\",\"Song Coin\",\"nan\",\"nan\",\"Diggits\",\"nan\",\"Paycon\",\"Siacoin\",\"nan\",\"nan\",\"nan\",\"MindCoin\",\"I0coin\",\"Decred\",\"Hitcoin\",\"nan\",\"DubaiCoin\",\"CarpeDiemCoin\",\"BillaryCoin\",\"nan\",\"nan\",\"GPU Coin\",\"nan\",\"SoilCoin\",\"nan\",\"SibCoin\",\"EuropeCoin\",\"nan\",\"nan\",\"ZeitCoin\",\"SafeExchangeCoin\",\"nan\",\"nan\",\"BolivarCoin\",\"nan\",\"nan\",\"nan\",\"nan\",\"nan\",\"nan\",\"Revenu\",\"nan\",\"nan\",\"nan\",\"VIP Tokens\",\"nan\",\"nan\",\"nan\",\"nan\",\"BitSend\",\"nan\",\"nan\",\"nan\",\"nan\",\"nan\",\"PutinCoin\",\"nan\",\"iBankCoin\",\"nan\",\"nan\",\"nan\",\"nan\",\"MudraCoin\",\"PizzaCoin\",\"nan\",\"nan\",\"nan\",\"CarterCoin\",\"nan\",\"nan\",\"nan\",\"Karbo\",\"nan\",\"ZayedCoin\",\"nan\",\"nan\",\"nan\",\"DopeCoin\",\"nan\",\"nan\",\"nan\",\"nan\",\"nan\",\"Swiscoin\",\"nan\",\"Shilling\",\"BuzzCoin\",\"nan\",\"nan\",\"nan\",\"nan\",\"nan\",\"nan\",\"nan\",\"nan\",\"nan\",\"nan\",\"nan\",\"nan\",\"nan\",\"nan\",\"nan\",\"nan\",\"nan\",\"nan\",\"nan\",\"nan\",\"nan\",\"nan\",\"nan\",\"GanjaCoin V2\",\"nan\",\"Elementrem\",\"nan\",\"nan\"],\"TotalCoinSupply\":{\"__ndarray__\":\"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\",\"dtype\":\"float64\",\"order\":\"little\",\"shape\":[278]},\"TotalCoinsMined\":{\"__ndarray__\":\"GMELgYkvnD4AAAAAAAD4fwAAAAAAAPh/ZMbWw78etz9tFaujNiPyPyL+YUuP5rI/sgKu8fqDXEAAAAAAAAD4f9hOWD5Dtb4/AAAAAAAA+H8AAAAAAAD4fwAAAAAAAPh/AAAAAAAA+H8AAAAAAAD4f/je36C9ahlAAAAAAAAA+H9sW2D/prDzP/8cnBG7wwRA95wLmUxn1T8AAAAAAAD4fwAAAAAAAPh/3GjGwvZHhT/TV+cNeBWoPwAAAAAAAPh/AAAAAAAA+H8AAAAAAAD4fwAAAAAAAPh/AAAAAAAA+H8AAAAAAAD4f6Y7GRhC66A/oqAEJ3PpY0AAAAAAAAD4f5ueij/4WF9ASS0VGfLDyj8AAAAAAAD4fwAAAAAAAPh/AAAAAAAA+H8AAAAAAAD4f+oZFGMjeRJAAAAAAAAA+H8AAAAAAAD4fyLDU8XoA+U/fX3jVlqp2j8AAAAAAAD4fwAAAAAAAPh/AAAAAAAA+H8AAAAAAAD4f7dqO+0CyTBANhmWBalPjECZVVL72ZfGPwAAAAAAAPh/nodXtUs7+D8AAAAAAAD4fwAAAAAAAPh/MFDB/Vrg2T/a1ltfDp5qQAAAAAAAAPh/AAAAAAAA+H9a6R/c2iXlPwAAAAAAAPh/PkbSNiGpN0DiXipL2MYKQGPSof1vZsM/AAAAAAAA+H8AAAAAAAD4fxwVMGi+quc/AAAAAAAA+H8AAAAAAAD4fwAAAAAAAPh/AAAAAAAA+H9ku+Cr1P7OPwAAAAAAAPh/AAAAAAAA+H8AAAAAAAD4f+HS8iNHYdA/AAAAAAAA+H8AAAAAAAD4fwAAAAAAAPh/AAAAAAAA+H9Gbha++DngPy5NfHv4rug+GQFd8ZCIFkAAAAAAAAD4fzhlbr4R3ds/8r6H4yc5MEBdPLR2eFvNPwAAAAAAAPh/PbfQlQhUlz9ea0oNyLmIPzXuM7xEE+A/AAAAAAAA+H8AAAAAAAD4f5vDi6FWftQ//jvCxSZg4D/hInutGSPzPwAAAAAAAPh/XEBr8kvLsT8AAAAAAAD4fwAAAAAAAPA/qLvBdtQV2T8AAAAAAAD4f2vmuVOswpxAAAAAAAAA+H8y4mdQN0RRQAAAAAAAAPh/BmPp6F0hMkAAAAAAAAD4fwAAAAAAAPh/7ZDq/IHS5T8AAAAAAAD4f4c8vMayCdk/AAAAAAAA+H8AAAAAAAD4fwAAAAAAAPh/gDBLlu6ZEEAtd/oq6GXRP6fmtB65APY/ydHfNcW1lD/t/iABP85dPwAAAAAAAPh/rhtC17YPjj/r9Vkr+yqyPwAAAAAAAPh/AAAAAAAA+H+WeEDZlLMfQAAAAAAAAPh/AAAAAAAA+H9qeGl51MYcQOPcR+oU1uQ/AAAAAAAA+H8AAAAAAAD4fwAAAAAAAPh/YBSxRkW1vT8PNtRrPA1HQAAAAAAAAPh/AAAAAAAA+H8AAAAAAAD4fwAAAAAAAPh/AAAAAAAA+H9dHPBUG1ccQAAAAAAAAPh/AAAAAAAA+H80OhiYsl95PwAAAAAAAPh/AAAAAAAA+H8AAAAAAAD4fwAAAAAAAPh/AAAAAAAA+H+v4hrA1+dMPyXiEB4rAI8/AAAAAAAA+H8AAAAAAAD4f2JekanMXuQ/AAAAAAAA+H8AAAAAAAD4fwAAAAAAAPh/AAAAAAAA+H8AAAAAAAD4f2jKisxc4MI/AAAAAAAA+H8AAAAAAAD4fwAAAAAAAPh/AAAAAAAA+H8AAAAAAAD4f9EINq5/19Q/AAAAAAAA+H8AAAAAAAD4fwAAAAAAAPA/AAAAAAAA+H9YMPm4mX7NP6WJ0jm6r3RAAAAAAAAA+H8AAAAAAAD4fwAAAAAAAPh/94Nwu4ZPxD+TQCsGdODKPxmgx0/WiLo/cwvhwaR9W0AAAAAAAAD4f5KE0IOzQqo/LMQbgMosa0BhmkKXagm3PwAAAAAAAPh/AAAAAAAA+H+dcRIxwufZPwAAAAAAAPh/2rya0ckxrT8AAAAAAAD4f++fuC3bGMY/7yHPIYKkuj8AAAAAAAD4fwAAAAAAAPh/YxUX1GUbd0AcmQXijnk1QAAAAAAAAPh/AAAAAAAA+H9AN/J0K3rBPwAAAAAAAPh/AAAAAAAA+H8AAAAAAAD4fwAAAAAAAPh/AAAAAAAA+H8AAAAAAAD4f5DAH37+e4g/AAAAAAAA+H8AAAAAAAD4fwAAAAAAAPh/0l2ny0G06j8AAAAAAAD4fwAAAAAAAPh/AAAAAAAA+H8AAAAAAAD4f+Gwx5teN88/AAAAAAAA+H8AAAAAAAD4fwAAAAAAAPh/AAAAAAAA+H8AAAAAAAD4f6I22GMIQyBAAAAAAAAA+H+roQVPviynPwAAAAAAAPh/AAAAAAAA+H8AAAAAAAD4fwAAAAAAAPh/mpmZmZmZqT9c0SDkQDiMPwAAAAAAAPh/AAAAAAAA+H8AAAAAAAD4f47pCUs8oNs/AAAAAAAA+H8AAAAAAAD4fwAAAAAAAPh/fLRDb4IGtD8AAAAAAAD4fz91Bwzt968/AAAAAAAA+H8AAAAAAAD4fwAAAAAAAPh/DpaYBPux8j8AAAAAAAD4fwAAAAAAAPh/AAAAAAAA+H8AAAAAAAD4fwAAAAAAAPh/Un6UCaabGkAAAAAAAAD4f0OrkzMUd7w/J9AOVeR4aEAAAAAAAAD4fwAAAAAAAPh/AAAAAAAA+H8AAAAAAAD4fwAAAAAAAPh/AAAAAAAA+H8AAAAAAAD4fwAAAAAAAPh/AAAAAAAA+H8AAAAAAAD4fwAAAAAAAPh/AAAAAAAA+H8AAAAAAAD4fwAAAAAAAPh/AAAAAAAA+H8AAAAAAAD4fwAAAAAAAPh/AAAAAAAA+H8AAAAAAAD4fwAAAAAAAPh/AAAAAAAA+H8AAAAAAAD4fwAAAAAAAPh/AAAAAAAA8D8AAAAAAAD4f/iXcviDxdA/AAAAAAAA+H8AAAAAAAD4fw==\",\"dtype\":\"float64\",\"order\":\"little\",\"shape\":[278]}},\"selected\":{\"id\":\"2979\"},\"selection_policy\":{\"id\":\"2995\"}},\"id\":\"2978\",\"type\":\"ColumnDataSource\"},{\"attributes\":{\"source\":{\"id\":\"2999\"}},\"id\":\"3006\",\"type\":\"CDSView\"},{\"attributes\":{\"axis\":{\"id\":\"2955\"},\"dimension\":1,\"grid_line_color\":null,\"ticker\":null},\"id\":\"2958\",\"type\":\"Grid\"},{\"attributes\":{},\"id\":\"2949\",\"type\":\"LinearScale\"},{\"attributes\":{\"fill_color\":{\"value\":\"#30a2da\"},\"line_color\":{\"value\":\"#30a2da\"},\"size\":{\"value\":5.477225575051661},\"x\":{\"field\":\"TotalCoinsMined\"},\"y\":{\"field\":\"TotalCoinSupply\"}},\"id\":\"2981\",\"type\":\"Scatter\"},{\"attributes\":{},\"id\":\"2947\",\"type\":\"LinearScale\"},{\"attributes\":{},\"id\":\"3000\",\"type\":\"Selection\"},{\"attributes\":{},\"id\":\"2959\",\"type\":\"SaveTool\"},{\"attributes\":{\"angle\":{\"value\":0.0},\"fill_alpha\":{\"value\":1.0},\"fill_color\":{\"value\":\"#e5ae38\"},\"hatch_alpha\":{\"value\":1.0},\"hatch_color\":{\"value\":\"black\"},\"hatch_scale\":{\"value\":12.0},\"hatch_weight\":{\"value\":1.0},\"line_alpha\":{\"value\":1.0},\"line_cap\":{\"value\":\"butt\"},\"line_color\":{\"value\":\"#e5ae38\"},\"line_dash\":{\"value\":[]},\"line_dash_offset\":{\"value\":0},\"line_join\":{\"value\":\"bevel\"},\"line_width\":{\"value\":1},\"marker\":{\"value\":\"circle\"},\"size\":{\"value\":5.477225575051661},\"x\":{\"field\":\"TotalCoinsMined\"},\"y\":{\"field\":\"TotalCoinSupply\"}},\"id\":\"3044\",\"type\":\"Scatter\"},{\"attributes\":{},\"id\":\"2956\",\"type\":\"BasicTicker\"},{\"attributes\":{},\"id\":\"2952\",\"type\":\"BasicTicker\"},{\"attributes\":{},\"id\":\"2961\",\"type\":\"WheelZoomTool\"},{\"attributes\":{\"axis_label\":\"TotalCoinSupply\",\"formatter\":{\"id\":\"2976\"},\"major_label_policy\":{\"id\":\"2975\"},\"ticker\":{\"id\":\"2956\"}},\"id\":\"2955\",\"type\":\"LinearAxis\"},{\"attributes\":{\"label\":{\"value\":\"4\"},\"renderers\":[{\"id\":\"3077\"}]},\"id\":\"3097\",\"type\":\"LegendItem\"},{\"attributes\":{\"overlay\":{\"id\":\"2964\"}},\"id\":\"2962\",\"type\":\"BoxZoomTool\"},{\"attributes\":{},\"id\":\"3018\",\"type\":\"UnionRenderers\"},{\"attributes\":{},\"id\":\"2963\",\"type\":\"ResetTool\"},{\"attributes\":{\"active_multi\":null,\"tools\":[{\"id\":\"2937\"},{\"id\":\"2959\"},{\"id\":\"2960\"},{\"id\":\"2961\"},{\"id\":\"2962\"},{\"id\":\"2963\"}]},\"id\":\"2965\",\"type\":\"Toolbar\"},{\"attributes\":{\"fill_color\":{\"value\":\"#6d904f\"},\"line_color\":{\"value\":\"#6d904f\"},\"size\":{\"value\":5.477225575051661},\"x\":{\"field\":\"TotalCoinsMined\"},\"y\":{\"field\":\"TotalCoinSupply\"}},\"id\":\"3048\",\"type\":\"Scatter\"},{\"attributes\":{\"click_policy\":\"mute\",\"items\":[{\"id\":\"2997\"},{\"id\":\"3019\"},{\"id\":\"3043\"},{\"id\":\"3069\"},{\"id\":\"3097\"}],\"location\":[0,0],\"title\":\"Class\"},\"id\":\"2996\",\"type\":\"Legend\"},{\"attributes\":{\"data\":{\"Class\":[4.0,4.0,4.0,4.0,4.0,4.0,4.0,4.0,4.0,4.0,4.0,4.0,4.0,4.0,4.0,4.0],\"CoinName\":[\"404Coin\",\"nan\",\"FeatherCoin\",\"nan\",\"Crypto\",\"Droidz\",\"Gamecredits\",\"nan\",\"nan\",\"nan\",\"nan\",\"nan\",\"nan\",\"nan\",\"nan\",\"nan\"],\"TotalCoinSupply\":{\"__ndarray__\":\"SOF6FK5HFUAAAAAAAAD4f+F6FK5H4QpAAAAAAAAA+H/GpSptcQ3lP2PuWkI+6Kk/4XoUrkfh6j8AAAAAAAD4fwAAAAAAAPh/AAAAAAAA+H8AAAAAAAD4fwAAAAAAAPh/AAAAAAAA+H8AAAAAAAD4fwAAAAAAAPh/AAAAAAAA+H8=\",\"dtype\":\"float64\",\"order\":\"little\",\"shape\":[16]},\"TotalCoinsMined\":{\"__ndarray__\":\"MOVt9IsaJUAAAAAAAAD4f6lVrAOLsQBAAAAAAAAA+H88ZVZrOJfBPxBecU0m77U/zqj5KvlY5j8AAAAAAAD4fwAAAAAAAPh/AAAAAAAA+H8AAAAAAAD4fwAAAAAAAPh/AAAAAAAA+H8AAAAAAAD4fwAAAAAAAPh/AAAAAAAA+H8=\",\"dtype\":\"float64\",\"order\":\"little\",\"shape\":[16]}},\"selected\":{\"id\":\"3072\"},\"selection_policy\":{\"id\":\"3096\"}},\"id\":\"3071\",\"type\":\"ColumnDataSource\"},{\"attributes\":{\"label\":{\"value\":\"3\"},\"renderers\":[{\"id\":\"3051\"}]},\"id\":\"3069\",\"type\":\"LegendItem\"},{\"attributes\":{\"source\":{\"id\":\"2978\"}},\"id\":\"2985\",\"type\":\"CDSView\"},{\"attributes\":{\"data_source\":{\"id\":\"2978\"},\"glyph\":{\"id\":\"2981\"},\"hover_glyph\":null,\"muted_glyph\":{\"id\":\"2983\"},\"nonselection_glyph\":{\"id\":\"2982\"},\"selection_glyph\":{\"id\":\"2998\"},\"view\":{\"id\":\"2985\"}},\"id\":\"2984\",\"type\":\"GlyphRenderer\"},{\"attributes\":{},\"id\":\"2995\",\"type\":\"UnionRenderers\"},{\"attributes\":{\"fill_alpha\":{\"value\":0.2},\"fill_color\":{\"value\":\"#30a2da\"},\"line_alpha\":{\"value\":0.2},\"line_color\":{\"value\":\"#30a2da\"},\"size\":{\"value\":5.477225575051661},\"x\":{\"field\":\"TotalCoinsMined\"},\"y\":{\"field\":\"TotalCoinSupply\"}},\"id\":\"2983\",\"type\":\"Scatter\"},{\"attributes\":{\"source\":{\"id\":\"3045\"}},\"id\":\"3052\",\"type\":\"CDSView\"},{\"attributes\":{\"label\":{\"value\":\"0\"},\"renderers\":[{\"id\":\"2984\"}]},\"id\":\"2997\",\"type\":\"LegendItem\"},{\"attributes\":{\"fill_alpha\":{\"value\":0.2},\"fill_color\":{\"value\":\"#6d904f\"},\"line_alpha\":{\"value\":0.2},\"line_color\":{\"value\":\"#6d904f\"},\"size\":{\"value\":5.477225575051661},\"x\":{\"field\":\"TotalCoinsMined\"},\"y\":{\"field\":\"TotalCoinSupply\"}},\"id\":\"3050\",\"type\":\"Scatter\"},{\"attributes\":{\"fill_alpha\":{\"value\":0.1},\"fill_color\":{\"value\":\"#30a2da\"},\"line_alpha\":{\"value\":0.1},\"line_color\":{\"value\":\"#30a2da\"},\"size\":{\"value\":5.477225575051661},\"x\":{\"field\":\"TotalCoinsMined\"},\"y\":{\"field\":\"TotalCoinSupply\"}},\"id\":\"2982\",\"type\":\"Scatter\"},{\"attributes\":{\"fill_alpha\":{\"value\":0.1},\"fill_color\":{\"value\":\"#6d904f\"},\"line_alpha\":{\"value\":0.1},\"line_color\":{\"value\":\"#6d904f\"},\"size\":{\"value\":5.477225575051661},\"x\":{\"field\":\"TotalCoinsMined\"},\"y\":{\"field\":\"TotalCoinSupply\"}},\"id\":\"3049\",\"type\":\"Scatter\"},{\"attributes\":{\"data_source\":{\"id\":\"3045\"},\"glyph\":{\"id\":\"3048\"},\"hover_glyph\":null,\"muted_glyph\":{\"id\":\"3050\"},\"nonselection_glyph\":{\"id\":\"3049\"},\"selection_glyph\":{\"id\":\"3070\"},\"view\":{\"id\":\"3052\"}},\"id\":\"3051\",\"type\":\"GlyphRenderer\"},{\"attributes\":{\"angle\":{\"value\":0.0},\"fill_alpha\":{\"value\":1.0},\"fill_color\":{\"value\":\"#8b8b8b\"},\"hatch_alpha\":{\"value\":1.0},\"hatch_color\":{\"value\":\"black\"},\"hatch_scale\":{\"value\":12.0},\"hatch_weight\":{\"value\":1.0},\"line_alpha\":{\"value\":1.0},\"line_cap\":{\"value\":\"butt\"},\"line_color\":{\"value\":\"#8b8b8b\"},\"line_dash\":{\"value\":[]},\"line_dash_offset\":{\"value\":0},\"line_join\":{\"value\":\"bevel\"},\"line_width\":{\"value\":1},\"marker\":{\"value\":\"circle\"},\"size\":{\"value\":5.477225575051661},\"x\":{\"field\":\"TotalCoinsMined\"},\"y\":{\"field\":\"TotalCoinSupply\"}},\"id\":\"3098\",\"type\":\"Scatter\"},{\"attributes\":{\"data\":{\"Class\":[3.0,3.0,3.0,3.0],\"CoinName\":[\"nan\",\"nan\",\"nan\",\"TeamUP\"],\"TotalCoinSupply\":{\"__ndarray__\":\"AAAAAAAA+H8AAAAAAAD4fwAAAAAAAPh/FK5H4XoUCEA=\",\"dtype\":\"float64\",\"order\":\"little\",\"shape\":[4]},\"TotalCoinsMined\":{\"__ndarray__\":\"AAAAAAAA+H8AAAAAAAD4fwAAAAAAAPh/u4LKZdPOxj8=\",\"dtype\":\"float64\",\"order\":\"little\",\"shape\":[4]}},\"selected\":{\"id\":\"3046\"},\"selection_policy\":{\"id\":\"3068\"}},\"id\":\"3045\",\"type\":\"ColumnDataSource\"},{\"attributes\":{\"data\":{\"Class\":[1.0,1.0,1.0,1.0,1.0,1.0,1.0,1.0,1.0,1.0,1.0,1.0,1.0,1.0,1.0,1.0,1.0,1.0,1.0,1.0,1.0,1.0,1.0,1.0,1.0,1.0,1.0,1.0,1.0,1.0,1.0,1.0,1.0,1.0,1.0,1.0,1.0,1.0,1.0,1.0,1.0,1.0,1.0,1.0,1.0,1.0,1.0,1.0,1.0,1.0,1.0,1.0,1.0,1.0,1.0,1.0,1.0,1.0,1.0,1.0,1.0,1.0,1.0,1.0,1.0,1.0,1.0,1.0,1.0,1.0,1.0,1.0,1.0,1.0,1.0,1.0,1.0,1.0,1.0,1.0,1.0,1.0,1.0,1.0,1.0,1.0,1.0,1.0,1.0,1.0,1.0,1.0,1.0,1.0,1.0,1.0,1.0,1.0,1.0,1.0,1.0,1.0,1.0,1.0,1.0,1.0,1.0,1.0,1.0,1.0,1.0,1.0,1.0,1.0,1.0,1.0,1.0,1.0,1.0,1.0,1.0,1.0,1.0,1.0,1.0,1.0,1.0,1.0,1.0,1.0,1.0,1.0,1.0,1.0,1.0,1.0,1.0,1.0,1.0,1.0,1.0,1.0,1.0,1.0,1.0,1.0,1.0,1.0,1.0,1.0,1.0,1.0,1.0,1.0,1.0,1.0,1.0,1.0,1.0,1.0,1.0,1.0,1.0,1.0,1.0,1.0,1.0,1.0,1.0,1.0,1.0,1.0,1.0,1.0,1.0,1.0,1.0,1.0,1.0,1.0,1.0,1.0,1.0,1.0,1.0,1.0,1.0,1.0,1.0,1.0,1.0,1.0,1.0,1.0,1.0,1.0,1.0,1.0,1.0,1.0,1.0,1.0,1.0,1.0,1.0,1.0,1.0,1.0,1.0,1.0,1.0,1.0,1.0,1.0,1.0,1.0,1.0,1.0,1.0,1.0,1.0,1.0,1.0,1.0,1.0,1.0,1.0,1.0,1.0,1.0,1.0,1.0,1.0],\"CoinName\":[\"nan\",\"nan\",\"EliteCoin\",\"Bitcoin\",\"Ethereum\",\"Litecoin\",\"Monero\",\"Bitshares\",\"BitcoinDark\",\"nan\",\"ProsperCoin\",\"nan\",\"nan\",\"KoboCoin\",\"nan\",\"Spreadcoin\",\"nan\",\"nan\",\"nan\",\"nan\",\"nan\",\"Argentum\",\"nan\",\"Aurora Coin\",\"nan\",\"nan\",\"MyriadCoin\",\"MoonCoin\",\"ZetaCoin\",\"SexCoin\",\"Quatloo\",\"Riecoin\",\"nan\",\"BitBar\",\"nan\",\"nan\",\"nan\",\"nan\",\"Catcoin\",\"nan\",\"nan\",\"nan\",\"CryptCoin\",\"CasinoCoin\",\"nan\",\"nan\",\"DevCoin\",\"nan\",\"Einsteinium\",\"Emerald\",\"Exclusive Coin\",\"nan\",\"nan\",\"nan\",\"Franko\",\"GrandCoin\",\"nan\",\"nan\",\"HoboNickels\",\"nan\",\"nan\",\"IXcoin\",\"nan\",\"nan\",\"nan\",\"nan\",\"nan\",\"LuckyCoin\",\"nan\",\"Litebar \",\"nan\",\"nan\",\"MaxCoin\",\"MegaCoin\",\"nan\",\"nan\",\"MinCoin\",\"MazaCoin\",\"Nautilus Coin\",\"nan\",\"nan\",\"nan\",\"Namecoin\",\"Orbitcoin\",\"PotCoin\",\"Reddcoin\",\"nan\",\"RonPaulCoin\",\"nan\",\"nan\",\"nan\",\"nan\",\"nan\",\"TeslaCoin\",\"TorCoin\",\"nan\",\"Unobtanium\",\"UnitaryStatus Dollar\",\"nan\",\"ViaCoin\",\"nan\",\"nan\",\"StealthCoin\",\"ZCC Coin\",\"nan\",\"StorjCoin\",\"FairCoin\",\"Dnotes\",\"Flo\",\"nan\",\"nan\",\"nan\",\"nan\",\"nan\",\"Ucoin\",\"CypherPunkCoin\",\"nan\",\"OmniCron\",\"nan\",\"nan\",\"nan\",\"nan\",\"SoonCoin\",\"nan\",\"nan\",\"nan\",\"nan\",\"nan\",\"nan\",\"nan\",\"nan\",\"nan\",\"MarsCoin \",\"nan\",\"nan\",\"nan\",\"nan\",\"nan\",\"BowsCoin\",\"nan\",\"nan\",\"Squall Coin\",\"nan\",\"nan\",\"nan\",\"nan\",\"nan\",\"BitZeny\",\"Expanse\",\"Emercoin\",\"EverGreenCoin\",\"nan\",\"Revolution VR\",\"HOdlcoin\",\"EDRCoin\",\"nan\",\"nan\",\"PWR Coin\",\"nan\",\"nan\",\"nan\",\"nan\",\"Adzcoin\",\"nan\",\"nan\",\"YoCoin\",\"nan\",\"nan\",\"nan\",\"nan\",\"SwingCoin\",\"Nebuchadnezzar\",\"nan\",\"Francs\",\"nan\",\"nan\",\"nan\",\"nan\",\"nan\",\"nan\",\"Ratecoin\",\"nan\",\"nan\",\"nan\",\"Clockcoin\",\"nan\",\"nan\",\"nan\",\"nan\",\"nan\",\"nan\",\"nan\",\"nan\",\"Omni\",\"Let it Ride\",\"nan\",\"nan\",\"Frankywillcoin\",\"Lutetium Coin\",\"Komodo\",\"GoldBlocks\",\"nan\",\"nan\",\"nan\",\"BitTokens\",\"MustangCoin\",\"ZoneCoin\",\"Circuits of Value\",\"RootCoin\",\"nan\",\"nan\",\"nan\",\"nan\",\"nan\",\"BitCurrency\",\"DollarCoin\",\"nan\",\"Opair\",\"PesoBit\",\"nan\",\"nan\",\"Halloween Coin\",\"nan\",\"nan\",\"nan\",\"ZCoin\",\"nan\",\"CoffeeCoin\",\"RoyalCoin\",\"nan\",\"nan\",\"nan\",\"nan\"],\"TotalCoinSupply\":{\"__ndarray__\":\"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\",\"dtype\":\"float64\",\"order\":\"little\",\"shape\":[233]},\"TotalCoinsMined\":{\"__ndarray__\":\"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\",\"dtype\":\"float64\",\"order\":\"little\",\"shape\":[233]}},\"selected\":{\"id\":\"3000\"},\"selection_policy\":{\"id\":\"3018\"}},\"id\":\"2999\",\"type\":\"ColumnDataSource\"},{\"attributes\":{},\"id\":\"2979\",\"type\":\"Selection\"},{\"attributes\":{},\"id\":\"3046\",\"type\":\"Selection\"},{\"attributes\":{\"bottom_units\":\"screen\",\"fill_alpha\":0.5,\"fill_color\":\"lightgrey\",\"left_units\":\"screen\",\"level\":\"overlay\",\"line_alpha\":1.0,\"line_color\":\"black\",\"line_dash\":[4,4],\"line_width\":2,\"right_units\":\"screen\",\"syncable\":false,\"top_units\":\"screen\"},\"id\":\"2964\",\"type\":\"BoxAnnotation\"}],\"root_ids\":[\"2933\"]},\"title\":\"Bokeh Application\",\"version\":\"2.3.0\"}};\n",
       "    var render_items = [{\"docid\":\"f31daea3-fb0d-41dd-8127-6d8f3fa8049d\",\"root_ids\":[\"2933\"],\"roots\":{\"2933\":\"e635f549-5fa2-4140-980b-9817211f2c98\"}}];\n",
       "    root.Bokeh.embed.embed_items_notebook(docs_json, render_items);\n",
       "  }\n",
       "  if (root.Bokeh !== undefined && root.Bokeh.Panel !== undefined) {\n",
       "    embed_document(root);\n",
       "  } else {\n",
       "    var attempts = 0;\n",
       "    var timer = setInterval(function(root) {\n",
       "      if (root.Bokeh !== undefined && root.Bokeh.Panel !== undefined) {\n",
       "        clearInterval(timer);\n",
       "        embed_document(root);\n",
       "      } else if (document.readyState == \"complete\") {\n",
       "        attempts++;\n",
       "        if (attempts > 100) {\n",
       "          clearInterval(timer);\n",
       "          console.log(\"Bokeh: ERROR: Unable to run BokehJS code because BokehJS library is missing\");\n",
       "        }\n",
       "      }\n",
       "    }, 10, root)\n",
       "  }\n",
       "})(window);</script>"
      ],
      "text/plain": [
       ":NdOverlay   [Class]\n",
       "   :Scatter   [TotalCoinsMined]   (TotalCoinSupply,CoinName)"
      ]
     },
     "execution_count": 346,
     "metadata": {
      "application/vnd.holoviews_exec.v0+json": {
       "id": "2933"
      }
     },
     "output_type": "execute_result"
    }
   ],
   "source": [
    "# Plot the scatter with x=\"TotalCoinsMined\" and y=\"TotalCoinSupply\"\n",
    "cluster_df.hvplot(\n",
    "    kind = 'scatter',\n",
    "    x = 'TotalCoinsMined',\n",
    "    y = 'TotalCoinSupply',\n",
    "    hover_cols = ['CoinName'],\n",
    "    by = 'Class'\n",
    ")"
   ]
  },
  {
   "cell_type": "code",
   "execution_count": null,
   "metadata": {},
   "outputs": [],
   "source": []
  },
  {
   "cell_type": "code",
   "execution_count": null,
   "metadata": {},
   "outputs": [],
   "source": []
  }
 ],
 "metadata": {
  "file_extension": ".py",
  "kernelspec": {
   "display_name": "Python 3",
   "language": "python",
   "name": "python3"
  },
  "language_info": {
   "codemirror_mode": {
    "name": "ipython",
    "version": 3
   },
   "file_extension": ".py",
   "mimetype": "text/x-python",
   "name": "python",
   "nbconvert_exporter": "python",
   "pygments_lexer": "ipython3",
   "version": "3.8.5"
  },
  "mimetype": "text/x-python",
  "name": "python",
  "npconvert_exporter": "python",
  "pygments_lexer": "ipython3",
  "version": 3
 },
 "nbformat": 4,
 "nbformat_minor": 4
}
